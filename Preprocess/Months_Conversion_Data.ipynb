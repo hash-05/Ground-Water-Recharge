{
  "nbformat": 4,
  "nbformat_minor": 0,
  "metadata": {
    "colab": {
      "provenance": []
    },
    "kernelspec": {
      "name": "python3",
      "display_name": "Python 3"
    },
    "language_info": {
      "name": "python"
    }
  },
  "cells": [
    {
      "cell_type": "code",
      "execution_count": null,
      "metadata": {
        "id": "Hv8QvIcml5hG"
      },
      "outputs": [],
      "source": [
        "import numpy as np\n",
        "import pandas as pd\n",
        "import datetime"
      ]
    },
    {
      "cell_type": "code",
      "source": [
        "leap_years=[1988,1992,1996,2000,2004,2008,2012,2016]\n",
        "gf=pd.DataFrame()\n",
        "for i in range(1986,2020):\n",
        "  days=365\n",
        "  if i in leap_years:\n",
        "    days=366\n",
        "  df=pd.read_excel('/content/'+str(i)+'.xlsx') # importing datset\n",
        "  \n",
        "  test_date = datetime.datetime.strptime(\"01-01-\"+str(i), \"%d-%m-%Y\")    # Date generation\n",
        "  date_generated = pd.date_range(test_date, periods=days)\n",
        "  Columns=list(df.columns[:4])\n",
        "  Columns.extend(list(date_generated.strftime(\"%B\")))\n",
        "  # print(Columns)\n",
        "  df.columns=Columns                #Renaming Columns\n",
        "\n",
        "  df1=df.transpose()\n",
        "  df1=df1.reset_index()\n",
        "  df2=df1.drop(df.index[0:4],axis=0)\n",
        "  df2=df2.groupby(df2['index']).mean()\n",
        "  df3=df2.transpose()\n",
        "  \n",
        "  df3.drop(['April', 'December', 'February', 'January',\n",
        "       'March', 'May', 'November'],inplace=True,axis=1)\n",
        "  df3.columns=['August_'+str(i),'July_'+str(i),'June_'+str(i),'October_'+str(i),'September_'+str(i)]\n",
        "  gf=pd.concat([gf,df3],axis=1)\n",
        "  df3.to_excel('output_'+str(i)+\".xlsx\")\n",
        "  "
      ],
      "metadata": {
        "id": "umKh6pedK4er"
      },
      "execution_count": null,
      "outputs": []
    },
    {
      "cell_type": "code",
      "source": [
        "gf.to_excel('T_min.xlsx')"
      ],
      "metadata": {
        "id": "MR4nF3OT5Kyb"
      },
      "execution_count": null,
      "outputs": []
    },
    {
      "cell_type": "code",
      "source": [
        "df=pd.read_excel('/content/1986.xlsx')"
      ],
      "metadata": {
        "id": "qBETCgaUocla"
      },
      "execution_count": null,
      "outputs": []
    },
    {
      "cell_type": "code",
      "source": [
        "df.shape"
      ],
      "metadata": {
        "colab": {
          "base_uri": "https://localhost:8080/"
        },
        "id": "GODtMppnNo_b",
        "outputId": "e8be6bb3-207c-426f-c9d5-c98369b37c2a"
      },
      "execution_count": null,
      "outputs": [
        {
          "output_type": "execute_result",
          "data": {
            "text/plain": [
              "(4, 369)"
            ]
          },
          "metadata": {},
          "execution_count": 165
        }
      ]
    },
    {
      "cell_type": "code",
      "source": [
        "df.head()"
      ],
      "metadata": {
        "colab": {
          "base_uri": "https://localhost:8080/",
          "height": 204
        },
        "id": "LWWtbd2krSVd",
        "outputId": "8827e523-8eff-4046-98f2-ffef9ed2a898"
      },
      "execution_count": null,
      "outputs": [
        {
          "output_type": "execute_result",
          "data": {
            "text/plain": [
              "   OBJECTID * Shape *     X     Y     1     2     3     4     5     6  ...  \\\n",
              "0           1   Point  74.5  30.5  4.53  3.91  2.23  1.65  1.43  1.25  ...   \n",
              "1           2   Point  75.5  30.5  4.56  3.84  2.69  2.32  2.38  2.51  ...   \n",
              "2           3   Point  76.5  30.5  5.03  3.92  3.43  3.01  3.23  3.65  ...   \n",
              "3           4   Point  75.5  31.5  3.69  3.10  2.44  2.12  2.97  2.91  ...   \n",
              "\n",
              "    356   357   358   359   360   361   362   363   364   365  \n",
              "0  4.02  2.50  2.82  3.28  2.57  2.00  2.73  3.84  2.13  2.18  \n",
              "1  4.23  2.82  2.81  3.66  3.12  2.69  3.03  4.35  2.18  2.36  \n",
              "2  4.59  3.28  3.23  4.01  3.69  3.58  3.10  4.32  3.45  2.63  \n",
              "3  5.12  3.15  3.57  3.78  3.24  3.15  3.30  4.85  2.91  2.68  \n",
              "\n",
              "[4 rows x 369 columns]"
            ],
            "text/html": [
              "\n",
              "  <div id=\"df-47ce3400-75e2-4110-bc2c-cbf0280250db\">\n",
              "    <div class=\"colab-df-container\">\n",
              "      <div>\n",
              "<style scoped>\n",
              "    .dataframe tbody tr th:only-of-type {\n",
              "        vertical-align: middle;\n",
              "    }\n",
              "\n",
              "    .dataframe tbody tr th {\n",
              "        vertical-align: top;\n",
              "    }\n",
              "\n",
              "    .dataframe thead th {\n",
              "        text-align: right;\n",
              "    }\n",
              "</style>\n",
              "<table border=\"1\" class=\"dataframe\">\n",
              "  <thead>\n",
              "    <tr style=\"text-align: right;\">\n",
              "      <th></th>\n",
              "      <th>OBJECTID *</th>\n",
              "      <th>Shape *</th>\n",
              "      <th>X</th>\n",
              "      <th>Y</th>\n",
              "      <th>1</th>\n",
              "      <th>2</th>\n",
              "      <th>3</th>\n",
              "      <th>4</th>\n",
              "      <th>5</th>\n",
              "      <th>6</th>\n",
              "      <th>...</th>\n",
              "      <th>356</th>\n",
              "      <th>357</th>\n",
              "      <th>358</th>\n",
              "      <th>359</th>\n",
              "      <th>360</th>\n",
              "      <th>361</th>\n",
              "      <th>362</th>\n",
              "      <th>363</th>\n",
              "      <th>364</th>\n",
              "      <th>365</th>\n",
              "    </tr>\n",
              "  </thead>\n",
              "  <tbody>\n",
              "    <tr>\n",
              "      <th>0</th>\n",
              "      <td>1</td>\n",
              "      <td>Point</td>\n",
              "      <td>74.5</td>\n",
              "      <td>30.5</td>\n",
              "      <td>4.53</td>\n",
              "      <td>3.91</td>\n",
              "      <td>2.23</td>\n",
              "      <td>1.65</td>\n",
              "      <td>1.43</td>\n",
              "      <td>1.25</td>\n",
              "      <td>...</td>\n",
              "      <td>4.02</td>\n",
              "      <td>2.50</td>\n",
              "      <td>2.82</td>\n",
              "      <td>3.28</td>\n",
              "      <td>2.57</td>\n",
              "      <td>2.00</td>\n",
              "      <td>2.73</td>\n",
              "      <td>3.84</td>\n",
              "      <td>2.13</td>\n",
              "      <td>2.18</td>\n",
              "    </tr>\n",
              "    <tr>\n",
              "      <th>1</th>\n",
              "      <td>2</td>\n",
              "      <td>Point</td>\n",
              "      <td>75.5</td>\n",
              "      <td>30.5</td>\n",
              "      <td>4.56</td>\n",
              "      <td>3.84</td>\n",
              "      <td>2.69</td>\n",
              "      <td>2.32</td>\n",
              "      <td>2.38</td>\n",
              "      <td>2.51</td>\n",
              "      <td>...</td>\n",
              "      <td>4.23</td>\n",
              "      <td>2.82</td>\n",
              "      <td>2.81</td>\n",
              "      <td>3.66</td>\n",
              "      <td>3.12</td>\n",
              "      <td>2.69</td>\n",
              "      <td>3.03</td>\n",
              "      <td>4.35</td>\n",
              "      <td>2.18</td>\n",
              "      <td>2.36</td>\n",
              "    </tr>\n",
              "    <tr>\n",
              "      <th>2</th>\n",
              "      <td>3</td>\n",
              "      <td>Point</td>\n",
              "      <td>76.5</td>\n",
              "      <td>30.5</td>\n",
              "      <td>5.03</td>\n",
              "      <td>3.92</td>\n",
              "      <td>3.43</td>\n",
              "      <td>3.01</td>\n",
              "      <td>3.23</td>\n",
              "      <td>3.65</td>\n",
              "      <td>...</td>\n",
              "      <td>4.59</td>\n",
              "      <td>3.28</td>\n",
              "      <td>3.23</td>\n",
              "      <td>4.01</td>\n",
              "      <td>3.69</td>\n",
              "      <td>3.58</td>\n",
              "      <td>3.10</td>\n",
              "      <td>4.32</td>\n",
              "      <td>3.45</td>\n",
              "      <td>2.63</td>\n",
              "    </tr>\n",
              "    <tr>\n",
              "      <th>3</th>\n",
              "      <td>4</td>\n",
              "      <td>Point</td>\n",
              "      <td>75.5</td>\n",
              "      <td>31.5</td>\n",
              "      <td>3.69</td>\n",
              "      <td>3.10</td>\n",
              "      <td>2.44</td>\n",
              "      <td>2.12</td>\n",
              "      <td>2.97</td>\n",
              "      <td>2.91</td>\n",
              "      <td>...</td>\n",
              "      <td>5.12</td>\n",
              "      <td>3.15</td>\n",
              "      <td>3.57</td>\n",
              "      <td>3.78</td>\n",
              "      <td>3.24</td>\n",
              "      <td>3.15</td>\n",
              "      <td>3.30</td>\n",
              "      <td>4.85</td>\n",
              "      <td>2.91</td>\n",
              "      <td>2.68</td>\n",
              "    </tr>\n",
              "  </tbody>\n",
              "</table>\n",
              "<p>4 rows × 369 columns</p>\n",
              "</div>\n",
              "      <button class=\"colab-df-convert\" onclick=\"convertToInteractive('df-47ce3400-75e2-4110-bc2c-cbf0280250db')\"\n",
              "              title=\"Convert this dataframe to an interactive table.\"\n",
              "              style=\"display:none;\">\n",
              "        \n",
              "  <svg xmlns=\"http://www.w3.org/2000/svg\" height=\"24px\"viewBox=\"0 0 24 24\"\n",
              "       width=\"24px\">\n",
              "    <path d=\"M0 0h24v24H0V0z\" fill=\"none\"/>\n",
              "    <path d=\"M18.56 5.44l.94 2.06.94-2.06 2.06-.94-2.06-.94-.94-2.06-.94 2.06-2.06.94zm-11 1L8.5 8.5l.94-2.06 2.06-.94-2.06-.94L8.5 2.5l-.94 2.06-2.06.94zm10 10l.94 2.06.94-2.06 2.06-.94-2.06-.94-.94-2.06-.94 2.06-2.06.94z\"/><path d=\"M17.41 7.96l-1.37-1.37c-.4-.4-.92-.59-1.43-.59-.52 0-1.04.2-1.43.59L10.3 9.45l-7.72 7.72c-.78.78-.78 2.05 0 2.83L4 21.41c.39.39.9.59 1.41.59.51 0 1.02-.2 1.41-.59l7.78-7.78 2.81-2.81c.8-.78.8-2.07 0-2.86zM5.41 20L4 18.59l7.72-7.72 1.47 1.35L5.41 20z\"/>\n",
              "  </svg>\n",
              "      </button>\n",
              "      \n",
              "  <style>\n",
              "    .colab-df-container {\n",
              "      display:flex;\n",
              "      flex-wrap:wrap;\n",
              "      gap: 12px;\n",
              "    }\n",
              "\n",
              "    .colab-df-convert {\n",
              "      background-color: #E8F0FE;\n",
              "      border: none;\n",
              "      border-radius: 50%;\n",
              "      cursor: pointer;\n",
              "      display: none;\n",
              "      fill: #1967D2;\n",
              "      height: 32px;\n",
              "      padding: 0 0 0 0;\n",
              "      width: 32px;\n",
              "    }\n",
              "\n",
              "    .colab-df-convert:hover {\n",
              "      background-color: #E2EBFA;\n",
              "      box-shadow: 0px 1px 2px rgba(60, 64, 67, 0.3), 0px 1px 3px 1px rgba(60, 64, 67, 0.15);\n",
              "      fill: #174EA6;\n",
              "    }\n",
              "\n",
              "    [theme=dark] .colab-df-convert {\n",
              "      background-color: #3B4455;\n",
              "      fill: #D2E3FC;\n",
              "    }\n",
              "\n",
              "    [theme=dark] .colab-df-convert:hover {\n",
              "      background-color: #434B5C;\n",
              "      box-shadow: 0px 1px 3px 1px rgba(0, 0, 0, 0.15);\n",
              "      filter: drop-shadow(0px 1px 2px rgba(0, 0, 0, 0.3));\n",
              "      fill: #FFFFFF;\n",
              "    }\n",
              "  </style>\n",
              "\n",
              "      <script>\n",
              "        const buttonEl =\n",
              "          document.querySelector('#df-47ce3400-75e2-4110-bc2c-cbf0280250db button.colab-df-convert');\n",
              "        buttonEl.style.display =\n",
              "          google.colab.kernel.accessAllowed ? 'block' : 'none';\n",
              "\n",
              "        async function convertToInteractive(key) {\n",
              "          const element = document.querySelector('#df-47ce3400-75e2-4110-bc2c-cbf0280250db');\n",
              "          const dataTable =\n",
              "            await google.colab.kernel.invokeFunction('convertToInteractive',\n",
              "                                                     [key], {});\n",
              "          if (!dataTable) return;\n",
              "\n",
              "          const docLinkHtml = 'Like what you see? Visit the ' +\n",
              "            '<a target=\"_blank\" href=https://colab.research.google.com/notebooks/data_table.ipynb>data table notebook</a>'\n",
              "            + ' to learn more about interactive tables.';\n",
              "          element.innerHTML = '';\n",
              "          dataTable['output_type'] = 'display_data';\n",
              "          await google.colab.output.renderOutput(dataTable, element);\n",
              "          const docLink = document.createElement('div');\n",
              "          docLink.innerHTML = docLinkHtml;\n",
              "          element.appendChild(docLink);\n",
              "        }\n",
              "      </script>\n",
              "    </div>\n",
              "  </div>\n",
              "  "
            ]
          },
          "metadata": {},
          "execution_count": 166
        }
      ]
    },
    {
      "cell_type": "code",
      "source": [
        "test_date = datetime.datetime.strptime(\"01-01-1986\", \"%d-%m-%Y\")\n",
        "k=365\n"
      ],
      "metadata": {
        "id": "BWmUYxeLrXZo"
      },
      "execution_count": null,
      "outputs": []
    },
    {
      "cell_type": "code",
      "source": [
        "date_generated = pd.date_range(test_date, periods=k)\n",
        "# print(list(date_generated))\n",
        "print(list(date_generated.strftime(\"%d-%m-%Y\")))"
      ],
      "metadata": {
        "colab": {
          "base_uri": "https://localhost:8080/"
        },
        "id": "FdpO4NevtSBa",
        "outputId": "4b3ea0dd-c9fa-4231-c419-3f98379a0ffc"
      },
      "execution_count": null,
      "outputs": [
        {
          "output_type": "stream",
          "name": "stdout",
          "text": [
            "['01-01-1986', '02-01-1986', '03-01-1986', '04-01-1986', '05-01-1986', '06-01-1986', '07-01-1986', '08-01-1986', '09-01-1986', '10-01-1986', '11-01-1986', '12-01-1986', '13-01-1986', '14-01-1986', '15-01-1986', '16-01-1986', '17-01-1986', '18-01-1986', '19-01-1986', '20-01-1986', '21-01-1986', '22-01-1986', '23-01-1986', '24-01-1986', '25-01-1986', '26-01-1986', '27-01-1986', '28-01-1986', '29-01-1986', '30-01-1986', '31-01-1986', '01-02-1986', '02-02-1986', '03-02-1986', '04-02-1986', '05-02-1986', '06-02-1986', '07-02-1986', '08-02-1986', '09-02-1986', '10-02-1986', '11-02-1986', '12-02-1986', '13-02-1986', '14-02-1986', '15-02-1986', '16-02-1986', '17-02-1986', '18-02-1986', '19-02-1986', '20-02-1986', '21-02-1986', '22-02-1986', '23-02-1986', '24-02-1986', '25-02-1986', '26-02-1986', '27-02-1986', '28-02-1986', '01-03-1986', '02-03-1986', '03-03-1986', '04-03-1986', '05-03-1986', '06-03-1986', '07-03-1986', '08-03-1986', '09-03-1986', '10-03-1986', '11-03-1986', '12-03-1986', '13-03-1986', '14-03-1986', '15-03-1986', '16-03-1986', '17-03-1986', '18-03-1986', '19-03-1986', '20-03-1986', '21-03-1986', '22-03-1986', '23-03-1986', '24-03-1986', '25-03-1986', '26-03-1986', '27-03-1986', '28-03-1986', '29-03-1986', '30-03-1986', '31-03-1986', '01-04-1986', '02-04-1986', '03-04-1986', '04-04-1986', '05-04-1986', '06-04-1986', '07-04-1986', '08-04-1986', '09-04-1986', '10-04-1986', '11-04-1986', '12-04-1986', '13-04-1986', '14-04-1986', '15-04-1986', '16-04-1986', '17-04-1986', '18-04-1986', '19-04-1986', '20-04-1986', '21-04-1986', '22-04-1986', '23-04-1986', '24-04-1986', '25-04-1986', '26-04-1986', '27-04-1986', '28-04-1986', '29-04-1986', '30-04-1986', '01-05-1986', '02-05-1986', '03-05-1986', '04-05-1986', '05-05-1986', '06-05-1986', '07-05-1986', '08-05-1986', '09-05-1986', '10-05-1986', '11-05-1986', '12-05-1986', '13-05-1986', '14-05-1986', '15-05-1986', '16-05-1986', '17-05-1986', '18-05-1986', '19-05-1986', '20-05-1986', '21-05-1986', '22-05-1986', '23-05-1986', '24-05-1986', '25-05-1986', '26-05-1986', '27-05-1986', '28-05-1986', '29-05-1986', '30-05-1986', '31-05-1986', '01-06-1986', '02-06-1986', '03-06-1986', '04-06-1986', '05-06-1986', '06-06-1986', '07-06-1986', '08-06-1986', '09-06-1986', '10-06-1986', '11-06-1986', '12-06-1986', '13-06-1986', '14-06-1986', '15-06-1986', '16-06-1986', '17-06-1986', '18-06-1986', '19-06-1986', '20-06-1986', '21-06-1986', '22-06-1986', '23-06-1986', '24-06-1986', '25-06-1986', '26-06-1986', '27-06-1986', '28-06-1986', '29-06-1986', '30-06-1986', '01-07-1986', '02-07-1986', '03-07-1986', '04-07-1986', '05-07-1986', '06-07-1986', '07-07-1986', '08-07-1986', '09-07-1986', '10-07-1986', '11-07-1986', '12-07-1986', '13-07-1986', '14-07-1986', '15-07-1986', '16-07-1986', '17-07-1986', '18-07-1986', '19-07-1986', '20-07-1986', '21-07-1986', '22-07-1986', '23-07-1986', '24-07-1986', '25-07-1986', '26-07-1986', '27-07-1986', '28-07-1986', '29-07-1986', '30-07-1986', '31-07-1986', '01-08-1986', '02-08-1986', '03-08-1986', '04-08-1986', '05-08-1986', '06-08-1986', '07-08-1986', '08-08-1986', '09-08-1986', '10-08-1986', '11-08-1986', '12-08-1986', '13-08-1986', '14-08-1986', '15-08-1986', '16-08-1986', '17-08-1986', '18-08-1986', '19-08-1986', '20-08-1986', '21-08-1986', '22-08-1986', '23-08-1986', '24-08-1986', '25-08-1986', '26-08-1986', '27-08-1986', '28-08-1986', '29-08-1986', '30-08-1986', '31-08-1986', '01-09-1986', '02-09-1986', '03-09-1986', '04-09-1986', '05-09-1986', '06-09-1986', '07-09-1986', '08-09-1986', '09-09-1986', '10-09-1986', '11-09-1986', '12-09-1986', '13-09-1986', '14-09-1986', '15-09-1986', '16-09-1986', '17-09-1986', '18-09-1986', '19-09-1986', '20-09-1986', '21-09-1986', '22-09-1986', '23-09-1986', '24-09-1986', '25-09-1986', '26-09-1986', '27-09-1986', '28-09-1986', '29-09-1986', '30-09-1986', '01-10-1986', '02-10-1986', '03-10-1986', '04-10-1986', '05-10-1986', '06-10-1986', '07-10-1986', '08-10-1986', '09-10-1986', '10-10-1986', '11-10-1986', '12-10-1986', '13-10-1986', '14-10-1986', '15-10-1986', '16-10-1986', '17-10-1986', '18-10-1986', '19-10-1986', '20-10-1986', '21-10-1986', '22-10-1986', '23-10-1986', '24-10-1986', '25-10-1986', '26-10-1986', '27-10-1986', '28-10-1986', '29-10-1986', '30-10-1986', '31-10-1986', '01-11-1986', '02-11-1986', '03-11-1986', '04-11-1986', '05-11-1986', '06-11-1986', '07-11-1986', '08-11-1986', '09-11-1986', '10-11-1986', '11-11-1986', '12-11-1986', '13-11-1986', '14-11-1986', '15-11-1986', '16-11-1986', '17-11-1986', '18-11-1986', '19-11-1986', '20-11-1986', '21-11-1986', '22-11-1986', '23-11-1986', '24-11-1986', '25-11-1986', '26-11-1986', '27-11-1986', '28-11-1986', '29-11-1986', '30-11-1986', '01-12-1986', '02-12-1986', '03-12-1986', '04-12-1986', '05-12-1986', '06-12-1986', '07-12-1986', '08-12-1986', '09-12-1986', '10-12-1986', '11-12-1986', '12-12-1986', '13-12-1986', '14-12-1986', '15-12-1986', '16-12-1986', '17-12-1986', '18-12-1986', '19-12-1986', '20-12-1986', '21-12-1986', '22-12-1986', '23-12-1986', '24-12-1986', '25-12-1986', '26-12-1986', '27-12-1986', '28-12-1986', '29-12-1986', '30-12-1986', '31-12-1986']\n"
          ]
        }
      ]
    },
    {
      "cell_type": "code",
      "source": [
        "Columns=list(df.columns[:4])\n",
        "Columns.extend(list(date_generated.strftime(\"%B\")))"
      ],
      "metadata": {
        "id": "koEk5p8XBtvy"
      },
      "execution_count": null,
      "outputs": []
    },
    {
      "cell_type": "code",
      "source": [
        "print(len(Columns))"
      ],
      "metadata": {
        "colab": {
          "base_uri": "https://localhost:8080/"
        },
        "id": "bwSCKDVhDVBF",
        "outputId": "43f913cc-8834-4a84-9019-245cad63716e"
      },
      "execution_count": null,
      "outputs": [
        {
          "output_type": "stream",
          "name": "stdout",
          "text": [
            "369\n"
          ]
        }
      ]
    },
    {
      "cell_type": "code",
      "source": [
        "df.columns=Columns"
      ],
      "metadata": {
        "id": "49bCO27PDWLq"
      },
      "execution_count": null,
      "outputs": []
    },
    {
      "cell_type": "code",
      "source": [
        "df.head()"
      ],
      "metadata": {
        "colab": {
          "base_uri": "https://localhost:8080/",
          "height": 285
        },
        "id": "XVJPBD91D1r0",
        "outputId": "ac17520c-3056-4057-ef70-9053fc7bcb3c"
      },
      "execution_count": null,
      "outputs": [
        {
          "output_type": "execute_result",
          "data": {
            "text/plain": [
              "   OBJECTID * Shape *     X     Y  January  January  January  January  \\\n",
              "0           1   Point  74.5  30.5     4.53     3.91     2.23     1.65   \n",
              "1           2   Point  75.5  30.5     4.56     3.84     2.69     2.32   \n",
              "2           3   Point  76.5  30.5     5.03     3.92     3.43     3.01   \n",
              "3           4   Point  75.5  31.5     3.69     3.10     2.44     2.12   \n",
              "\n",
              "   January  January  ...  December  December  December  December  December  \\\n",
              "0     1.43     1.25  ...      4.02      2.50      2.82      3.28      2.57   \n",
              "1     2.38     2.51  ...      4.23      2.82      2.81      3.66      3.12   \n",
              "2     3.23     3.65  ...      4.59      3.28      3.23      4.01      3.69   \n",
              "3     2.97     2.91  ...      5.12      3.15      3.57      3.78      3.24   \n",
              "\n",
              "   December  December  December  December  December  \n",
              "0      2.00      2.73      3.84      2.13      2.18  \n",
              "1      2.69      3.03      4.35      2.18      2.36  \n",
              "2      3.58      3.10      4.32      3.45      2.63  \n",
              "3      3.15      3.30      4.85      2.91      2.68  \n",
              "\n",
              "[4 rows x 369 columns]"
            ],
            "text/html": [
              "\n",
              "  <div id=\"df-3decc890-cc2a-4451-be7c-1fff0a1ee483\">\n",
              "    <div class=\"colab-df-container\">\n",
              "      <div>\n",
              "<style scoped>\n",
              "    .dataframe tbody tr th:only-of-type {\n",
              "        vertical-align: middle;\n",
              "    }\n",
              "\n",
              "    .dataframe tbody tr th {\n",
              "        vertical-align: top;\n",
              "    }\n",
              "\n",
              "    .dataframe thead th {\n",
              "        text-align: right;\n",
              "    }\n",
              "</style>\n",
              "<table border=\"1\" class=\"dataframe\">\n",
              "  <thead>\n",
              "    <tr style=\"text-align: right;\">\n",
              "      <th></th>\n",
              "      <th>OBJECTID *</th>\n",
              "      <th>Shape *</th>\n",
              "      <th>X</th>\n",
              "      <th>Y</th>\n",
              "      <th>January</th>\n",
              "      <th>January</th>\n",
              "      <th>January</th>\n",
              "      <th>January</th>\n",
              "      <th>January</th>\n",
              "      <th>January</th>\n",
              "      <th>...</th>\n",
              "      <th>December</th>\n",
              "      <th>December</th>\n",
              "      <th>December</th>\n",
              "      <th>December</th>\n",
              "      <th>December</th>\n",
              "      <th>December</th>\n",
              "      <th>December</th>\n",
              "      <th>December</th>\n",
              "      <th>December</th>\n",
              "      <th>December</th>\n",
              "    </tr>\n",
              "  </thead>\n",
              "  <tbody>\n",
              "    <tr>\n",
              "      <th>0</th>\n",
              "      <td>1</td>\n",
              "      <td>Point</td>\n",
              "      <td>74.5</td>\n",
              "      <td>30.5</td>\n",
              "      <td>4.53</td>\n",
              "      <td>3.91</td>\n",
              "      <td>2.23</td>\n",
              "      <td>1.65</td>\n",
              "      <td>1.43</td>\n",
              "      <td>1.25</td>\n",
              "      <td>...</td>\n",
              "      <td>4.02</td>\n",
              "      <td>2.50</td>\n",
              "      <td>2.82</td>\n",
              "      <td>3.28</td>\n",
              "      <td>2.57</td>\n",
              "      <td>2.00</td>\n",
              "      <td>2.73</td>\n",
              "      <td>3.84</td>\n",
              "      <td>2.13</td>\n",
              "      <td>2.18</td>\n",
              "    </tr>\n",
              "    <tr>\n",
              "      <th>1</th>\n",
              "      <td>2</td>\n",
              "      <td>Point</td>\n",
              "      <td>75.5</td>\n",
              "      <td>30.5</td>\n",
              "      <td>4.56</td>\n",
              "      <td>3.84</td>\n",
              "      <td>2.69</td>\n",
              "      <td>2.32</td>\n",
              "      <td>2.38</td>\n",
              "      <td>2.51</td>\n",
              "      <td>...</td>\n",
              "      <td>4.23</td>\n",
              "      <td>2.82</td>\n",
              "      <td>2.81</td>\n",
              "      <td>3.66</td>\n",
              "      <td>3.12</td>\n",
              "      <td>2.69</td>\n",
              "      <td>3.03</td>\n",
              "      <td>4.35</td>\n",
              "      <td>2.18</td>\n",
              "      <td>2.36</td>\n",
              "    </tr>\n",
              "    <tr>\n",
              "      <th>2</th>\n",
              "      <td>3</td>\n",
              "      <td>Point</td>\n",
              "      <td>76.5</td>\n",
              "      <td>30.5</td>\n",
              "      <td>5.03</td>\n",
              "      <td>3.92</td>\n",
              "      <td>3.43</td>\n",
              "      <td>3.01</td>\n",
              "      <td>3.23</td>\n",
              "      <td>3.65</td>\n",
              "      <td>...</td>\n",
              "      <td>4.59</td>\n",
              "      <td>3.28</td>\n",
              "      <td>3.23</td>\n",
              "      <td>4.01</td>\n",
              "      <td>3.69</td>\n",
              "      <td>3.58</td>\n",
              "      <td>3.10</td>\n",
              "      <td>4.32</td>\n",
              "      <td>3.45</td>\n",
              "      <td>2.63</td>\n",
              "    </tr>\n",
              "    <tr>\n",
              "      <th>3</th>\n",
              "      <td>4</td>\n",
              "      <td>Point</td>\n",
              "      <td>75.5</td>\n",
              "      <td>31.5</td>\n",
              "      <td>3.69</td>\n",
              "      <td>3.10</td>\n",
              "      <td>2.44</td>\n",
              "      <td>2.12</td>\n",
              "      <td>2.97</td>\n",
              "      <td>2.91</td>\n",
              "      <td>...</td>\n",
              "      <td>5.12</td>\n",
              "      <td>3.15</td>\n",
              "      <td>3.57</td>\n",
              "      <td>3.78</td>\n",
              "      <td>3.24</td>\n",
              "      <td>3.15</td>\n",
              "      <td>3.30</td>\n",
              "      <td>4.85</td>\n",
              "      <td>2.91</td>\n",
              "      <td>2.68</td>\n",
              "    </tr>\n",
              "  </tbody>\n",
              "</table>\n",
              "<p>4 rows × 369 columns</p>\n",
              "</div>\n",
              "      <button class=\"colab-df-convert\" onclick=\"convertToInteractive('df-3decc890-cc2a-4451-be7c-1fff0a1ee483')\"\n",
              "              title=\"Convert this dataframe to an interactive table.\"\n",
              "              style=\"display:none;\">\n",
              "        \n",
              "  <svg xmlns=\"http://www.w3.org/2000/svg\" height=\"24px\"viewBox=\"0 0 24 24\"\n",
              "       width=\"24px\">\n",
              "    <path d=\"M0 0h24v24H0V0z\" fill=\"none\"/>\n",
              "    <path d=\"M18.56 5.44l.94 2.06.94-2.06 2.06-.94-2.06-.94-.94-2.06-.94 2.06-2.06.94zm-11 1L8.5 8.5l.94-2.06 2.06-.94-2.06-.94L8.5 2.5l-.94 2.06-2.06.94zm10 10l.94 2.06.94-2.06 2.06-.94-2.06-.94-.94-2.06-.94 2.06-2.06.94z\"/><path d=\"M17.41 7.96l-1.37-1.37c-.4-.4-.92-.59-1.43-.59-.52 0-1.04.2-1.43.59L10.3 9.45l-7.72 7.72c-.78.78-.78 2.05 0 2.83L4 21.41c.39.39.9.59 1.41.59.51 0 1.02-.2 1.41-.59l7.78-7.78 2.81-2.81c.8-.78.8-2.07 0-2.86zM5.41 20L4 18.59l7.72-7.72 1.47 1.35L5.41 20z\"/>\n",
              "  </svg>\n",
              "      </button>\n",
              "      \n",
              "  <style>\n",
              "    .colab-df-container {\n",
              "      display:flex;\n",
              "      flex-wrap:wrap;\n",
              "      gap: 12px;\n",
              "    }\n",
              "\n",
              "    .colab-df-convert {\n",
              "      background-color: #E8F0FE;\n",
              "      border: none;\n",
              "      border-radius: 50%;\n",
              "      cursor: pointer;\n",
              "      display: none;\n",
              "      fill: #1967D2;\n",
              "      height: 32px;\n",
              "      padding: 0 0 0 0;\n",
              "      width: 32px;\n",
              "    }\n",
              "\n",
              "    .colab-df-convert:hover {\n",
              "      background-color: #E2EBFA;\n",
              "      box-shadow: 0px 1px 2px rgba(60, 64, 67, 0.3), 0px 1px 3px 1px rgba(60, 64, 67, 0.15);\n",
              "      fill: #174EA6;\n",
              "    }\n",
              "\n",
              "    [theme=dark] .colab-df-convert {\n",
              "      background-color: #3B4455;\n",
              "      fill: #D2E3FC;\n",
              "    }\n",
              "\n",
              "    [theme=dark] .colab-df-convert:hover {\n",
              "      background-color: #434B5C;\n",
              "      box-shadow: 0px 1px 3px 1px rgba(0, 0, 0, 0.15);\n",
              "      filter: drop-shadow(0px 1px 2px rgba(0, 0, 0, 0.3));\n",
              "      fill: #FFFFFF;\n",
              "    }\n",
              "  </style>\n",
              "\n",
              "      <script>\n",
              "        const buttonEl =\n",
              "          document.querySelector('#df-3decc890-cc2a-4451-be7c-1fff0a1ee483 button.colab-df-convert');\n",
              "        buttonEl.style.display =\n",
              "          google.colab.kernel.accessAllowed ? 'block' : 'none';\n",
              "\n",
              "        async function convertToInteractive(key) {\n",
              "          const element = document.querySelector('#df-3decc890-cc2a-4451-be7c-1fff0a1ee483');\n",
              "          const dataTable =\n",
              "            await google.colab.kernel.invokeFunction('convertToInteractive',\n",
              "                                                     [key], {});\n",
              "          if (!dataTable) return;\n",
              "\n",
              "          const docLinkHtml = 'Like what you see? Visit the ' +\n",
              "            '<a target=\"_blank\" href=https://colab.research.google.com/notebooks/data_table.ipynb>data table notebook</a>'\n",
              "            + ' to learn more about interactive tables.';\n",
              "          element.innerHTML = '';\n",
              "          dataTable['output_type'] = 'display_data';\n",
              "          await google.colab.output.renderOutput(dataTable, element);\n",
              "          const docLink = document.createElement('div');\n",
              "          docLink.innerHTML = docLinkHtml;\n",
              "          element.appendChild(docLink);\n",
              "        }\n",
              "      </script>\n",
              "    </div>\n",
              "  </div>\n",
              "  "
            ]
          },
          "metadata": {},
          "execution_count": 194
        }
      ]
    },
    {
      "cell_type": "code",
      "source": [
        "df1=df.transpose()"
      ],
      "metadata": {
        "id": "mEwLAHqUD2-J"
      },
      "execution_count": null,
      "outputs": []
    },
    {
      "cell_type": "code",
      "source": [
        "df1=df1.reset_index()"
      ],
      "metadata": {
        "id": "wMiXyIE9IrsY"
      },
      "execution_count": null,
      "outputs": []
    },
    {
      "cell_type": "code",
      "source": [
        "df2=df1.drop(df.index[0:4],axis=0)"
      ],
      "metadata": {
        "id": "SAgiBYVqH2st"
      },
      "execution_count": null,
      "outputs": []
    },
    {
      "cell_type": "code",
      "source": [
        "df2"
      ],
      "metadata": {
        "colab": {
          "base_uri": "https://localhost:8080/",
          "height": 424
        },
        "id": "wgqCnjEOJb2D",
        "outputId": "adcee2f8-9f66-42c3-e393-5e60326354d0"
      },
      "execution_count": null,
      "outputs": [
        {
          "output_type": "execute_result",
          "data": {
            "text/plain": [
              "        index     0     1     2     3\n",
              "4     January  4.53  4.56  5.03  3.69\n",
              "5     January  3.91  3.84  3.92   3.1\n",
              "6     January  2.23  2.69  3.43  2.44\n",
              "7     January  1.65  2.32  3.01  2.12\n",
              "8     January  1.43  2.38  3.23  2.97\n",
              "..        ...   ...   ...   ...   ...\n",
              "364  December   2.0  2.69  3.58  3.15\n",
              "365  December  2.73  3.03   3.1   3.3\n",
              "366  December  3.84  4.35  4.32  4.85\n",
              "367  December  2.13  2.18  3.45  2.91\n",
              "368  December  2.18  2.36  2.63  2.68\n",
              "\n",
              "[365 rows x 5 columns]"
            ],
            "text/html": [
              "\n",
              "  <div id=\"df-f640977c-04c7-4ab7-a9e5-6b6e253a4725\">\n",
              "    <div class=\"colab-df-container\">\n",
              "      <div>\n",
              "<style scoped>\n",
              "    .dataframe tbody tr th:only-of-type {\n",
              "        vertical-align: middle;\n",
              "    }\n",
              "\n",
              "    .dataframe tbody tr th {\n",
              "        vertical-align: top;\n",
              "    }\n",
              "\n",
              "    .dataframe thead th {\n",
              "        text-align: right;\n",
              "    }\n",
              "</style>\n",
              "<table border=\"1\" class=\"dataframe\">\n",
              "  <thead>\n",
              "    <tr style=\"text-align: right;\">\n",
              "      <th></th>\n",
              "      <th>index</th>\n",
              "      <th>0</th>\n",
              "      <th>1</th>\n",
              "      <th>2</th>\n",
              "      <th>3</th>\n",
              "    </tr>\n",
              "  </thead>\n",
              "  <tbody>\n",
              "    <tr>\n",
              "      <th>4</th>\n",
              "      <td>January</td>\n",
              "      <td>4.53</td>\n",
              "      <td>4.56</td>\n",
              "      <td>5.03</td>\n",
              "      <td>3.69</td>\n",
              "    </tr>\n",
              "    <tr>\n",
              "      <th>5</th>\n",
              "      <td>January</td>\n",
              "      <td>3.91</td>\n",
              "      <td>3.84</td>\n",
              "      <td>3.92</td>\n",
              "      <td>3.1</td>\n",
              "    </tr>\n",
              "    <tr>\n",
              "      <th>6</th>\n",
              "      <td>January</td>\n",
              "      <td>2.23</td>\n",
              "      <td>2.69</td>\n",
              "      <td>3.43</td>\n",
              "      <td>2.44</td>\n",
              "    </tr>\n",
              "    <tr>\n",
              "      <th>7</th>\n",
              "      <td>January</td>\n",
              "      <td>1.65</td>\n",
              "      <td>2.32</td>\n",
              "      <td>3.01</td>\n",
              "      <td>2.12</td>\n",
              "    </tr>\n",
              "    <tr>\n",
              "      <th>8</th>\n",
              "      <td>January</td>\n",
              "      <td>1.43</td>\n",
              "      <td>2.38</td>\n",
              "      <td>3.23</td>\n",
              "      <td>2.97</td>\n",
              "    </tr>\n",
              "    <tr>\n",
              "      <th>...</th>\n",
              "      <td>...</td>\n",
              "      <td>...</td>\n",
              "      <td>...</td>\n",
              "      <td>...</td>\n",
              "      <td>...</td>\n",
              "    </tr>\n",
              "    <tr>\n",
              "      <th>364</th>\n",
              "      <td>December</td>\n",
              "      <td>2.0</td>\n",
              "      <td>2.69</td>\n",
              "      <td>3.58</td>\n",
              "      <td>3.15</td>\n",
              "    </tr>\n",
              "    <tr>\n",
              "      <th>365</th>\n",
              "      <td>December</td>\n",
              "      <td>2.73</td>\n",
              "      <td>3.03</td>\n",
              "      <td>3.1</td>\n",
              "      <td>3.3</td>\n",
              "    </tr>\n",
              "    <tr>\n",
              "      <th>366</th>\n",
              "      <td>December</td>\n",
              "      <td>3.84</td>\n",
              "      <td>4.35</td>\n",
              "      <td>4.32</td>\n",
              "      <td>4.85</td>\n",
              "    </tr>\n",
              "    <tr>\n",
              "      <th>367</th>\n",
              "      <td>December</td>\n",
              "      <td>2.13</td>\n",
              "      <td>2.18</td>\n",
              "      <td>3.45</td>\n",
              "      <td>2.91</td>\n",
              "    </tr>\n",
              "    <tr>\n",
              "      <th>368</th>\n",
              "      <td>December</td>\n",
              "      <td>2.18</td>\n",
              "      <td>2.36</td>\n",
              "      <td>2.63</td>\n",
              "      <td>2.68</td>\n",
              "    </tr>\n",
              "  </tbody>\n",
              "</table>\n",
              "<p>365 rows × 5 columns</p>\n",
              "</div>\n",
              "      <button class=\"colab-df-convert\" onclick=\"convertToInteractive('df-f640977c-04c7-4ab7-a9e5-6b6e253a4725')\"\n",
              "              title=\"Convert this dataframe to an interactive table.\"\n",
              "              style=\"display:none;\">\n",
              "        \n",
              "  <svg xmlns=\"http://www.w3.org/2000/svg\" height=\"24px\"viewBox=\"0 0 24 24\"\n",
              "       width=\"24px\">\n",
              "    <path d=\"M0 0h24v24H0V0z\" fill=\"none\"/>\n",
              "    <path d=\"M18.56 5.44l.94 2.06.94-2.06 2.06-.94-2.06-.94-.94-2.06-.94 2.06-2.06.94zm-11 1L8.5 8.5l.94-2.06 2.06-.94-2.06-.94L8.5 2.5l-.94 2.06-2.06.94zm10 10l.94 2.06.94-2.06 2.06-.94-2.06-.94-.94-2.06-.94 2.06-2.06.94z\"/><path d=\"M17.41 7.96l-1.37-1.37c-.4-.4-.92-.59-1.43-.59-.52 0-1.04.2-1.43.59L10.3 9.45l-7.72 7.72c-.78.78-.78 2.05 0 2.83L4 21.41c.39.39.9.59 1.41.59.51 0 1.02-.2 1.41-.59l7.78-7.78 2.81-2.81c.8-.78.8-2.07 0-2.86zM5.41 20L4 18.59l7.72-7.72 1.47 1.35L5.41 20z\"/>\n",
              "  </svg>\n",
              "      </button>\n",
              "      \n",
              "  <style>\n",
              "    .colab-df-container {\n",
              "      display:flex;\n",
              "      flex-wrap:wrap;\n",
              "      gap: 12px;\n",
              "    }\n",
              "\n",
              "    .colab-df-convert {\n",
              "      background-color: #E8F0FE;\n",
              "      border: none;\n",
              "      border-radius: 50%;\n",
              "      cursor: pointer;\n",
              "      display: none;\n",
              "      fill: #1967D2;\n",
              "      height: 32px;\n",
              "      padding: 0 0 0 0;\n",
              "      width: 32px;\n",
              "    }\n",
              "\n",
              "    .colab-df-convert:hover {\n",
              "      background-color: #E2EBFA;\n",
              "      box-shadow: 0px 1px 2px rgba(60, 64, 67, 0.3), 0px 1px 3px 1px rgba(60, 64, 67, 0.15);\n",
              "      fill: #174EA6;\n",
              "    }\n",
              "\n",
              "    [theme=dark] .colab-df-convert {\n",
              "      background-color: #3B4455;\n",
              "      fill: #D2E3FC;\n",
              "    }\n",
              "\n",
              "    [theme=dark] .colab-df-convert:hover {\n",
              "      background-color: #434B5C;\n",
              "      box-shadow: 0px 1px 3px 1px rgba(0, 0, 0, 0.15);\n",
              "      filter: drop-shadow(0px 1px 2px rgba(0, 0, 0, 0.3));\n",
              "      fill: #FFFFFF;\n",
              "    }\n",
              "  </style>\n",
              "\n",
              "      <script>\n",
              "        const buttonEl =\n",
              "          document.querySelector('#df-f640977c-04c7-4ab7-a9e5-6b6e253a4725 button.colab-df-convert');\n",
              "        buttonEl.style.display =\n",
              "          google.colab.kernel.accessAllowed ? 'block' : 'none';\n",
              "\n",
              "        async function convertToInteractive(key) {\n",
              "          const element = document.querySelector('#df-f640977c-04c7-4ab7-a9e5-6b6e253a4725');\n",
              "          const dataTable =\n",
              "            await google.colab.kernel.invokeFunction('convertToInteractive',\n",
              "                                                     [key], {});\n",
              "          if (!dataTable) return;\n",
              "\n",
              "          const docLinkHtml = 'Like what you see? Visit the ' +\n",
              "            '<a target=\"_blank\" href=https://colab.research.google.com/notebooks/data_table.ipynb>data table notebook</a>'\n",
              "            + ' to learn more about interactive tables.';\n",
              "          element.innerHTML = '';\n",
              "          dataTable['output_type'] = 'display_data';\n",
              "          await google.colab.output.renderOutput(dataTable, element);\n",
              "          const docLink = document.createElement('div');\n",
              "          docLink.innerHTML = docLinkHtml;\n",
              "          element.appendChild(docLink);\n",
              "        }\n",
              "      </script>\n",
              "    </div>\n",
              "  </div>\n",
              "  "
            ]
          },
          "metadata": {},
          "execution_count": 205
        }
      ]
    },
    {
      "cell_type": "code",
      "source": [
        "# df2['index'] = pd.to_datetime(df2['index'], format='%d-%m-%Y')\n"
      ],
      "metadata": {
        "id": "MRYaYyphJ5OG"
      },
      "execution_count": null,
      "outputs": []
    },
    {
      "cell_type": "code",
      "source": [
        "df2.columns"
      ],
      "metadata": {
        "colab": {
          "base_uri": "https://localhost:8080/"
        },
        "id": "ltxPB3IPwuP3",
        "outputId": "97cca465-28dd-4d68-d341-00a58360c196"
      },
      "execution_count": null,
      "outputs": [
        {
          "output_type": "execute_result",
          "data": {
            "text/plain": [
              "Index(['index', 0, 1, 2, 3], dtype='object')"
            ]
          },
          "metadata": {},
          "execution_count": 207
        }
      ]
    },
    {
      "cell_type": "code",
      "source": [
        "df2=df2.groupby(df2['index']).mean()"
      ],
      "metadata": {
        "id": "U7QQcr-jHD3C"
      },
      "execution_count": null,
      "outputs": []
    },
    {
      "cell_type": "code",
      "source": [
        "df2.columns"
      ],
      "metadata": {
        "colab": {
          "base_uri": "https://localhost:8080/"
        },
        "id": "pBfD-G_ktV0G",
        "outputId": "6ac09f2e-dbd0-4ff0-94ef-b0f81dcd7e09"
      },
      "execution_count": null,
      "outputs": [
        {
          "output_type": "execute_result",
          "data": {
            "text/plain": [
              "Index([0, 1, 2, 3], dtype='object')"
            ]
          },
          "metadata": {},
          "execution_count": 209
        }
      ]
    },
    {
      "cell_type": "code",
      "source": [
        "df3=df2.transpose()"
      ],
      "metadata": {
        "id": "KA9zBRGKs6sA"
      },
      "execution_count": null,
      "outputs": []
    },
    {
      "cell_type": "code",
      "source": [
        "# from google.colab import files\n",
        "# files.download('output_1986.xlsx') \n"
      ],
      "metadata": {
        "colab": {
          "base_uri": "https://localhost:8080/",
          "height": 17
        },
        "id": "vl9JnC72JrYI",
        "outputId": "1e8761ca-b08f-454f-f141-58c3bf4a0ba1"
      },
      "execution_count": null,
      "outputs": [
        {
          "output_type": "display_data",
          "data": {
            "text/plain": [
              "<IPython.core.display.Javascript object>"
            ],
            "application/javascript": [
              "\n",
              "    async function download(id, filename, size) {\n",
              "      if (!google.colab.kernel.accessAllowed) {\n",
              "        return;\n",
              "      }\n",
              "      const div = document.createElement('div');\n",
              "      const label = document.createElement('label');\n",
              "      label.textContent = `Downloading \"${filename}\": `;\n",
              "      div.appendChild(label);\n",
              "      const progress = document.createElement('progress');\n",
              "      progress.max = size;\n",
              "      div.appendChild(progress);\n",
              "      document.body.appendChild(div);\n",
              "\n",
              "      const buffers = [];\n",
              "      let downloaded = 0;\n",
              "\n",
              "      const channel = await google.colab.kernel.comms.open(id);\n",
              "      // Send a message to notify the kernel that we're ready.\n",
              "      channel.send({})\n",
              "\n",
              "      for await (const message of channel.messages) {\n",
              "        // Send a message to notify the kernel that we're ready.\n",
              "        channel.send({})\n",
              "        if (message.buffers) {\n",
              "          for (const buffer of message.buffers) {\n",
              "            buffers.push(buffer);\n",
              "            downloaded += buffer.byteLength;\n",
              "            progress.value = downloaded;\n",
              "          }\n",
              "        }\n",
              "      }\n",
              "      const blob = new Blob(buffers, {type: 'application/binary'});\n",
              "      const a = document.createElement('a');\n",
              "      a.href = window.URL.createObjectURL(blob);\n",
              "      a.download = filename;\n",
              "      div.appendChild(a);\n",
              "      a.click();\n",
              "      div.remove();\n",
              "    }\n",
              "  "
            ]
          },
          "metadata": {}
        },
        {
          "output_type": "display_data",
          "data": {
            "text/plain": [
              "<IPython.core.display.Javascript object>"
            ],
            "application/javascript": [
              "download(\"download_00920920-3cb7-4f6e-8d6d-8c1f8f386f0d\", \"output_1986.xlsx\", 5724)"
            ]
          },
          "metadata": {}
        }
      ]
    },
    {
      "cell_type": "code",
      "source": [
        "df3.drop(['April', 'December', 'February', 'January',\n",
        "       'March', 'May', 'November'],inplace=True,axis=1)"
      ],
      "metadata": {
        "id": "t2IMHozaQzgc"
      },
      "execution_count": null,
      "outputs": []
    },
    {
      "cell_type": "code",
      "source": [
        "df3.columns=['August_'+str(1986),'July_'+str(1986),'June_'+str(1986),'October_'+str(1986),'September_'+str(1986)]"
      ],
      "metadata": {
        "id": "Q06cGUF3xlEj"
      },
      "execution_count": null,
      "outputs": []
    },
    {
      "cell_type": "code",
      "source": [
        "df3"
      ],
      "metadata": {
        "colab": {
          "base_uri": "https://localhost:8080/",
          "height": 175
        },
        "id": "INiXblcAx9y9",
        "outputId": "8f961f55-4240-4e17-a0d8-0470101b898b"
      },
      "execution_count": null,
      "outputs": [
        {
          "output_type": "execute_result",
          "data": {
            "text/plain": [
              "   August_1986  July_1986  June_1986  October_1986  September_1986\n",
              "0    25.120000  25.364516  25.736000     16.860645       22.178667\n",
              "1    24.905161  25.192581  25.463000     16.428710       21.959333\n",
              "2    23.229355  23.514839  23.603333     15.578064       20.743667\n",
              "3    24.143226  24.587097  24.677333     16.056129       21.463000"
            ],
            "text/html": [
              "\n",
              "  <div id=\"df-7aeb9b0f-50ca-4fac-9f17-65791049d4c1\">\n",
              "    <div class=\"colab-df-container\">\n",
              "      <div>\n",
              "<style scoped>\n",
              "    .dataframe tbody tr th:only-of-type {\n",
              "        vertical-align: middle;\n",
              "    }\n",
              "\n",
              "    .dataframe tbody tr th {\n",
              "        vertical-align: top;\n",
              "    }\n",
              "\n",
              "    .dataframe thead th {\n",
              "        text-align: right;\n",
              "    }\n",
              "</style>\n",
              "<table border=\"1\" class=\"dataframe\">\n",
              "  <thead>\n",
              "    <tr style=\"text-align: right;\">\n",
              "      <th></th>\n",
              "      <th>August_1986</th>\n",
              "      <th>July_1986</th>\n",
              "      <th>June_1986</th>\n",
              "      <th>October_1986</th>\n",
              "      <th>September_1986</th>\n",
              "    </tr>\n",
              "  </thead>\n",
              "  <tbody>\n",
              "    <tr>\n",
              "      <th>0</th>\n",
              "      <td>25.120000</td>\n",
              "      <td>25.364516</td>\n",
              "      <td>25.736000</td>\n",
              "      <td>16.860645</td>\n",
              "      <td>22.178667</td>\n",
              "    </tr>\n",
              "    <tr>\n",
              "      <th>1</th>\n",
              "      <td>24.905161</td>\n",
              "      <td>25.192581</td>\n",
              "      <td>25.463000</td>\n",
              "      <td>16.428710</td>\n",
              "      <td>21.959333</td>\n",
              "    </tr>\n",
              "    <tr>\n",
              "      <th>2</th>\n",
              "      <td>23.229355</td>\n",
              "      <td>23.514839</td>\n",
              "      <td>23.603333</td>\n",
              "      <td>15.578064</td>\n",
              "      <td>20.743667</td>\n",
              "    </tr>\n",
              "    <tr>\n",
              "      <th>3</th>\n",
              "      <td>24.143226</td>\n",
              "      <td>24.587097</td>\n",
              "      <td>24.677333</td>\n",
              "      <td>16.056129</td>\n",
              "      <td>21.463000</td>\n",
              "    </tr>\n",
              "  </tbody>\n",
              "</table>\n",
              "</div>\n",
              "      <button class=\"colab-df-convert\" onclick=\"convertToInteractive('df-7aeb9b0f-50ca-4fac-9f17-65791049d4c1')\"\n",
              "              title=\"Convert this dataframe to an interactive table.\"\n",
              "              style=\"display:none;\">\n",
              "        \n",
              "  <svg xmlns=\"http://www.w3.org/2000/svg\" height=\"24px\"viewBox=\"0 0 24 24\"\n",
              "       width=\"24px\">\n",
              "    <path d=\"M0 0h24v24H0V0z\" fill=\"none\"/>\n",
              "    <path d=\"M18.56 5.44l.94 2.06.94-2.06 2.06-.94-2.06-.94-.94-2.06-.94 2.06-2.06.94zm-11 1L8.5 8.5l.94-2.06 2.06-.94-2.06-.94L8.5 2.5l-.94 2.06-2.06.94zm10 10l.94 2.06.94-2.06 2.06-.94-2.06-.94-.94-2.06-.94 2.06-2.06.94z\"/><path d=\"M17.41 7.96l-1.37-1.37c-.4-.4-.92-.59-1.43-.59-.52 0-1.04.2-1.43.59L10.3 9.45l-7.72 7.72c-.78.78-.78 2.05 0 2.83L4 21.41c.39.39.9.59 1.41.59.51 0 1.02-.2 1.41-.59l7.78-7.78 2.81-2.81c.8-.78.8-2.07 0-2.86zM5.41 20L4 18.59l7.72-7.72 1.47 1.35L5.41 20z\"/>\n",
              "  </svg>\n",
              "      </button>\n",
              "      \n",
              "  <style>\n",
              "    .colab-df-container {\n",
              "      display:flex;\n",
              "      flex-wrap:wrap;\n",
              "      gap: 12px;\n",
              "    }\n",
              "\n",
              "    .colab-df-convert {\n",
              "      background-color: #E8F0FE;\n",
              "      border: none;\n",
              "      border-radius: 50%;\n",
              "      cursor: pointer;\n",
              "      display: none;\n",
              "      fill: #1967D2;\n",
              "      height: 32px;\n",
              "      padding: 0 0 0 0;\n",
              "      width: 32px;\n",
              "    }\n",
              "\n",
              "    .colab-df-convert:hover {\n",
              "      background-color: #E2EBFA;\n",
              "      box-shadow: 0px 1px 2px rgba(60, 64, 67, 0.3), 0px 1px 3px 1px rgba(60, 64, 67, 0.15);\n",
              "      fill: #174EA6;\n",
              "    }\n",
              "\n",
              "    [theme=dark] .colab-df-convert {\n",
              "      background-color: #3B4455;\n",
              "      fill: #D2E3FC;\n",
              "    }\n",
              "\n",
              "    [theme=dark] .colab-df-convert:hover {\n",
              "      background-color: #434B5C;\n",
              "      box-shadow: 0px 1px 3px 1px rgba(0, 0, 0, 0.15);\n",
              "      filter: drop-shadow(0px 1px 2px rgba(0, 0, 0, 0.3));\n",
              "      fill: #FFFFFF;\n",
              "    }\n",
              "  </style>\n",
              "\n",
              "      <script>\n",
              "        const buttonEl =\n",
              "          document.querySelector('#df-7aeb9b0f-50ca-4fac-9f17-65791049d4c1 button.colab-df-convert');\n",
              "        buttonEl.style.display =\n",
              "          google.colab.kernel.accessAllowed ? 'block' : 'none';\n",
              "\n",
              "        async function convertToInteractive(key) {\n",
              "          const element = document.querySelector('#df-7aeb9b0f-50ca-4fac-9f17-65791049d4c1');\n",
              "          const dataTable =\n",
              "            await google.colab.kernel.invokeFunction('convertToInteractive',\n",
              "                                                     [key], {});\n",
              "          if (!dataTable) return;\n",
              "\n",
              "          const docLinkHtml = 'Like what you see? Visit the ' +\n",
              "            '<a target=\"_blank\" href=https://colab.research.google.com/notebooks/data_table.ipynb>data table notebook</a>'\n",
              "            + ' to learn more about interactive tables.';\n",
              "          element.innerHTML = '';\n",
              "          dataTable['output_type'] = 'display_data';\n",
              "          await google.colab.output.renderOutput(dataTable, element);\n",
              "          const docLink = document.createElement('div');\n",
              "          docLink.innerHTML = docLinkHtml;\n",
              "          element.appendChild(docLink);\n",
              "        }\n",
              "      </script>\n",
              "    </div>\n",
              "  </div>\n",
              "  "
            ]
          },
          "metadata": {},
          "execution_count": 219
        }
      ]
    },
    {
      "cell_type": "code",
      "source": [],
      "metadata": {
        "id": "eaGAxXVQy7Ih"
      },
      "execution_count": null,
      "outputs": []
    }
  ]
}