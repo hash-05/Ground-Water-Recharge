{
 "cells": [
  {
   "cell_type": "code",
   "execution_count": 1,
   "metadata": {
    "collapsed": true
   },
   "outputs": [],
   "source": [
    "import numpy as np\n",
    "import pandas as pd"
   ]
  },
  {
   "cell_type": "code",
   "execution_count": 2,
   "outputs": [],
   "source": [
    "df = pd.read_excel(\"B:\\GroundwaterRech\\GithubRepo\\Restart\\Dataset\\FinalDataset(All .xlsx\", sheet_name='Sheet3')"
   ],
   "metadata": {
    "collapsed": false
   }
  },
  {
   "cell_type": "code",
   "execution_count": 3,
   "outputs": [
    {
     "data": {
      "text/plain": "      District  Object Id  Longitude  Latitude     Slope         Soil Type  \\\n0   Hoshiarpur         52      74.75     31.25  0.784844  Haplic Calcisols   \n1   Hoshiarpur         53      75.00     31.25  0.701995  Haplic Calcisols   \n2   Hoshiarpur         60      74.75     31.50  1.889588  Haplic Calcisols   \n3   Hoshiarpur         61      75.00     31.50  1.889588  Haplic Calcisols   \n4   Hoshiarpur         62      75.25     31.50  0.351011  Haplic Calcisols   \n..         ...        ...        ...       ...       ...               ...   \n60     Patiala         19      75.75     30.25  2.353356  Haplic Calcisols   \n61     Patiala         20      76.00     30.25  1.889588  Haplic Calcisols   \n62     Patiala         29      75.50     30.50  0.351011  Haplic Calcisols   \n63     Patiala         30      75.75     30.50  1.265397  Haplic Calcisols   \n64     Patiala         31      76.00     30.50  1.109868  Haplic Calcisols   \n\n           1986         1987         1988         1989  ... 2010.4 2011.4  \\\n0   Agriculture  Agriculture  Agriculture  Agriculture  ...  -2.20  -2.05   \n1   Agriculture  Agriculture  Agriculture  Agriculture  ...  -3.45  -0.83   \n2   Agriculture  Agriculture  Agriculture  Agriculture  ...  -2.20  -2.05   \n3   Agriculture  Agriculture  Agriculture  Agriculture  ...  -3.45  -0.83   \n4   Agriculture  Agriculture  Agriculture  Agriculture  ...  -2.20  -2.05   \n..          ...          ...          ...          ...  ...    ...    ...   \n60  Agriculture  Agriculture  Agriculture  Agriculture  ...   0.25  -0.10   \n61  Agriculture  Agriculture  Agriculture  Agriculture  ...  -0.04  -0.28   \n62  Agriculture  Agriculture  Agriculture  Agriculture  ...   0.25  -0.10   \n63      Builtup      Builtup      Builtup      Builtup  ...  -0.04  -0.28   \n64  Agriculture  Agriculture  Agriculture  Agriculture  ...   0.25  -0.10   \n\n   2012.4 2013.4 2014.4 2015.4 2016.4 2017.4    2018.4 2019.4  \n0   -0.40   -1.5    0.9   1.85  -0.15 -2.375 -4.900000   -1.1  \n1   -0.90   -2.1    0.8   1.25  -0.10 -9.530  3.783333   -3.6  \n2   -0.40   -1.5    0.9   1.85  -0.15 -2.375 -4.900000   -1.1  \n3   -0.90   -2.1    0.8   1.25  -0.10 -9.530  3.783333   -3.6  \n4   -0.40   -1.5    0.9   1.85  -0.15 -2.375 -4.900000   -1.1  \n..    ...    ...    ...    ...    ...    ...       ...    ...  \n60  -0.23   20.0    1.0  -1.05   0.10  0.930  1.000000    0.3  \n61   0.64    0.5    0.2   2.10   3.30  2.300  0.850000    4.6  \n62  -0.23   20.0    1.0  -1.05   0.10  0.930  1.000000    0.3  \n63   0.64    0.5    0.2   2.10   3.30  2.300  0.850000    4.6  \n64  -0.23   20.0    1.0  -1.05   0.10  0.930  1.000000    0.3  \n\n[65 rows x 176 columns]",
      "text/html": "<div>\n<style scoped>\n    .dataframe tbody tr th:only-of-type {\n        vertical-align: middle;\n    }\n\n    .dataframe tbody tr th {\n        vertical-align: top;\n    }\n\n    .dataframe thead th {\n        text-align: right;\n    }\n</style>\n<table border=\"1\" class=\"dataframe\">\n  <thead>\n    <tr style=\"text-align: right;\">\n      <th></th>\n      <th>District</th>\n      <th>Object Id</th>\n      <th>Longitude</th>\n      <th>Latitude</th>\n      <th>Slope</th>\n      <th>Soil Type</th>\n      <th>1986</th>\n      <th>1987</th>\n      <th>1988</th>\n      <th>1989</th>\n      <th>...</th>\n      <th>2010.4</th>\n      <th>2011.4</th>\n      <th>2012.4</th>\n      <th>2013.4</th>\n      <th>2014.4</th>\n      <th>2015.4</th>\n      <th>2016.4</th>\n      <th>2017.4</th>\n      <th>2018.4</th>\n      <th>2019.4</th>\n    </tr>\n  </thead>\n  <tbody>\n    <tr>\n      <th>0</th>\n      <td>Hoshiarpur</td>\n      <td>52</td>\n      <td>74.75</td>\n      <td>31.25</td>\n      <td>0.784844</td>\n      <td>Haplic Calcisols</td>\n      <td>Agriculture</td>\n      <td>Agriculture</td>\n      <td>Agriculture</td>\n      <td>Agriculture</td>\n      <td>...</td>\n      <td>-2.20</td>\n      <td>-2.05</td>\n      <td>-0.40</td>\n      <td>-1.5</td>\n      <td>0.9</td>\n      <td>1.85</td>\n      <td>-0.15</td>\n      <td>-2.375</td>\n      <td>-4.900000</td>\n      <td>-1.1</td>\n    </tr>\n    <tr>\n      <th>1</th>\n      <td>Hoshiarpur</td>\n      <td>53</td>\n      <td>75.00</td>\n      <td>31.25</td>\n      <td>0.701995</td>\n      <td>Haplic Calcisols</td>\n      <td>Agriculture</td>\n      <td>Agriculture</td>\n      <td>Agriculture</td>\n      <td>Agriculture</td>\n      <td>...</td>\n      <td>-3.45</td>\n      <td>-0.83</td>\n      <td>-0.90</td>\n      <td>-2.1</td>\n      <td>0.8</td>\n      <td>1.25</td>\n      <td>-0.10</td>\n      <td>-9.530</td>\n      <td>3.783333</td>\n      <td>-3.6</td>\n    </tr>\n    <tr>\n      <th>2</th>\n      <td>Hoshiarpur</td>\n      <td>60</td>\n      <td>74.75</td>\n      <td>31.50</td>\n      <td>1.889588</td>\n      <td>Haplic Calcisols</td>\n      <td>Agriculture</td>\n      <td>Agriculture</td>\n      <td>Agriculture</td>\n      <td>Agriculture</td>\n      <td>...</td>\n      <td>-2.20</td>\n      <td>-2.05</td>\n      <td>-0.40</td>\n      <td>-1.5</td>\n      <td>0.9</td>\n      <td>1.85</td>\n      <td>-0.15</td>\n      <td>-2.375</td>\n      <td>-4.900000</td>\n      <td>-1.1</td>\n    </tr>\n    <tr>\n      <th>3</th>\n      <td>Hoshiarpur</td>\n      <td>61</td>\n      <td>75.00</td>\n      <td>31.50</td>\n      <td>1.889588</td>\n      <td>Haplic Calcisols</td>\n      <td>Agriculture</td>\n      <td>Agriculture</td>\n      <td>Agriculture</td>\n      <td>Agriculture</td>\n      <td>...</td>\n      <td>-3.45</td>\n      <td>-0.83</td>\n      <td>-0.90</td>\n      <td>-2.1</td>\n      <td>0.8</td>\n      <td>1.25</td>\n      <td>-0.10</td>\n      <td>-9.530</td>\n      <td>3.783333</td>\n      <td>-3.6</td>\n    </tr>\n    <tr>\n      <th>4</th>\n      <td>Hoshiarpur</td>\n      <td>62</td>\n      <td>75.25</td>\n      <td>31.50</td>\n      <td>0.351011</td>\n      <td>Haplic Calcisols</td>\n      <td>Agriculture</td>\n      <td>Agriculture</td>\n      <td>Agriculture</td>\n      <td>Agriculture</td>\n      <td>...</td>\n      <td>-2.20</td>\n      <td>-2.05</td>\n      <td>-0.40</td>\n      <td>-1.5</td>\n      <td>0.9</td>\n      <td>1.85</td>\n      <td>-0.15</td>\n      <td>-2.375</td>\n      <td>-4.900000</td>\n      <td>-1.1</td>\n    </tr>\n    <tr>\n      <th>...</th>\n      <td>...</td>\n      <td>...</td>\n      <td>...</td>\n      <td>...</td>\n      <td>...</td>\n      <td>...</td>\n      <td>...</td>\n      <td>...</td>\n      <td>...</td>\n      <td>...</td>\n      <td>...</td>\n      <td>...</td>\n      <td>...</td>\n      <td>...</td>\n      <td>...</td>\n      <td>...</td>\n      <td>...</td>\n      <td>...</td>\n      <td>...</td>\n      <td>...</td>\n      <td>...</td>\n    </tr>\n    <tr>\n      <th>60</th>\n      <td>Patiala</td>\n      <td>19</td>\n      <td>75.75</td>\n      <td>30.25</td>\n      <td>2.353356</td>\n      <td>Haplic Calcisols</td>\n      <td>Agriculture</td>\n      <td>Agriculture</td>\n      <td>Agriculture</td>\n      <td>Agriculture</td>\n      <td>...</td>\n      <td>0.25</td>\n      <td>-0.10</td>\n      <td>-0.23</td>\n      <td>20.0</td>\n      <td>1.0</td>\n      <td>-1.05</td>\n      <td>0.10</td>\n      <td>0.930</td>\n      <td>1.000000</td>\n      <td>0.3</td>\n    </tr>\n    <tr>\n      <th>61</th>\n      <td>Patiala</td>\n      <td>20</td>\n      <td>76.00</td>\n      <td>30.25</td>\n      <td>1.889588</td>\n      <td>Haplic Calcisols</td>\n      <td>Agriculture</td>\n      <td>Agriculture</td>\n      <td>Agriculture</td>\n      <td>Agriculture</td>\n      <td>...</td>\n      <td>-0.04</td>\n      <td>-0.28</td>\n      <td>0.64</td>\n      <td>0.5</td>\n      <td>0.2</td>\n      <td>2.10</td>\n      <td>3.30</td>\n      <td>2.300</td>\n      <td>0.850000</td>\n      <td>4.6</td>\n    </tr>\n    <tr>\n      <th>62</th>\n      <td>Patiala</td>\n      <td>29</td>\n      <td>75.50</td>\n      <td>30.50</td>\n      <td>0.351011</td>\n      <td>Haplic Calcisols</td>\n      <td>Agriculture</td>\n      <td>Agriculture</td>\n      <td>Agriculture</td>\n      <td>Agriculture</td>\n      <td>...</td>\n      <td>0.25</td>\n      <td>-0.10</td>\n      <td>-0.23</td>\n      <td>20.0</td>\n      <td>1.0</td>\n      <td>-1.05</td>\n      <td>0.10</td>\n      <td>0.930</td>\n      <td>1.000000</td>\n      <td>0.3</td>\n    </tr>\n    <tr>\n      <th>63</th>\n      <td>Patiala</td>\n      <td>30</td>\n      <td>75.75</td>\n      <td>30.50</td>\n      <td>1.265397</td>\n      <td>Haplic Calcisols</td>\n      <td>Builtup</td>\n      <td>Builtup</td>\n      <td>Builtup</td>\n      <td>Builtup</td>\n      <td>...</td>\n      <td>-0.04</td>\n      <td>-0.28</td>\n      <td>0.64</td>\n      <td>0.5</td>\n      <td>0.2</td>\n      <td>2.10</td>\n      <td>3.30</td>\n      <td>2.300</td>\n      <td>0.850000</td>\n      <td>4.6</td>\n    </tr>\n    <tr>\n      <th>64</th>\n      <td>Patiala</td>\n      <td>31</td>\n      <td>76.00</td>\n      <td>30.50</td>\n      <td>1.109868</td>\n      <td>Haplic Calcisols</td>\n      <td>Agriculture</td>\n      <td>Agriculture</td>\n      <td>Agriculture</td>\n      <td>Agriculture</td>\n      <td>...</td>\n      <td>0.25</td>\n      <td>-0.10</td>\n      <td>-0.23</td>\n      <td>20.0</td>\n      <td>1.0</td>\n      <td>-1.05</td>\n      <td>0.10</td>\n      <td>0.930</td>\n      <td>1.000000</td>\n      <td>0.3</td>\n    </tr>\n  </tbody>\n</table>\n<p>65 rows × 176 columns</p>\n</div>"
     },
     "execution_count": 3,
     "metadata": {},
     "output_type": "execute_result"
    }
   ],
   "source": [
    "df"
   ],
   "metadata": {
    "collapsed": false
   }
  },
  {
   "cell_type": "code",
   "execution_count": 4,
   "outputs": [],
   "source": [
    "l = list(df.columns)\n",
    "pts = list(df['Object Id'].values)\n",
    "d = {}"
   ],
   "metadata": {
    "collapsed": false
   }
  },
  {
   "cell_type": "code",
   "execution_count": 5,
   "outputs": [],
   "source": [
    "years = [i for i in range(1986, 2020)]\n"
   ],
   "metadata": {
    "collapsed": false
   }
  },
  {
   "cell_type": "code",
   "execution_count": 6,
   "outputs": [],
   "source": [
    "for i in pts:\n",
    "    d[i] = {'Longitude': df['Longitude'][pts.index(i)], 'Latitude': df['Latitude'][pts.index(i)],\n",
    "            'District': df['District'][pts.index(i)], 'Slope': df['Slope'][pts.index(i)],\n",
    "            'Soil Type': df['Soil Type'][pts.index(i)]}"
   ],
   "metadata": {
    "collapsed": false
   }
  },
  {
   "cell_type": "code",
   "execution_count": 7,
   "outputs": [],
   "source": [
    "df1 = pd.DataFrame(columns=['Year', 'District', 'Longitude', 'Latitude', 'Slope', 'Soil Type', 'LULC',\n",
    "                            'Max Temperature', 'Min Temperature', 'Precipitation', 'Groundwater Recharge'])"
   ],
   "metadata": {
    "collapsed": false
   }
  },
  {
   "cell_type": "code",
   "execution_count": 25,
   "outputs": [],
   "source": [
    "for i in pts:\n",
    "    df1 = pd.DataFrame()\n",
    "    v = list(df.iloc[pts.index(i), 6:].values)\n",
    "    df1['Year'] = years\n",
    "    df1['District'] = d[i]['District']\n",
    "    df1['Longitude'] = d[i]['Longitude']\n",
    "    df1['Latitude'] = d[i]['Latitude']\n",
    "    df1['Slope'] = d[i]['Slope']\n",
    "    df1['Soil Type'] = d[i]['Soil Type']\n",
    "    df1['LULC'] = v[0:34]\n",
    "    df1['Max Temperature'] = v[34:68]\n",
    "    df1['Min Temperature'] = v[68:102]\n",
    "    df1['Precipitation'] = v[102:136]\n",
    "    df1['Groundwater Recharge'] = v[136:173]\n",
    "    df1.to_excel(str(i) + '.xlsx', index=False)"
   ],
   "metadata": {
    "collapsed": false
   }
  },
  {
   "cell_type": "code",
   "execution_count": 24,
   "outputs": [
    {
     "data": {
      "text/plain": "array(['Agriculture', 'Agriculture', 'Agriculture', 'Agriculture',\n       'Agriculture', 'Agriculture', 'Agriculture', 'Agriculture',\n       'Agriculture', 'Agriculture', 'Agriculture', 'Agriculture',\n       'Agriculture', 'Agriculture', 'Agriculture', 'Agriculture',\n       'Agriculture', 'Agriculture', 'Agriculture', 'Agriculture',\n       'Agriculture', 'Agriculture', 'Agriculture', 'Agriculture',\n       'Agriculture', 'Agriculture', 'Agriculture', 'Agriculture',\n       'Agriculture', 'Agriculture', 'Builtup', 'Builtup', 'Builtup',\n       'Builtup', 40.902, 43.932, 40.48999999999999, 42.026, 40.756,\n       41.83199999999999, 40.872, 41.726, 40.20399999999999, 40.858,\n       39.65, 40.59, 42.174, 42.54199999999999, 42.014, 40.246, 42.602,\n       40.77, 40.98, 41.26000000000001, 39.48200000000001,\n       40.90199999999999, 36.482, 42.09399999999999, 39.16, 38.514,\n       42.20399999999999, 38.974, 39.752, 39.914, 39.182, 39.938, 37.816,\n       38.9, 21.64, 23.072, 22.144, 21.556, 22.416, 22.114, 21.748,\n       21.106, 21.21, 21.924, 20.856, 21.824, 22.594, 22.454, 21.566,\n       22.114, 23.22, 22.982, 22.984, 21.926, 22.11, 23.348, 21.966,\n       22.832, 21.272, 22.12, 22.52, 21.896, 23.016, 21.306, 22.686,\n       21.494, 22.208, 22.342, 167.86, 93.04, 302.4, 199.08, 240.16,\n       144.84, 202.94, 153.8, 160.54, 245.58, 246.08, 220.4, 147.46,\n       143.06, 169.88, 183.76, 151.52, 187.68, 139.4, 161.58, 310.62,\n       142.88, 214.26, 99.46, 207.24, 235.94, 187.64, 252.14, 218.98,\n       227.74, 186.66, 174.0, 208.76, 198.88, -0.7, -0.7399999999999999,\n       -1.35, -1.26, -1.13, -0.84, -1.3, -2.04, -1.0, -2.65, -2.49, -1.46,\n       -1.75, -0.76, -1.51, -1.66, -0.9299999999999997, -2.26, -1.39,\n       -0.75, -2.15, -1.43, -1.87, -2.5, -2.2, -2.05, -0.3999999999999999,\n       -1.5, 0.8999999999999999, 1.85, -0.1499999999999995, -2.375,\n       -4.899999999999999, -1.1], dtype=object)"
     },
     "execution_count": 24,
     "metadata": {},
     "output_type": "execute_result"
    }
   ],
   "source": [
    "df.iloc[pts.index(52), 6:].values"
   ],
   "metadata": {
    "collapsed": false
   }
  },
  {
   "cell_type": "code",
   "execution_count": null,
   "outputs": [],
   "source": [],
   "metadata": {
    "collapsed": false
   }
  }
 ],
 "metadata": {
  "kernelspec": {
   "display_name": "Python 3",
   "language": "python",
   "name": "python3"
  },
  "language_info": {
   "codemirror_mode": {
    "name": "ipython",
    "version": 2
   },
   "file_extension": ".py",
   "mimetype": "text/x-python",
   "name": "python",
   "nbconvert_exporter": "python",
   "pygments_lexer": "ipython2",
   "version": "2.7.6"
  }
 },
 "nbformat": 4,
 "nbformat_minor": 0
}
