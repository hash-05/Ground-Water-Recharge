{
 "cells": [
  {
   "cell_type": "code",
   "execution_count": 1,
   "metadata": {
    "collapsed": true
   },
   "outputs": [],
   "source": [
    "import numpy as np\n",
    "import pandas as pd\n",
    "from sklearn.preprocessing import MinMaxScaler\n",
    "from sklearn.model_selection import StratifiedKFold\n",
    "\n"
   ]
  },
  {
   "cell_type": "code",
   "execution_count": 2,
   "outputs": [],
   "source": [
    "df2 = pd.DataFrame()\n",
    "n = [3, 4, 5, 12, 13, 14, 23, 24, 25, 44]\n",
    "for i in range(1, 76):\n",
    "    if i not in n:\n",
    "        df = pd.read_excel(\"B:\\GroundwaterRech\\GithubRepo\\Restart\\Dataset\\District Wise\\\\\" + str(i) + \".xlsx\")\n",
    "        df1 = df.drop(['Year', 'Longitude', 'Latitude'], axis=1)\n",
    "        df2 = pd.concat([df2, df1])"
   ],
   "metadata": {
    "collapsed": false
   }
  },
  {
   "cell_type": "code",
   "execution_count": 3,
   "outputs": [
    {
     "data": {
      "text/plain": "                     District     Slope           Soil Type         LULC  \\\n0                    Faridkot  0.496398             Builtup  Agriculture   \n1                    Faridkot  0.496398             Builtup  Agriculture   \n2                    Faridkot  0.496398             Builtup  Agriculture   \n3                    Faridkot  0.496398             Builtup  Agriculture   \n4                    Faridkot  0.496398             Builtup  Agriculture   \n..                        ...       ...                 ...          ...   \n29  Shahid Bhagat Singh Nagar  2.827676  Calcaric Fluvisols      Builtup   \n30  Shahid Bhagat Singh Nagar  2.827676  Calcaric Fluvisols      Builtup   \n31  Shahid Bhagat Singh Nagar  2.827676  Calcaric Fluvisols      Builtup   \n32  Shahid Bhagat Singh Nagar  2.827676  Calcaric Fluvisols      Builtup   \n33  Shahid Bhagat Singh Nagar  2.827676  Calcaric Fluvisols      Builtup   \n\n    Max Temperature  Min Temperature  Precipitation  Groundwater Recharge  \n0            42.902           21.724          74.26                 -0.09  \n1            45.352           23.562          39.16                  0.83  \n2            41.710           22.326         120.64                 -1.48  \n3            43.788           22.494          79.64                  0.30  \n4            42.016           22.742         105.90                 -0.80  \n..              ...              ...            ...                   ...  \n29           41.738           21.140         216.40                  0.50  \n30           42.502           22.722         210.86                  0.30  \n31           42.956           21.792         233.44                  0.65  \n32           42.238           22.246         246.28                  0.10  \n33           43.000           22.532         203.82                 -1.00  \n\n[2210 rows x 8 columns]",
      "text/html": "<div>\n<style scoped>\n    .dataframe tbody tr th:only-of-type {\n        vertical-align: middle;\n    }\n\n    .dataframe tbody tr th {\n        vertical-align: top;\n    }\n\n    .dataframe thead th {\n        text-align: right;\n    }\n</style>\n<table border=\"1\" class=\"dataframe\">\n  <thead>\n    <tr style=\"text-align: right;\">\n      <th></th>\n      <th>District</th>\n      <th>Slope</th>\n      <th>Soil Type</th>\n      <th>LULC</th>\n      <th>Max Temperature</th>\n      <th>Min Temperature</th>\n      <th>Precipitation</th>\n      <th>Groundwater Recharge</th>\n    </tr>\n  </thead>\n  <tbody>\n    <tr>\n      <th>0</th>\n      <td>Faridkot</td>\n      <td>0.496398</td>\n      <td>Builtup</td>\n      <td>Agriculture</td>\n      <td>42.902</td>\n      <td>21.724</td>\n      <td>74.26</td>\n      <td>-0.09</td>\n    </tr>\n    <tr>\n      <th>1</th>\n      <td>Faridkot</td>\n      <td>0.496398</td>\n      <td>Builtup</td>\n      <td>Agriculture</td>\n      <td>45.352</td>\n      <td>23.562</td>\n      <td>39.16</td>\n      <td>0.83</td>\n    </tr>\n    <tr>\n      <th>2</th>\n      <td>Faridkot</td>\n      <td>0.496398</td>\n      <td>Builtup</td>\n      <td>Agriculture</td>\n      <td>41.710</td>\n      <td>22.326</td>\n      <td>120.64</td>\n      <td>-1.48</td>\n    </tr>\n    <tr>\n      <th>3</th>\n      <td>Faridkot</td>\n      <td>0.496398</td>\n      <td>Builtup</td>\n      <td>Agriculture</td>\n      <td>43.788</td>\n      <td>22.494</td>\n      <td>79.64</td>\n      <td>0.30</td>\n    </tr>\n    <tr>\n      <th>4</th>\n      <td>Faridkot</td>\n      <td>0.496398</td>\n      <td>Builtup</td>\n      <td>Agriculture</td>\n      <td>42.016</td>\n      <td>22.742</td>\n      <td>105.90</td>\n      <td>-0.80</td>\n    </tr>\n    <tr>\n      <th>...</th>\n      <td>...</td>\n      <td>...</td>\n      <td>...</td>\n      <td>...</td>\n      <td>...</td>\n      <td>...</td>\n      <td>...</td>\n      <td>...</td>\n    </tr>\n    <tr>\n      <th>29</th>\n      <td>Shahid Bhagat Singh Nagar</td>\n      <td>2.827676</td>\n      <td>Calcaric Fluvisols</td>\n      <td>Builtup</td>\n      <td>41.738</td>\n      <td>21.140</td>\n      <td>216.40</td>\n      <td>0.50</td>\n    </tr>\n    <tr>\n      <th>30</th>\n      <td>Shahid Bhagat Singh Nagar</td>\n      <td>2.827676</td>\n      <td>Calcaric Fluvisols</td>\n      <td>Builtup</td>\n      <td>42.502</td>\n      <td>22.722</td>\n      <td>210.86</td>\n      <td>0.30</td>\n    </tr>\n    <tr>\n      <th>31</th>\n      <td>Shahid Bhagat Singh Nagar</td>\n      <td>2.827676</td>\n      <td>Calcaric Fluvisols</td>\n      <td>Builtup</td>\n      <td>42.956</td>\n      <td>21.792</td>\n      <td>233.44</td>\n      <td>0.65</td>\n    </tr>\n    <tr>\n      <th>32</th>\n      <td>Shahid Bhagat Singh Nagar</td>\n      <td>2.827676</td>\n      <td>Calcaric Fluvisols</td>\n      <td>Builtup</td>\n      <td>42.238</td>\n      <td>22.246</td>\n      <td>246.28</td>\n      <td>0.10</td>\n    </tr>\n    <tr>\n      <th>33</th>\n      <td>Shahid Bhagat Singh Nagar</td>\n      <td>2.827676</td>\n      <td>Calcaric Fluvisols</td>\n      <td>Builtup</td>\n      <td>43.000</td>\n      <td>22.532</td>\n      <td>203.82</td>\n      <td>-1.00</td>\n    </tr>\n  </tbody>\n</table>\n<p>2210 rows × 8 columns</p>\n</div>"
     },
     "execution_count": 3,
     "metadata": {},
     "output_type": "execute_result"
    }
   ],
   "source": [
    "df2"
   ],
   "metadata": {
    "collapsed": false
   }
  },
  {
   "cell_type": "code",
   "execution_count": 4,
   "outputs": [],
   "source": [
    "df2 = df2.reset_index()"
   ],
   "metadata": {
    "collapsed": false
   }
  },
  {
   "cell_type": "code",
   "execution_count": 5,
   "outputs": [],
   "source": [
    "df2.drop('index', inplace=True, axis=1)"
   ],
   "metadata": {
    "collapsed": false
   }
  },
  {
   "cell_type": "code",
   "execution_count": 6,
   "outputs": [
    {
     "data": {
      "text/plain": "                       District     Slope           Soil Type         LULC  \\\n0                      Faridkot  0.496398             Builtup  Agriculture   \n1                      Faridkot  0.496398             Builtup  Agriculture   \n2                      Faridkot  0.496398             Builtup  Agriculture   \n3                      Faridkot  0.496398             Builtup  Agriculture   \n4                      Faridkot  0.496398             Builtup  Agriculture   \n...                         ...       ...                 ...          ...   \n2205  Shahid Bhagat Singh Nagar  2.827676  Calcaric Fluvisols      Builtup   \n2206  Shahid Bhagat Singh Nagar  2.827676  Calcaric Fluvisols      Builtup   \n2207  Shahid Bhagat Singh Nagar  2.827676  Calcaric Fluvisols      Builtup   \n2208  Shahid Bhagat Singh Nagar  2.827676  Calcaric Fluvisols      Builtup   \n2209  Shahid Bhagat Singh Nagar  2.827676  Calcaric Fluvisols      Builtup   \n\n      Max Temperature  Min Temperature  Precipitation  Groundwater Recharge  \n0              42.902           21.724          74.26                 -0.09  \n1              45.352           23.562          39.16                  0.83  \n2              41.710           22.326         120.64                 -1.48  \n3              43.788           22.494          79.64                  0.30  \n4              42.016           22.742         105.90                 -0.80  \n...               ...              ...            ...                   ...  \n2205           41.738           21.140         216.40                  0.50  \n2206           42.502           22.722         210.86                  0.30  \n2207           42.956           21.792         233.44                  0.65  \n2208           42.238           22.246         246.28                  0.10  \n2209           43.000           22.532         203.82                 -1.00  \n\n[2210 rows x 8 columns]",
      "text/html": "<div>\n<style scoped>\n    .dataframe tbody tr th:only-of-type {\n        vertical-align: middle;\n    }\n\n    .dataframe tbody tr th {\n        vertical-align: top;\n    }\n\n    .dataframe thead th {\n        text-align: right;\n    }\n</style>\n<table border=\"1\" class=\"dataframe\">\n  <thead>\n    <tr style=\"text-align: right;\">\n      <th></th>\n      <th>District</th>\n      <th>Slope</th>\n      <th>Soil Type</th>\n      <th>LULC</th>\n      <th>Max Temperature</th>\n      <th>Min Temperature</th>\n      <th>Precipitation</th>\n      <th>Groundwater Recharge</th>\n    </tr>\n  </thead>\n  <tbody>\n    <tr>\n      <th>0</th>\n      <td>Faridkot</td>\n      <td>0.496398</td>\n      <td>Builtup</td>\n      <td>Agriculture</td>\n      <td>42.902</td>\n      <td>21.724</td>\n      <td>74.26</td>\n      <td>-0.09</td>\n    </tr>\n    <tr>\n      <th>1</th>\n      <td>Faridkot</td>\n      <td>0.496398</td>\n      <td>Builtup</td>\n      <td>Agriculture</td>\n      <td>45.352</td>\n      <td>23.562</td>\n      <td>39.16</td>\n      <td>0.83</td>\n    </tr>\n    <tr>\n      <th>2</th>\n      <td>Faridkot</td>\n      <td>0.496398</td>\n      <td>Builtup</td>\n      <td>Agriculture</td>\n      <td>41.710</td>\n      <td>22.326</td>\n      <td>120.64</td>\n      <td>-1.48</td>\n    </tr>\n    <tr>\n      <th>3</th>\n      <td>Faridkot</td>\n      <td>0.496398</td>\n      <td>Builtup</td>\n      <td>Agriculture</td>\n      <td>43.788</td>\n      <td>22.494</td>\n      <td>79.64</td>\n      <td>0.30</td>\n    </tr>\n    <tr>\n      <th>4</th>\n      <td>Faridkot</td>\n      <td>0.496398</td>\n      <td>Builtup</td>\n      <td>Agriculture</td>\n      <td>42.016</td>\n      <td>22.742</td>\n      <td>105.90</td>\n      <td>-0.80</td>\n    </tr>\n    <tr>\n      <th>...</th>\n      <td>...</td>\n      <td>...</td>\n      <td>...</td>\n      <td>...</td>\n      <td>...</td>\n      <td>...</td>\n      <td>...</td>\n      <td>...</td>\n    </tr>\n    <tr>\n      <th>2205</th>\n      <td>Shahid Bhagat Singh Nagar</td>\n      <td>2.827676</td>\n      <td>Calcaric Fluvisols</td>\n      <td>Builtup</td>\n      <td>41.738</td>\n      <td>21.140</td>\n      <td>216.40</td>\n      <td>0.50</td>\n    </tr>\n    <tr>\n      <th>2206</th>\n      <td>Shahid Bhagat Singh Nagar</td>\n      <td>2.827676</td>\n      <td>Calcaric Fluvisols</td>\n      <td>Builtup</td>\n      <td>42.502</td>\n      <td>22.722</td>\n      <td>210.86</td>\n      <td>0.30</td>\n    </tr>\n    <tr>\n      <th>2207</th>\n      <td>Shahid Bhagat Singh Nagar</td>\n      <td>2.827676</td>\n      <td>Calcaric Fluvisols</td>\n      <td>Builtup</td>\n      <td>42.956</td>\n      <td>21.792</td>\n      <td>233.44</td>\n      <td>0.65</td>\n    </tr>\n    <tr>\n      <th>2208</th>\n      <td>Shahid Bhagat Singh Nagar</td>\n      <td>2.827676</td>\n      <td>Calcaric Fluvisols</td>\n      <td>Builtup</td>\n      <td>42.238</td>\n      <td>22.246</td>\n      <td>246.28</td>\n      <td>0.10</td>\n    </tr>\n    <tr>\n      <th>2209</th>\n      <td>Shahid Bhagat Singh Nagar</td>\n      <td>2.827676</td>\n      <td>Calcaric Fluvisols</td>\n      <td>Builtup</td>\n      <td>43.000</td>\n      <td>22.532</td>\n      <td>203.82</td>\n      <td>-1.00</td>\n    </tr>\n  </tbody>\n</table>\n<p>2210 rows × 8 columns</p>\n</div>"
     },
     "execution_count": 6,
     "metadata": {},
     "output_type": "execute_result"
    }
   ],
   "source": [
    "df2"
   ],
   "metadata": {
    "collapsed": false
   }
  },
  {
   "cell_type": "code",
   "execution_count": 7,
   "outputs": [
    {
     "data": {
      "text/plain": "array(['Builtup', 'Haplic Calcisols', 'Bulitup', 'Loam',\n       'Haplic Luvisols', 'Calcaric Fluvisols'], dtype=object)"
     },
     "execution_count": 7,
     "metadata": {},
     "output_type": "execute_result"
    }
   ],
   "source": [
    "df2['Soil Type'].unique()"
   ],
   "metadata": {
    "collapsed": false
   }
  },
  {
   "cell_type": "code",
   "execution_count": 8,
   "outputs": [],
   "source": [
    "df2['Soil Type'] = df2['Soil Type'].replace('Builtup', 1)\n",
    "df2['Soil Type'] = df2['Soil Type'].replace('Bulitup', 1)\n",
    "\n",
    "df2['Soil Type'] = df2['Soil Type'].replace('Haplic Luvisols', 2)\n",
    "df2['Soil Type'] = df2['Soil Type'].replace('Haplic Calcisols', 3)\n",
    "df2['Soil Type'] = df2['Soil Type'].replace('Loam', 4)\n",
    "df2['Soil Type'] = df2['Soil Type'].replace('Calcaric Fluvisols', 5)\n"
   ],
   "metadata": {
    "collapsed": false
   }
  },
  {
   "cell_type": "code",
   "execution_count": 9,
   "outputs": [
    {
     "data": {
      "text/plain": "                       District     Slope  Soil Type         LULC  \\\n0                      Faridkot  0.496398          1  Agriculture   \n1                      Faridkot  0.496398          1  Agriculture   \n2                      Faridkot  0.496398          1  Agriculture   \n3                      Faridkot  0.496398          1  Agriculture   \n4                      Faridkot  0.496398          1  Agriculture   \n...                         ...       ...        ...          ...   \n2205  Shahid Bhagat Singh Nagar  2.827676          5      Builtup   \n2206  Shahid Bhagat Singh Nagar  2.827676          5      Builtup   \n2207  Shahid Bhagat Singh Nagar  2.827676          5      Builtup   \n2208  Shahid Bhagat Singh Nagar  2.827676          5      Builtup   \n2209  Shahid Bhagat Singh Nagar  2.827676          5      Builtup   \n\n      Max Temperature  Min Temperature  Precipitation  Groundwater Recharge  \n0              42.902           21.724          74.26                 -0.09  \n1              45.352           23.562          39.16                  0.83  \n2              41.710           22.326         120.64                 -1.48  \n3              43.788           22.494          79.64                  0.30  \n4              42.016           22.742         105.90                 -0.80  \n...               ...              ...            ...                   ...  \n2205           41.738           21.140         216.40                  0.50  \n2206           42.502           22.722         210.86                  0.30  \n2207           42.956           21.792         233.44                  0.65  \n2208           42.238           22.246         246.28                  0.10  \n2209           43.000           22.532         203.82                 -1.00  \n\n[2210 rows x 8 columns]",
      "text/html": "<div>\n<style scoped>\n    .dataframe tbody tr th:only-of-type {\n        vertical-align: middle;\n    }\n\n    .dataframe tbody tr th {\n        vertical-align: top;\n    }\n\n    .dataframe thead th {\n        text-align: right;\n    }\n</style>\n<table border=\"1\" class=\"dataframe\">\n  <thead>\n    <tr style=\"text-align: right;\">\n      <th></th>\n      <th>District</th>\n      <th>Slope</th>\n      <th>Soil Type</th>\n      <th>LULC</th>\n      <th>Max Temperature</th>\n      <th>Min Temperature</th>\n      <th>Precipitation</th>\n      <th>Groundwater Recharge</th>\n    </tr>\n  </thead>\n  <tbody>\n    <tr>\n      <th>0</th>\n      <td>Faridkot</td>\n      <td>0.496398</td>\n      <td>1</td>\n      <td>Agriculture</td>\n      <td>42.902</td>\n      <td>21.724</td>\n      <td>74.26</td>\n      <td>-0.09</td>\n    </tr>\n    <tr>\n      <th>1</th>\n      <td>Faridkot</td>\n      <td>0.496398</td>\n      <td>1</td>\n      <td>Agriculture</td>\n      <td>45.352</td>\n      <td>23.562</td>\n      <td>39.16</td>\n      <td>0.83</td>\n    </tr>\n    <tr>\n      <th>2</th>\n      <td>Faridkot</td>\n      <td>0.496398</td>\n      <td>1</td>\n      <td>Agriculture</td>\n      <td>41.710</td>\n      <td>22.326</td>\n      <td>120.64</td>\n      <td>-1.48</td>\n    </tr>\n    <tr>\n      <th>3</th>\n      <td>Faridkot</td>\n      <td>0.496398</td>\n      <td>1</td>\n      <td>Agriculture</td>\n      <td>43.788</td>\n      <td>22.494</td>\n      <td>79.64</td>\n      <td>0.30</td>\n    </tr>\n    <tr>\n      <th>4</th>\n      <td>Faridkot</td>\n      <td>0.496398</td>\n      <td>1</td>\n      <td>Agriculture</td>\n      <td>42.016</td>\n      <td>22.742</td>\n      <td>105.90</td>\n      <td>-0.80</td>\n    </tr>\n    <tr>\n      <th>...</th>\n      <td>...</td>\n      <td>...</td>\n      <td>...</td>\n      <td>...</td>\n      <td>...</td>\n      <td>...</td>\n      <td>...</td>\n      <td>...</td>\n    </tr>\n    <tr>\n      <th>2205</th>\n      <td>Shahid Bhagat Singh Nagar</td>\n      <td>2.827676</td>\n      <td>5</td>\n      <td>Builtup</td>\n      <td>41.738</td>\n      <td>21.140</td>\n      <td>216.40</td>\n      <td>0.50</td>\n    </tr>\n    <tr>\n      <th>2206</th>\n      <td>Shahid Bhagat Singh Nagar</td>\n      <td>2.827676</td>\n      <td>5</td>\n      <td>Builtup</td>\n      <td>42.502</td>\n      <td>22.722</td>\n      <td>210.86</td>\n      <td>0.30</td>\n    </tr>\n    <tr>\n      <th>2207</th>\n      <td>Shahid Bhagat Singh Nagar</td>\n      <td>2.827676</td>\n      <td>5</td>\n      <td>Builtup</td>\n      <td>42.956</td>\n      <td>21.792</td>\n      <td>233.44</td>\n      <td>0.65</td>\n    </tr>\n    <tr>\n      <th>2208</th>\n      <td>Shahid Bhagat Singh Nagar</td>\n      <td>2.827676</td>\n      <td>5</td>\n      <td>Builtup</td>\n      <td>42.238</td>\n      <td>22.246</td>\n      <td>246.28</td>\n      <td>0.10</td>\n    </tr>\n    <tr>\n      <th>2209</th>\n      <td>Shahid Bhagat Singh Nagar</td>\n      <td>2.827676</td>\n      <td>5</td>\n      <td>Builtup</td>\n      <td>43.000</td>\n      <td>22.532</td>\n      <td>203.82</td>\n      <td>-1.00</td>\n    </tr>\n  </tbody>\n</table>\n<p>2210 rows × 8 columns</p>\n</div>"
     },
     "execution_count": 9,
     "metadata": {},
     "output_type": "execute_result"
    }
   ],
   "source": [
    "df2"
   ],
   "metadata": {
    "collapsed": false
   }
  },
  {
   "cell_type": "code",
   "execution_count": 10,
   "outputs": [],
   "source": [
    "X = df2.drop('Groundwater Recharge', axis=1)\n",
    "y = df2['Groundwater Recharge']"
   ],
   "metadata": {
    "collapsed": false
   }
  },
  {
   "cell_type": "code",
   "execution_count": 11,
   "outputs": [],
   "source": [
    "X = pd.get_dummies(X)"
   ],
   "metadata": {
    "collapsed": false
   }
  },
  {
   "cell_type": "code",
   "execution_count": 12,
   "outputs": [
    {
     "data": {
      "text/plain": "         Slope  Soil Type  Max Temperature  Min Temperature  Precipitation  \\\n0     0.496398          1           42.902           21.724          74.26   \n1     0.496398          1           45.352           23.562          39.16   \n2     0.496398          1           41.710           22.326         120.64   \n3     0.496398          1           43.788           22.494          79.64   \n4     0.496398          1           42.016           22.742         105.90   \n...        ...        ...              ...              ...            ...   \n2205  2.827676          5           41.738           21.140         216.40   \n2206  2.827676          5           42.502           22.722         210.86   \n2207  2.827676          5           42.956           21.792         233.44   \n2208  2.827676          5           42.238           22.246         246.28   \n2209  2.827676          5           43.000           22.532         203.82   \n\n      District_Amritsar  District_Barnala  District_Bathinda  \\\n0                     0                 0                  0   \n1                     0                 0                  0   \n2                     0                 0                  0   \n3                     0                 0                  0   \n4                     0                 0                  0   \n...                 ...               ...                ...   \n2205                  0                 0                  0   \n2206                  0                 0                  0   \n2207                  0                 0                  0   \n2208                  0                 0                  0   \n2209                  0                 0                  0   \n\n      District_Faridkot  District_Fatehgarh Sahib  ...  District_Mohali  \\\n0                     1                         0  ...                0   \n1                     1                         0  ...                0   \n2                     1                         0  ...                0   \n3                     1                         0  ...                0   \n4                     1                         0  ...                0   \n...                 ...                       ...  ...              ...   \n2205                  0                         0  ...                0   \n2206                  0                         0  ...                0   \n2207                  0                         0  ...                0   \n2208                  0                         0  ...                0   \n2209                  0                         0  ...                0   \n\n      District_Patiala  District_Rupnagar  District_Sangrur  \\\n0                    0                  0                 0   \n1                    0                  0                 0   \n2                    0                  0                 0   \n3                    0                  0                 0   \n4                    0                  0                 0   \n...                ...                ...               ...   \n2205                 0                  0                 0   \n2206                 0                  0                 0   \n2207                 0                  0                 0   \n2208                 0                  0                 0   \n2209                 0                  0                 0   \n\n      District_Shahid Bhagat Singh Nagar  District_Tarn Taran  \\\n0                                      0                    0   \n1                                      0                    0   \n2                                      0                    0   \n3                                      0                    0   \n4                                      0                    0   \n...                                  ...                  ...   \n2205                                   1                    0   \n2206                                   1                    0   \n2207                                   1                    0   \n2208                                   1                    0   \n2209                                   1                    0   \n\n      LULC_Agriculture  LULC_Builtup  LULC_Forest  LULC_Lake  \n0                    1             0            0          0  \n1                    1             0            0          0  \n2                    1             0            0          0  \n3                    1             0            0          0  \n4                    1             0            0          0  \n...                ...           ...          ...        ...  \n2205                 0             1            0          0  \n2206                 0             1            0          0  \n2207                 0             1            0          0  \n2208                 0             1            0          0  \n2209                 0             1            0          0  \n\n[2210 rows x 25 columns]",
      "text/html": "<div>\n<style scoped>\n    .dataframe tbody tr th:only-of-type {\n        vertical-align: middle;\n    }\n\n    .dataframe tbody tr th {\n        vertical-align: top;\n    }\n\n    .dataframe thead th {\n        text-align: right;\n    }\n</style>\n<table border=\"1\" class=\"dataframe\">\n  <thead>\n    <tr style=\"text-align: right;\">\n      <th></th>\n      <th>Slope</th>\n      <th>Soil Type</th>\n      <th>Max Temperature</th>\n      <th>Min Temperature</th>\n      <th>Precipitation</th>\n      <th>District_Amritsar</th>\n      <th>District_Barnala</th>\n      <th>District_Bathinda</th>\n      <th>District_Faridkot</th>\n      <th>District_Fatehgarh Sahib</th>\n      <th>...</th>\n      <th>District_Mohali</th>\n      <th>District_Patiala</th>\n      <th>District_Rupnagar</th>\n      <th>District_Sangrur</th>\n      <th>District_Shahid Bhagat Singh Nagar</th>\n      <th>District_Tarn Taran</th>\n      <th>LULC_Agriculture</th>\n      <th>LULC_Builtup</th>\n      <th>LULC_Forest</th>\n      <th>LULC_Lake</th>\n    </tr>\n  </thead>\n  <tbody>\n    <tr>\n      <th>0</th>\n      <td>0.496398</td>\n      <td>1</td>\n      <td>42.902</td>\n      <td>21.724</td>\n      <td>74.26</td>\n      <td>0</td>\n      <td>0</td>\n      <td>0</td>\n      <td>1</td>\n      <td>0</td>\n      <td>...</td>\n      <td>0</td>\n      <td>0</td>\n      <td>0</td>\n      <td>0</td>\n      <td>0</td>\n      <td>0</td>\n      <td>1</td>\n      <td>0</td>\n      <td>0</td>\n      <td>0</td>\n    </tr>\n    <tr>\n      <th>1</th>\n      <td>0.496398</td>\n      <td>1</td>\n      <td>45.352</td>\n      <td>23.562</td>\n      <td>39.16</td>\n      <td>0</td>\n      <td>0</td>\n      <td>0</td>\n      <td>1</td>\n      <td>0</td>\n      <td>...</td>\n      <td>0</td>\n      <td>0</td>\n      <td>0</td>\n      <td>0</td>\n      <td>0</td>\n      <td>0</td>\n      <td>1</td>\n      <td>0</td>\n      <td>0</td>\n      <td>0</td>\n    </tr>\n    <tr>\n      <th>2</th>\n      <td>0.496398</td>\n      <td>1</td>\n      <td>41.710</td>\n      <td>22.326</td>\n      <td>120.64</td>\n      <td>0</td>\n      <td>0</td>\n      <td>0</td>\n      <td>1</td>\n      <td>0</td>\n      <td>...</td>\n      <td>0</td>\n      <td>0</td>\n      <td>0</td>\n      <td>0</td>\n      <td>0</td>\n      <td>0</td>\n      <td>1</td>\n      <td>0</td>\n      <td>0</td>\n      <td>0</td>\n    </tr>\n    <tr>\n      <th>3</th>\n      <td>0.496398</td>\n      <td>1</td>\n      <td>43.788</td>\n      <td>22.494</td>\n      <td>79.64</td>\n      <td>0</td>\n      <td>0</td>\n      <td>0</td>\n      <td>1</td>\n      <td>0</td>\n      <td>...</td>\n      <td>0</td>\n      <td>0</td>\n      <td>0</td>\n      <td>0</td>\n      <td>0</td>\n      <td>0</td>\n      <td>1</td>\n      <td>0</td>\n      <td>0</td>\n      <td>0</td>\n    </tr>\n    <tr>\n      <th>4</th>\n      <td>0.496398</td>\n      <td>1</td>\n      <td>42.016</td>\n      <td>22.742</td>\n      <td>105.90</td>\n      <td>0</td>\n      <td>0</td>\n      <td>0</td>\n      <td>1</td>\n      <td>0</td>\n      <td>...</td>\n      <td>0</td>\n      <td>0</td>\n      <td>0</td>\n      <td>0</td>\n      <td>0</td>\n      <td>0</td>\n      <td>1</td>\n      <td>0</td>\n      <td>0</td>\n      <td>0</td>\n    </tr>\n    <tr>\n      <th>...</th>\n      <td>...</td>\n      <td>...</td>\n      <td>...</td>\n      <td>...</td>\n      <td>...</td>\n      <td>...</td>\n      <td>...</td>\n      <td>...</td>\n      <td>...</td>\n      <td>...</td>\n      <td>...</td>\n      <td>...</td>\n      <td>...</td>\n      <td>...</td>\n      <td>...</td>\n      <td>...</td>\n      <td>...</td>\n      <td>...</td>\n      <td>...</td>\n      <td>...</td>\n      <td>...</td>\n    </tr>\n    <tr>\n      <th>2205</th>\n      <td>2.827676</td>\n      <td>5</td>\n      <td>41.738</td>\n      <td>21.140</td>\n      <td>216.40</td>\n      <td>0</td>\n      <td>0</td>\n      <td>0</td>\n      <td>0</td>\n      <td>0</td>\n      <td>...</td>\n      <td>0</td>\n      <td>0</td>\n      <td>0</td>\n      <td>0</td>\n      <td>1</td>\n      <td>0</td>\n      <td>0</td>\n      <td>1</td>\n      <td>0</td>\n      <td>0</td>\n    </tr>\n    <tr>\n      <th>2206</th>\n      <td>2.827676</td>\n      <td>5</td>\n      <td>42.502</td>\n      <td>22.722</td>\n      <td>210.86</td>\n      <td>0</td>\n      <td>0</td>\n      <td>0</td>\n      <td>0</td>\n      <td>0</td>\n      <td>...</td>\n      <td>0</td>\n      <td>0</td>\n      <td>0</td>\n      <td>0</td>\n      <td>1</td>\n      <td>0</td>\n      <td>0</td>\n      <td>1</td>\n      <td>0</td>\n      <td>0</td>\n    </tr>\n    <tr>\n      <th>2207</th>\n      <td>2.827676</td>\n      <td>5</td>\n      <td>42.956</td>\n      <td>21.792</td>\n      <td>233.44</td>\n      <td>0</td>\n      <td>0</td>\n      <td>0</td>\n      <td>0</td>\n      <td>0</td>\n      <td>...</td>\n      <td>0</td>\n      <td>0</td>\n      <td>0</td>\n      <td>0</td>\n      <td>1</td>\n      <td>0</td>\n      <td>0</td>\n      <td>1</td>\n      <td>0</td>\n      <td>0</td>\n    </tr>\n    <tr>\n      <th>2208</th>\n      <td>2.827676</td>\n      <td>5</td>\n      <td>42.238</td>\n      <td>22.246</td>\n      <td>246.28</td>\n      <td>0</td>\n      <td>0</td>\n      <td>0</td>\n      <td>0</td>\n      <td>0</td>\n      <td>...</td>\n      <td>0</td>\n      <td>0</td>\n      <td>0</td>\n      <td>0</td>\n      <td>1</td>\n      <td>0</td>\n      <td>0</td>\n      <td>1</td>\n      <td>0</td>\n      <td>0</td>\n    </tr>\n    <tr>\n      <th>2209</th>\n      <td>2.827676</td>\n      <td>5</td>\n      <td>43.000</td>\n      <td>22.532</td>\n      <td>203.82</td>\n      <td>0</td>\n      <td>0</td>\n      <td>0</td>\n      <td>0</td>\n      <td>0</td>\n      <td>...</td>\n      <td>0</td>\n      <td>0</td>\n      <td>0</td>\n      <td>0</td>\n      <td>1</td>\n      <td>0</td>\n      <td>0</td>\n      <td>1</td>\n      <td>0</td>\n      <td>0</td>\n    </tr>\n  </tbody>\n</table>\n<p>2210 rows × 25 columns</p>\n</div>"
     },
     "execution_count": 12,
     "metadata": {},
     "output_type": "execute_result"
    }
   ],
   "source": [
    "X"
   ],
   "metadata": {
    "collapsed": false
   }
  },
  {
   "cell_type": "code",
   "execution_count": 13,
   "outputs": [],
   "source": [
    "scaler = MinMaxScaler()\n",
    "X = scaler.fit_transform(X)"
   ],
   "metadata": {
    "collapsed": false
   }
  },
  {
   "cell_type": "code",
   "execution_count": 14,
   "outputs": [],
   "source": [
    "from sklearn.model_selection import train_test_split\n",
    "\n",
    "train_data, test_data, train_labels, test_labels = train_test_split(X, y, test_size=0.2, random_state=42)"
   ],
   "metadata": {
    "collapsed": false
   }
  },
  {
   "cell_type": "code",
   "execution_count": 15,
   "outputs": [],
   "source": [
    "stratified_split_cv = StratifiedKFold(n_splits=10, shuffle=True, random_state=65)\n"
   ],
   "metadata": {
    "collapsed": false
   }
  },
  {
   "cell_type": "code",
   "execution_count": 16,
   "outputs": [],
   "source": [
    "from sklearn.ensemble import RandomForestRegressor\n",
    "from sklearn.ensemble import GradientBoostingRegressor\n",
    "from sklearn import svm\n",
    "from sklearn.tree import DecisionTreeRegressor\n",
    "from sklearn.metrics import r2_score, mean_squared_error, mean_absolute_error\n",
    "import math\n",
    "from sklearn.tree import DecisionTreeRegressor\n",
    "from sklearn.linear_model import LinearRegression"
   ],
   "metadata": {
    "collapsed": false
   }
  },
  {
   "cell_type": "code",
   "execution_count": 51,
   "outputs": [],
   "source": [
    "d = {}"
   ],
   "metadata": {
    "collapsed": false
   }
  },
  {
   "cell_type": "code",
   "execution_count": 52,
   "outputs": [
    {
     "name": "stdout",
     "output_type": "stream",
     "text": [
      "0.8389975033576511 0.9301246031309791\n"
     ]
    }
   ],
   "source": [
    "rfr = RandomForestRegressor(max_depth=12)\n",
    "rfr.fit(train_data, train_labels)\n",
    "y_pred = rfr.predict(test_data)\n",
    "y_pred_train = rfr.predict(train_data)\n",
    "r2 = r2_score(test_labels, y_pred)\n",
    "ms = mean_squared_error(test_labels, y_pred)\n",
    "print(r2, math.sqrt(ms))\n",
    "\n",
    "train_score = mean_squared_error(train_labels, y_pred_train)\n",
    "test_score = mean_squared_error(test_labels, y_pred)\n",
    "r2_s = r2_score(test_labels, y_pred)\n",
    "mae_test = mean_absolute_error(test_labels, y_pred)\n",
    "mae_train = mean_absolute_error(train_labels, y_pred_train)\n",
    "\n",
    "a = test_labels\n",
    "b = y_pred\n",
    "c2 = a.sub(b, fill_value=0)\n",
    "d2 = c2.pow(2)\n",
    "d_sum2 = d2.sum()\n",
    "a_mean2 = a.mean()\n",
    "e2 = ((a - a_mean2).pow(2).sum())\n",
    "f = 1 - (d_sum2 / e2)\n",
    "\n",
    "d['Random Forest Regressor'] = (train_score, test_score, r2_s, mae_train, mae_test, f)"
   ],
   "metadata": {
    "collapsed": false
   }
  },
  {
   "cell_type": "code",
   "execution_count": 53,
   "outputs": [
    {
     "data": {
      "text/plain": "{'Random Forest Regressor': (0.28643286814472496,\n  0.8651317773495615,\n  0.8389975033576511,\n  0.34968930539514537,\n  0.564887462144009,\n  0.8389975033576511)}"
     },
     "execution_count": 53,
     "metadata": {},
     "output_type": "execute_result"
    }
   ],
   "source": [
    "d"
   ],
   "metadata": {
    "collapsed": false
   }
  },
  {
   "cell_type": "code",
   "execution_count": 47,
   "outputs": [],
   "source": [
    "import math"
   ],
   "metadata": {
    "collapsed": false
   }
  },
  {
   "cell_type": "code",
   "execution_count": 48,
   "outputs": [],
   "source": [
    "a,b=list(test_labels),list(y_pred)\n",
    "n = 0\n",
    "d = 0\n",
    "d_mean = test_labels.mean()\n",
    "for i in range(len(y_pred)):\n",
    "    n = n + math.pow((a[i] - b[i]),2)\n",
    "    d = d + math.pow((a[i] - d_mean),2)\n",
    "nse=1-(n/d)"
   ],
   "metadata": {
    "collapsed": false
   }
  },
  {
   "cell_type": "code",
   "execution_count": 49,
   "outputs": [
    {
     "data": {
      "text/plain": "0.8529339602700179"
     },
     "execution_count": 49,
     "metadata": {},
     "output_type": "execute_result"
    }
   ],
   "source": [
    "nse"
   ],
   "metadata": {
    "collapsed": false
   }
  },
  {
   "cell_type": "code",
   "execution_count": 32,
   "outputs": [
    {
     "data": {
      "text/plain": "16.0"
     },
     "execution_count": 32,
     "metadata": {},
     "output_type": "execute_result"
    }
   ],
   "source": [
    "x=4\n",
    "math.pow(x,2)"
   ],
   "metadata": {
    "collapsed": false
   }
  },
  {
   "cell_type": "code",
   "execution_count": 54,
   "outputs": [
    {
     "name": "stdout",
     "output_type": "stream",
     "text": [
      "0.81691239557062 0.9918689568070078\n"
     ]
    }
   ],
   "source": [
    "dtr = DecisionTreeRegressor(max_depth=10)\n",
    "dtr.fit(train_data, train_labels)\n",
    "y_pred = dtr.predict(test_data)\n",
    "y_pred_train = dtr.predict(train_data)\n",
    "r2 = r2_score(test_labels, y_pred)\n",
    "ms = mean_squared_error(test_labels, y_pred)\n",
    "print(r2, math.sqrt(ms))\n",
    "\n",
    "train_score = mean_squared_error(train_labels, y_pred_train)\n",
    "test_score = mean_squared_error(test_labels, y_pred)\n",
    "r2_s = r2_score(test_labels, y_pred)\n",
    "mae_test = mean_absolute_error(test_labels, y_pred)\n",
    "mae_train = mean_absolute_error(train_labels, y_pred_train)\n",
    "\n",
    "a = test_labels\n",
    "b = y_pred\n",
    "c2 = a.sub(b, fill_value=0)\n",
    "d2 = c2.pow(2)\n",
    "d_sum2 = d2.sum()\n",
    "a_mean2 = a.mean()\n",
    "e2 = ((a - a_mean2).pow(2).sum())\n",
    "f = 1 - (d_sum2 / e2)\n",
    "d['Decision Tree Regressor'] = (train_score, test_score, r2_s, mae_train, mae_test,f)"
   ],
   "metadata": {
    "collapsed": false
   }
  },
  {
   "cell_type": "code",
   "execution_count": 55,
   "outputs": [
    {
     "data": {
      "text/plain": "{'Random Forest Regressor': (0.28643286814472496,\n  0.8651317773495615,\n  0.8389975033576511,\n  0.34968930539514537,\n  0.564887462144009,\n  0.8389975033576511),\n 'Decision Tree Regressor': (0.49193018485830436,\n  0.983804027477422,\n  0.81691239557062,\n  0.41304360715144406,\n  0.5562032166442301,\n  0.81691239557062)}"
     },
     "execution_count": 55,
     "metadata": {},
     "output_type": "execute_result"
    }
   ],
   "source": [
    "d"
   ],
   "metadata": {
    "collapsed": false
   }
  },
  {
   "cell_type": "code",
   "execution_count": 57,
   "outputs": [
    {
     "name": "stdout",
     "output_type": "stream",
     "text": [
      "0.8774354232795782 0.8115351063250359\n"
     ]
    }
   ],
   "source": [
    "gbr = GradientBoostingRegressor(max_depth=6, max_features=15)\n",
    "gbr.fit(train_data, train_labels)\n",
    "y_pred = gbr.predict(test_data)\n",
    "y_pred_train = gbr.predict(train_data)\n",
    "r2 = r2_score(test_labels, y_pred)\n",
    "ms = mean_squared_error(test_labels, y_pred)\n",
    "print(r2, math.sqrt(ms))\n",
    "\n",
    "train_score = mean_squared_error(train_labels, y_pred_train)\n",
    "test_score = mean_squared_error(test_labels, y_pred)\n",
    "r2_s = r2_score(test_labels, y_pred)\n",
    "mae_test = mean_absolute_error(test_labels, y_pred)\n",
    "mae_train = mean_absolute_error(train_labels, y_pred_train)\n",
    "\n",
    "a = test_labels\n",
    "b = y_pred\n",
    "c2 = a.sub(b, fill_value=0)\n",
    "d2 = c2.pow(2)\n",
    "d_sum2 = d2.sum()\n",
    "a_mean2 = a.mean()\n",
    "e2 = ((a - a_mean2).pow(2).sum())\n",
    "f = 1 - (d_sum2 / e2)\n",
    "d['Gradient Boosting Regressor'] = (train_score, test_score, r2_s, mae_train, mae_test,f)"
   ],
   "metadata": {
    "collapsed": false
   }
  },
  {
   "cell_type": "code",
   "execution_count": 58,
   "outputs": [
    {
     "data": {
      "text/plain": "{'Random Forest Regressor': (0.28643286814472496,\n  0.8651317773495615,\n  0.8389975033576511,\n  0.34968930539514537,\n  0.564887462144009,\n  0.8389975033576511),\n 'Decision Tree Regressor': (0.49193018485830436,\n  0.983804027477422,\n  0.81691239557062,\n  0.41304360715144406,\n  0.5562032166442301,\n  0.81691239557062),\n 'Gradient Boosting Regressor': (0.22065471696655947,\n  0.6585892287979873,\n  0.8774354232795782,\n  0.3396504843211201,\n  0.5281514947258618,\n  0.8774354232795782)}"
     },
     "execution_count": 58,
     "metadata": {},
     "output_type": "execute_result"
    }
   ],
   "source": [
    "d"
   ],
   "metadata": {
    "collapsed": false
   }
  },
  {
   "cell_type": "code",
   "execution_count": 59,
   "outputs": [
    {
     "name": "stdout",
     "output_type": "stream",
     "text": [
      "0.1233764921755377 2.1703580336511097\n"
     ]
    }
   ],
   "source": [
    "lr = LinearRegression()\n",
    "lr.fit(train_data, train_labels)\n",
    "y_pred = lr.predict(test_data)\n",
    "y_pred_train = lr.predict(train_data)\n",
    "r2 = r2_score(test_labels, y_pred)\n",
    "ms = mean_squared_error(test_labels, y_pred)\n",
    "print(r2, math.sqrt(ms))\n",
    "\n",
    "train_score = mean_squared_error(train_labels, y_pred_train)\n",
    "test_score = mean_squared_error(test_labels, y_pred)\n",
    "r2_s = r2_score(test_labels, y_pred)\n",
    "mae_test = mean_absolute_error(test_labels, y_pred)\n",
    "mae_train = mean_absolute_error(train_labels, y_pred_train)\n",
    "\n",
    "a = test_labels\n",
    "b = y_pred\n",
    "c2 = a.sub(b, fill_value=0)\n",
    "d2 = c2.pow(2)\n",
    "d_sum2 = d2.sum()\n",
    "a_mean2 = a.mean()\n",
    "e2 = ((a - a_mean2).pow(2).sum())\n",
    "f = 1 - (d_sum2 / e2)\n",
    "d['Linear'] = (train_score, test_score, r2_s, mae_train, mae_test,f)"
   ],
   "metadata": {
    "collapsed": false
   }
  },
  {
   "cell_type": "markdown",
   "source": [
    "`Ridge Regression`"
   ],
   "metadata": {
    "collapsed": false
   }
  },
  {
   "cell_type": "code",
   "execution_count": 60,
   "outputs": [],
   "source": [
    "from sklearn.linear_model import SGDRegressor\n",
    "from sklearn.linear_model import Lasso\n",
    "from sklearn.linear_model import LassoCV\n",
    "from sklearn.linear_model import RidgeCV\n",
    "from sklearn.linear_model import Ridge\n",
    "from sklearn.preprocessing import PolynomialFeatures"
   ],
   "metadata": {
    "collapsed": false
   }
  },
  {
   "cell_type": "code",
   "execution_count": 61,
   "outputs": [
    {
     "name": "stdout",
     "output_type": "stream",
     "text": [
      "0.12328756675117569 2.1704681123297926\n"
     ]
    }
   ],
   "source": [
    "rr = Ridge(alpha=0.01)\n",
    "rr.fit(train_data, train_labels)\n",
    "y_pred = rr.predict(test_data)\n",
    "y_pred_train = rr.predict(train_data)\n",
    "r2 = r2_score(test_labels, y_pred)\n",
    "ms = mean_squared_error(test_labels, y_pred)\n",
    "print(r2, math.sqrt(ms))\n",
    "\n",
    "train_score = mean_squared_error(train_labels, y_pred_train)\n",
    "test_score = mean_squared_error(test_labels, y_pred)\n",
    "r2_s = r2_score(test_labels, y_pred)\n",
    "mae_test = mean_absolute_error(test_labels, y_pred)\n",
    "mae_train = mean_absolute_error(train_labels, y_pred_train)\n",
    "\n",
    "a = test_labels\n",
    "b = y_pred\n",
    "c2 = a.sub(b, fill_value=0)\n",
    "d2 = c2.pow(2)\n",
    "d_sum2 = d2.sum()\n",
    "a_mean2 = a.mean()\n",
    "e2 = ((a - a_mean2).pow(2).sum())\n",
    "f = 1 - (d_sum2 / e2)\n",
    "d['Ridge'] = (train_score, test_score, r2_s, mae_train, mae_test,f)"
   ],
   "metadata": {
    "collapsed": false
   }
  },
  {
   "cell_type": "code",
   "execution_count": 62,
   "outputs": [
    {
     "data": {
      "text/plain": "{'Random Forest Regressor': (0.28643286814472496,\n  0.8651317773495615,\n  0.8389975033576511,\n  0.34968930539514537,\n  0.564887462144009,\n  0.8389975033576511),\n 'Decision Tree Regressor': (0.49193018485830436,\n  0.983804027477422,\n  0.81691239557062,\n  0.41304360715144406,\n  0.5562032166442301,\n  0.81691239557062),\n 'Gradient Boosting Regressor': (0.22065471696655947,\n  0.6585892287979873,\n  0.8774354232795782,\n  0.3396504843211201,\n  0.5281514947258618,\n  0.8774354232795782),\n 'Linear': (3.492318762833084,\n  4.7104539942339105,\n  0.1233764921755377,\n  1.0419473831927875,\n  1.115506221719457,\n  0.1233764921755377),\n 'Ridge': (3.487458225048613,\n  4.7109318266404525,\n  0.12328756675117569,\n  1.0390007171998517,\n  1.114226442487029,\n  0.12328756675117569)}"
     },
     "execution_count": 62,
     "metadata": {},
     "output_type": "execute_result"
    }
   ],
   "source": [
    "d"
   ],
   "metadata": {
    "collapsed": false
   }
  },
  {
   "cell_type": "markdown",
   "source": [
    "Polynomial Regression"
   ],
   "metadata": {
    "collapsed": false
   }
  },
  {
   "cell_type": "code",
   "execution_count": 63,
   "outputs": [
    {
     "name": "stdout",
     "output_type": "stream",
     "text": [
      "0.14512182852666033 2.143270275529824\n"
     ]
    }
   ],
   "source": [
    "poly = PolynomialFeatures(degree=2)\n",
    "x_train_poly = poly.fit_transform(train_data)\n",
    "x_test_poly = poly.fit_transform(test_data)\n",
    "\n",
    "plr = LinearRegression()\n",
    "plr.fit(x_train_poly, train_labels)\n",
    "y_pred = plr.predict(x_test_poly)\n",
    "y_pred_train = plr.predict(x_train_poly)\n",
    "r2 = r2_score(test_labels, y_pred)\n",
    "ms = mean_squared_error(test_labels, y_pred)\n",
    "print(r2, math.sqrt(ms))\n",
    "\n",
    "train_score = mean_squared_error(train_labels, y_pred_train)\n",
    "test_score = mean_squared_error(test_labels, y_pred)\n",
    "r2_s = r2_score(test_labels, y_pred)\n",
    "mae_test = mean_absolute_error(test_labels, y_pred)\n",
    "mae_train = mean_absolute_error(train_labels, y_pred_train)\n",
    "\n",
    "a = test_labels\n",
    "b = y_pred\n",
    "c2 = a.sub(b, fill_value=0)\n",
    "d2 = c2.pow(2)\n",
    "d_sum2 = d2.sum()\n",
    "a_mean2 = a.mean()\n",
    "e2 = ((a - a_mean2).pow(2).sum())\n",
    "f = 1 - (d_sum2 / e2)\n",
    "\n",
    "d['Polynomial Regression'] = (train_score, test_score, r2_s, mae_train, mae_test,f)"
   ],
   "metadata": {
    "collapsed": false
   }
  },
  {
   "cell_type": "code",
   "execution_count": 64,
   "outputs": [
    {
     "data": {
      "text/plain": "{'Random Forest Regressor': (0.28643286814472496,\n  0.8651317773495615,\n  0.8389975033576511,\n  0.34968930539514537,\n  0.564887462144009,\n  0.8389975033576511),\n 'Decision Tree Regressor': (0.49193018485830436,\n  0.983804027477422,\n  0.81691239557062,\n  0.41304360715144406,\n  0.5562032166442301,\n  0.81691239557062),\n 'Gradient Boosting Regressor': (0.22065471696655947,\n  0.6585892287979873,\n  0.8774354232795782,\n  0.3396504843211201,\n  0.5281514947258618,\n  0.8774354232795782),\n 'Linear': (3.492318762833084,\n  4.7104539942339105,\n  0.1233764921755377,\n  1.0419473831927875,\n  1.115506221719457,\n  0.1233764921755377),\n 'Ridge': (3.487458225048613,\n  4.7109318266404525,\n  0.12328756675117569,\n  1.0390007171998517,\n  1.114226442487029,\n  0.12328756675117569),\n 'Polynomial Regression': (3.054450686818274,\n  4.593607473969688,\n  0.14512182852666033,\n  0.9785723213290998,\n  1.167989783653846,\n  0.14512182852666033)}"
     },
     "execution_count": 64,
     "metadata": {},
     "output_type": "execute_result"
    }
   ],
   "source": [
    "d"
   ],
   "metadata": {
    "collapsed": false
   }
  },
  {
   "cell_type": "markdown",
   "source": [
    "### ENSEMBLE"
   ],
   "metadata": {
    "collapsed": false
   }
  },
  {
   "cell_type": "code",
   "execution_count": 65,
   "outputs": [],
   "source": [
    "from sklearn.ensemble import BaggingRegressor"
   ],
   "metadata": {
    "collapsed": false
   }
  },
  {
   "cell_type": "code",
   "execution_count": 101,
   "outputs": [
    {
     "ename": "NotFittedError",
     "evalue": "This BaggingRegressor instance is not fitted yet. Call 'fit' with appropriate arguments before using this estimator.",
     "output_type": "error",
     "traceback": [
      "\u001B[1;31m---------------------------------------------------------------------------\u001B[0m",
      "\u001B[1;31mNotFittedError\u001B[0m                            Traceback (most recent call last)",
      "Cell \u001B[1;32mIn [101], line 16\u001B[0m\n\u001B[0;32m     12\u001B[0m         predictions\u001B[38;5;241m.\u001B[39mappend(models\u001B[38;5;241m.\u001B[39mpredict(X))\n\u001B[0;32m     13\u001B[0m     \u001B[38;5;28;01mreturn\u001B[39;00m np\u001B[38;5;241m.\u001B[39mmean(predictions, axis\u001B[38;5;241m=\u001B[39m\u001B[38;5;241m0\u001B[39m)\n\u001B[1;32m---> 16\u001B[0m y_pred \u001B[38;5;241m=\u001B[39m \u001B[43mpredict\u001B[49m\u001B[43m(\u001B[49m\u001B[43mtest_data\u001B[49m\u001B[43m)\u001B[49m\n\u001B[0;32m     17\u001B[0m y_pred_train \u001B[38;5;241m=\u001B[39m predict(train_data)\n\u001B[0;32m     18\u001B[0m r2 \u001B[38;5;241m=\u001B[39m r2_score(test_labels, y_pred)\n",
      "Cell \u001B[1;32mIn [101], line 12\u001B[0m, in \u001B[0;36mpredict\u001B[1;34m(X)\u001B[0m\n\u001B[0;32m     10\u001B[0m predictions \u001B[38;5;241m=\u001B[39m []\n\u001B[0;32m     11\u001B[0m \u001B[38;5;28;01mfor\u001B[39;00m models \u001B[38;5;129;01min\u001B[39;00m ensemble:\n\u001B[1;32m---> 12\u001B[0m     predictions\u001B[38;5;241m.\u001B[39mappend(\u001B[43mmodels\u001B[49m\u001B[38;5;241;43m.\u001B[39;49m\u001B[43mpredict\u001B[49m\u001B[43m(\u001B[49m\u001B[43mX\u001B[49m\u001B[43m)\u001B[49m)\n\u001B[0;32m     13\u001B[0m \u001B[38;5;28;01mreturn\u001B[39;00m np\u001B[38;5;241m.\u001B[39mmean(predictions, axis\u001B[38;5;241m=\u001B[39m\u001B[38;5;241m0\u001B[39m)\n",
      "File \u001B[1;32mb:\\code\\ml\\venv\\lib\\site-packages\\sklearn\\ensemble\\_bagging.py:1155\u001B[0m, in \u001B[0;36mBaggingRegressor.predict\u001B[1;34m(self, X)\u001B[0m\n\u001B[0;32m   1138\u001B[0m \u001B[38;5;28;01mdef\u001B[39;00m \u001B[38;5;21mpredict\u001B[39m(\u001B[38;5;28mself\u001B[39m, X):\n\u001B[0;32m   1139\u001B[0m     \u001B[38;5;124;03m\"\"\"Predict regression target for X.\u001B[39;00m\n\u001B[0;32m   1140\u001B[0m \n\u001B[0;32m   1141\u001B[0m \u001B[38;5;124;03m    The predicted regression target of an input sample is computed as the\u001B[39;00m\n\u001B[1;32m   (...)\u001B[0m\n\u001B[0;32m   1153\u001B[0m \u001B[38;5;124;03m        The predicted values.\u001B[39;00m\n\u001B[0;32m   1154\u001B[0m \u001B[38;5;124;03m    \"\"\"\u001B[39;00m\n\u001B[1;32m-> 1155\u001B[0m     \u001B[43mcheck_is_fitted\u001B[49m\u001B[43m(\u001B[49m\u001B[38;5;28;43mself\u001B[39;49m\u001B[43m)\u001B[49m\n\u001B[0;32m   1156\u001B[0m     \u001B[38;5;66;03m# Check data\u001B[39;00m\n\u001B[0;32m   1157\u001B[0m     X \u001B[38;5;241m=\u001B[39m \u001B[38;5;28mself\u001B[39m\u001B[38;5;241m.\u001B[39m_validate_data(\n\u001B[0;32m   1158\u001B[0m         X,\n\u001B[0;32m   1159\u001B[0m         accept_sparse\u001B[38;5;241m=\u001B[39m[\u001B[38;5;124m\"\u001B[39m\u001B[38;5;124mcsr\u001B[39m\u001B[38;5;124m\"\u001B[39m, \u001B[38;5;124m\"\u001B[39m\u001B[38;5;124mcsc\u001B[39m\u001B[38;5;124m\"\u001B[39m],\n\u001B[1;32m   (...)\u001B[0m\n\u001B[0;32m   1162\u001B[0m         reset\u001B[38;5;241m=\u001B[39m\u001B[38;5;28;01mFalse\u001B[39;00m,\n\u001B[0;32m   1163\u001B[0m     )\n",
      "File \u001B[1;32mb:\\code\\ml\\venv\\lib\\site-packages\\sklearn\\utils\\validation.py:1345\u001B[0m, in \u001B[0;36mcheck_is_fitted\u001B[1;34m(estimator, attributes, msg, all_or_any)\u001B[0m\n\u001B[0;32m   1340\u001B[0m     fitted \u001B[38;5;241m=\u001B[39m [\n\u001B[0;32m   1341\u001B[0m         v \u001B[38;5;28;01mfor\u001B[39;00m v \u001B[38;5;129;01min\u001B[39;00m \u001B[38;5;28mvars\u001B[39m(estimator) \u001B[38;5;28;01mif\u001B[39;00m v\u001B[38;5;241m.\u001B[39mendswith(\u001B[38;5;124m\"\u001B[39m\u001B[38;5;124m_\u001B[39m\u001B[38;5;124m\"\u001B[39m) \u001B[38;5;129;01mand\u001B[39;00m \u001B[38;5;129;01mnot\u001B[39;00m v\u001B[38;5;241m.\u001B[39mstartswith(\u001B[38;5;124m\"\u001B[39m\u001B[38;5;124m__\u001B[39m\u001B[38;5;124m\"\u001B[39m)\n\u001B[0;32m   1342\u001B[0m     ]\n\u001B[0;32m   1344\u001B[0m \u001B[38;5;28;01mif\u001B[39;00m \u001B[38;5;129;01mnot\u001B[39;00m fitted:\n\u001B[1;32m-> 1345\u001B[0m     \u001B[38;5;28;01mraise\u001B[39;00m NotFittedError(msg \u001B[38;5;241m%\u001B[39m {\u001B[38;5;124m\"\u001B[39m\u001B[38;5;124mname\u001B[39m\u001B[38;5;124m\"\u001B[39m: \u001B[38;5;28mtype\u001B[39m(estimator)\u001B[38;5;241m.\u001B[39m\u001B[38;5;18m__name__\u001B[39m})\n",
      "\u001B[1;31mNotFittedError\u001B[0m: This BaggingRegressor instance is not fitted yet. Call 'fit' with appropriate arguments before using this estimator."
     ]
    }
   ],
   "source": [
    "ensemble_size = 10\n",
    "ensemble = []\n",
    "bagging = BaggingRegressor(base_estimator=[RandomForestRegressor(), LinearRegression()],\n",
    "                           n_estimators=1,  # We only need one estimator per model\n",
    "                           bootstrap_features=True)\n",
    "ensemble.append(bagging)\n",
    "\n",
    "\n",
    "def predict(X):\n",
    "    predictions = []\n",
    "    for models in ensemble:\n",
    "        predictions.append(models.predict(X))\n",
    "    return np.mean(predictions, axis=0)\n",
    "\n",
    "\n",
    "y_pred = predict(test_data)\n",
    "y_pred_train = predict(train_data)\n",
    "r2 = r2_score(test_labels, y_pred)\n",
    "ms = mean_squared_error(test_labels, y_pred)\n",
    "print(r2, math.sqrt(ms))\n",
    "\n",
    "train_score = mean_squared_error(train_labels, y_pred_train)\n",
    "test_score = mean_squared_error(test_labels, y_pred)\n",
    "r2_s = r2_score(test_labels, y_pred)\n",
    "mae_test = mean_absolute_error(test_labels, y_pred)\n",
    "mae_train = mean_absolute_error(train_labels, y_pred_train)\n",
    "\n",
    "d['Bagging (RFR+LR)'] = (train_score, test_score, r2_s, mae_train, mae_test)"
   ],
   "metadata": {
    "collapsed": false
   }
  },
  {
   "cell_type": "code",
   "execution_count": 75,
   "outputs": [
    {
     "data": {
      "text/plain": "{'Random Forest Regressor': (0.2819036402228116,\n  0.8036492505654613,\n  0.8504395062655162,\n  0.3461563018795824,\n  0.549743363668729),\n 'Decision Tree Regressor': (0.49193018485830436,\n  0.9804832129977841,\n  0.8175304047989317,\n  0.41304360715144406,\n  0.5550719949247731),\n 'Gradient Boosting Regressor': (0.23510283024759224,\n  0.622899925245206,\n  0.8840772634314084,\n  0.35069990564523956,\n  0.5171745265862746),\n 'Linear': (3.492318762833084,\n  4.7104539942339105,\n  0.1233764921755377,\n  1.0419473831927875,\n  1.115506221719457),\n 'Ridge': (3.487458225048613,\n  4.7109318266404525,\n  0.12328756675117569,\n  1.0390007171998517,\n  1.114226442487029),\n 'Polynomial Regression': (3.054450686818274,\n  4.593607473969688,\n  0.14512182852666033,\n  0.9785723213290998,\n  1.167989783653846),\n 'Bagging (RFR+LR)': (0.7264367271600243,\n  1.515533027480983,\n  0.7179567234070234,\n  0.5587778992960509,\n  0.7375065270170374)}"
     },
     "execution_count": 75,
     "metadata": {},
     "output_type": "execute_result"
    }
   ],
   "source": [],
   "metadata": {
    "collapsed": false
   }
  },
  {
   "cell_type": "code",
   "execution_count": 63,
   "outputs": [],
   "source": [
    "from sklearn.ensemble import BaggingRegressor"
   ],
   "metadata": {
    "collapsed": false
   }
  },
  {
   "cell_type": "markdown",
   "source": [
    "ANN"
   ],
   "metadata": {
    "collapsed": false
   }
  },
  {
   "cell_type": "code",
   "execution_count": 65,
   "outputs": [],
   "source": [
    "import tensorflow as tf\n"
   ],
   "metadata": {
    "collapsed": false
   }
  },
  {
   "cell_type": "code",
   "execution_count": 66,
   "outputs": [],
   "source": [
    "# Define the model architecture\n",
    "model = tf.keras.Sequential([\n",
    "    tf.keras.layers.Dense(25, input_shape=(25,), activation='relu'),\n",
    "    # tf.keras.layers.Dropout()\n",
    "    tf.keras.layers.Dense(512, activation='relu'),\n",
    "    tf.keras.layers.Dense(1024, activation='relu'),\n",
    "    tf.keras.layers.Dense(512, activation='relu'),\n",
    "    tf.keras.layers.Dense(64, activation='relu'),\n",
    "    tf.keras.layers.Dense(1, activation='linear')\n",
    "])"
   ],
   "metadata": {
    "collapsed": false
   }
  },
  {
   "cell_type": "code",
   "execution_count": 67,
   "outputs": [],
   "source": [
    "model.compile(optimizer='adam', loss='mean_squared_error')"
   ],
   "metadata": {
    "collapsed": false
   }
  },
  {
   "cell_type": "code",
   "execution_count": 68,
   "outputs": [
    {
     "name": "stdout",
     "output_type": "stream",
     "text": [
      "Epoch 1/200\n",
      "28/28 [==============================] - 1s 10ms/step - loss: 4.0892\n",
      "Epoch 2/200\n",
      "28/28 [==============================] - 0s 9ms/step - loss: 3.7549\n",
      "Epoch 3/200\n",
      "28/28 [==============================] - 0s 9ms/step - loss: 3.6647\n",
      "Epoch 4/200\n",
      "28/28 [==============================] - 0s 9ms/step - loss: 3.6287\n",
      "Epoch 5/200\n",
      "28/28 [==============================] - 0s 10ms/step - loss: 3.6291\n",
      "Epoch 6/200\n",
      "28/28 [==============================] - 0s 10ms/step - loss: 3.5944\n",
      "Epoch 7/200\n",
      "28/28 [==============================] - 0s 10ms/step - loss: 3.5721\n",
      "Epoch 8/200\n",
      "28/28 [==============================] - 0s 9ms/step - loss: 3.5673\n",
      "Epoch 9/200\n",
      "28/28 [==============================] - 0s 9ms/step - loss: 3.4851\n",
      "Epoch 10/200\n",
      "28/28 [==============================] - 0s 9ms/step - loss: 3.4479\n",
      "Epoch 11/200\n",
      "28/28 [==============================] - 0s 9ms/step - loss: 3.4625\n",
      "Epoch 12/200\n",
      "28/28 [==============================] - 0s 10ms/step - loss: 3.4296\n",
      "Epoch 13/200\n",
      "28/28 [==============================] - 0s 9ms/step - loss: 3.4502\n",
      "Epoch 14/200\n",
      "28/28 [==============================] - 0s 9ms/step - loss: 3.4436\n",
      "Epoch 15/200\n",
      "28/28 [==============================] - 0s 9ms/step - loss: 3.3668\n",
      "Epoch 16/200\n",
      "28/28 [==============================] - 0s 9ms/step - loss: 3.3408\n",
      "Epoch 17/200\n",
      "28/28 [==============================] - 0s 9ms/step - loss: 3.3670\n",
      "Epoch 18/200\n",
      "28/28 [==============================] - 0s 9ms/step - loss: 3.3484\n",
      "Epoch 19/200\n",
      "28/28 [==============================] - 0s 9ms/step - loss: 3.2701\n",
      "Epoch 20/200\n",
      "28/28 [==============================] - 0s 9ms/step - loss: 3.2935\n",
      "Epoch 21/200\n",
      "28/28 [==============================] - 0s 9ms/step - loss: 3.2173\n",
      "Epoch 22/200\n",
      "28/28 [==============================] - 0s 9ms/step - loss: 3.2149\n",
      "Epoch 23/200\n",
      "28/28 [==============================] - 0s 10ms/step - loss: 3.3157\n",
      "Epoch 24/200\n",
      "28/28 [==============================] - 0s 9ms/step - loss: 3.1857\n",
      "Epoch 25/200\n",
      "28/28 [==============================] - 0s 9ms/step - loss: 3.2450\n",
      "Epoch 26/200\n",
      "28/28 [==============================] - 0s 9ms/step - loss: 3.2615\n",
      "Epoch 27/200\n",
      "28/28 [==============================] - 0s 9ms/step - loss: 3.1638\n",
      "Epoch 28/200\n",
      "28/28 [==============================] - 0s 9ms/step - loss: 3.0866\n",
      "Epoch 29/200\n",
      "28/28 [==============================] - 0s 9ms/step - loss: 3.1490\n",
      "Epoch 30/200\n",
      "28/28 [==============================] - 0s 9ms/step - loss: 3.1093\n",
      "Epoch 31/200\n",
      "28/28 [==============================] - 0s 9ms/step - loss: 3.1582\n",
      "Epoch 32/200\n",
      "28/28 [==============================] - 0s 9ms/step - loss: 3.0565\n",
      "Epoch 33/200\n",
      "28/28 [==============================] - 0s 10ms/step - loss: 3.0683\n",
      "Epoch 34/200\n",
      "28/28 [==============================] - 0s 11ms/step - loss: 3.0326\n",
      "Epoch 35/200\n",
      "28/28 [==============================] - 0s 10ms/step - loss: 2.9404\n",
      "Epoch 36/200\n",
      "28/28 [==============================] - 0s 11ms/step - loss: 3.1208\n",
      "Epoch 37/200\n",
      "28/28 [==============================] - 0s 11ms/step - loss: 3.0464\n",
      "Epoch 38/200\n",
      "28/28 [==============================] - 0s 11ms/step - loss: 3.0644\n",
      "Epoch 39/200\n",
      "28/28 [==============================] - 0s 10ms/step - loss: 3.1839\n",
      "Epoch 40/200\n",
      "28/28 [==============================] - 0s 9ms/step - loss: 3.0346\n",
      "Epoch 41/200\n",
      "28/28 [==============================] - 0s 10ms/step - loss: 3.0861\n",
      "Epoch 42/200\n",
      "28/28 [==============================] - 0s 9ms/step - loss: 2.9096\n",
      "Epoch 43/200\n",
      "28/28 [==============================] - 0s 9ms/step - loss: 2.9164\n",
      "Epoch 44/200\n",
      "28/28 [==============================] - 0s 10ms/step - loss: 2.8331\n",
      "Epoch 45/200\n",
      "28/28 [==============================] - 0s 9ms/step - loss: 2.8625\n",
      "Epoch 46/200\n",
      "28/28 [==============================] - 0s 9ms/step - loss: 2.7922\n",
      "Epoch 47/200\n",
      "28/28 [==============================] - 0s 8ms/step - loss: 2.9162\n",
      "Epoch 48/200\n",
      "28/28 [==============================] - 0s 9ms/step - loss: 2.7525\n",
      "Epoch 49/200\n",
      "28/28 [==============================] - 0s 9ms/step - loss: 2.7865\n",
      "Epoch 50/200\n",
      "28/28 [==============================] - 0s 9ms/step - loss: 2.5782\n",
      "Epoch 51/200\n",
      "28/28 [==============================] - 0s 9ms/step - loss: 2.7107\n",
      "Epoch 52/200\n",
      "28/28 [==============================] - 0s 9ms/step - loss: 2.8764\n",
      "Epoch 53/200\n",
      "28/28 [==============================] - 0s 9ms/step - loss: 2.8611\n",
      "Epoch 54/200\n",
      "28/28 [==============================] - 0s 9ms/step - loss: 2.6462\n",
      "Epoch 55/200\n",
      "28/28 [==============================] - 0s 9ms/step - loss: 3.0450\n",
      "Epoch 56/200\n",
      "28/28 [==============================] - 0s 9ms/step - loss: 2.9502\n",
      "Epoch 57/200\n",
      "28/28 [==============================] - 0s 9ms/step - loss: 2.9384\n",
      "Epoch 58/200\n",
      "28/28 [==============================] - 0s 9ms/step - loss: 2.6539\n",
      "Epoch 59/200\n",
      "28/28 [==============================] - 0s 9ms/step - loss: 2.4832\n",
      "Epoch 60/200\n",
      "28/28 [==============================] - 0s 9ms/step - loss: 2.4252\n",
      "Epoch 61/200\n",
      "28/28 [==============================] - 0s 9ms/step - loss: 2.6618\n",
      "Epoch 62/200\n",
      "28/28 [==============================] - 0s 9ms/step - loss: 2.6561\n",
      "Epoch 63/200\n",
      "28/28 [==============================] - 0s 9ms/step - loss: 2.5255\n",
      "Epoch 64/200\n",
      "28/28 [==============================] - 0s 9ms/step - loss: 2.3715\n",
      "Epoch 65/200\n",
      "28/28 [==============================] - 0s 9ms/step - loss: 2.4667\n",
      "Epoch 66/200\n",
      "28/28 [==============================] - 0s 9ms/step - loss: 2.7860\n",
      "Epoch 67/200\n",
      "28/28 [==============================] - 0s 9ms/step - loss: 2.9150\n",
      "Epoch 68/200\n",
      "28/28 [==============================] - 0s 9ms/step - loss: 2.8143\n",
      "Epoch 69/200\n",
      "28/28 [==============================] - 0s 10ms/step - loss: 2.6551\n",
      "Epoch 70/200\n",
      "28/28 [==============================] - 0s 9ms/step - loss: 2.5413\n",
      "Epoch 71/200\n",
      "28/28 [==============================] - 0s 9ms/step - loss: 2.5297\n",
      "Epoch 72/200\n",
      "28/28 [==============================] - 0s 9ms/step - loss: 2.4183\n",
      "Epoch 73/200\n",
      "28/28 [==============================] - 0s 10ms/step - loss: 2.2886\n",
      "Epoch 74/200\n",
      "28/28 [==============================] - 0s 9ms/step - loss: 2.4016\n",
      "Epoch 75/200\n",
      "28/28 [==============================] - 0s 9ms/step - loss: 2.3656\n",
      "Epoch 76/200\n",
      "28/28 [==============================] - 0s 9ms/step - loss: 2.1021\n",
      "Epoch 77/200\n",
      "28/28 [==============================] - 0s 11ms/step - loss: 2.4868\n",
      "Epoch 78/200\n",
      "28/28 [==============================] - 0s 10ms/step - loss: 2.3772\n",
      "Epoch 79/200\n",
      "28/28 [==============================] - 0s 10ms/step - loss: 2.3932\n",
      "Epoch 80/200\n",
      "28/28 [==============================] - 0s 10ms/step - loss: 2.9330\n",
      "Epoch 81/200\n",
      "28/28 [==============================] - 0s 10ms/step - loss: 2.6336\n",
      "Epoch 82/200\n",
      "28/28 [==============================] - 0s 9ms/step - loss: 2.3502\n",
      "Epoch 83/200\n",
      "28/28 [==============================] - 0s 9ms/step - loss: 2.5661\n",
      "Epoch 84/200\n",
      "28/28 [==============================] - 0s 9ms/step - loss: 2.4136\n",
      "Epoch 85/200\n",
      "28/28 [==============================] - 0s 8ms/step - loss: 2.2032\n",
      "Epoch 86/200\n",
      "28/28 [==============================] - 0s 9ms/step - loss: 2.0138\n",
      "Epoch 87/200\n",
      "28/28 [==============================] - 0s 9ms/step - loss: 2.2752\n",
      "Epoch 88/200\n",
      "28/28 [==============================] - 0s 9ms/step - loss: 1.9022\n",
      "Epoch 89/200\n",
      "28/28 [==============================] - 0s 9ms/step - loss: 1.8176\n",
      "Epoch 90/200\n",
      "28/28 [==============================] - 0s 9ms/step - loss: 1.7735\n",
      "Epoch 91/200\n",
      "28/28 [==============================] - 0s 10ms/step - loss: 2.0540\n",
      "Epoch 92/200\n",
      "28/28 [==============================] - 0s 10ms/step - loss: 1.6172\n",
      "Epoch 93/200\n",
      "28/28 [==============================] - 0s 9ms/step - loss: 2.1003\n",
      "Epoch 94/200\n",
      "28/28 [==============================] - 0s 9ms/step - loss: 2.0290\n",
      "Epoch 95/200\n",
      "28/28 [==============================] - 0s 9ms/step - loss: 1.8819\n",
      "Epoch 96/200\n",
      "28/28 [==============================] - 0s 9ms/step - loss: 1.5605\n",
      "Epoch 97/200\n",
      "28/28 [==============================] - 0s 9ms/step - loss: 1.7007\n",
      "Epoch 98/200\n",
      "28/28 [==============================] - 0s 9ms/step - loss: 2.2066\n",
      "Epoch 99/200\n",
      "28/28 [==============================] - 0s 9ms/step - loss: 1.6313\n",
      "Epoch 100/200\n",
      "28/28 [==============================] - 0s 9ms/step - loss: 1.4187\n",
      "Epoch 101/200\n",
      "28/28 [==============================] - 0s 8ms/step - loss: 1.6910\n",
      "Epoch 102/200\n",
      "28/28 [==============================] - 0s 9ms/step - loss: 2.1777\n",
      "Epoch 103/200\n",
      "28/28 [==============================] - 0s 9ms/step - loss: 2.2912\n",
      "Epoch 104/200\n",
      "28/28 [==============================] - 0s 9ms/step - loss: 2.1687\n",
      "Epoch 105/200\n",
      "28/28 [==============================] - 0s 9ms/step - loss: 1.4729\n",
      "Epoch 106/200\n",
      "28/28 [==============================] - 0s 9ms/step - loss: 1.3309\n",
      "Epoch 107/200\n",
      "28/28 [==============================] - 0s 9ms/step - loss: 1.2233\n",
      "Epoch 108/200\n",
      "28/28 [==============================] - 0s 9ms/step - loss: 1.2629\n",
      "Epoch 109/200\n",
      "28/28 [==============================] - 0s 9ms/step - loss: 1.2296\n",
      "Epoch 110/200\n",
      "28/28 [==============================] - 0s 9ms/step - loss: 1.3445\n",
      "Epoch 111/200\n",
      "28/28 [==============================] - 0s 9ms/step - loss: 1.1932\n",
      "Epoch 112/200\n",
      "28/28 [==============================] - 0s 9ms/step - loss: 1.0966\n",
      "Epoch 113/200\n",
      "28/28 [==============================] - 0s 9ms/step - loss: 1.2377\n",
      "Epoch 114/200\n",
      "28/28 [==============================] - 0s 9ms/step - loss: 1.2138\n",
      "Epoch 115/200\n",
      "28/28 [==============================] - 0s 9ms/step - loss: 1.0515\n",
      "Epoch 116/200\n",
      "28/28 [==============================] - 0s 9ms/step - loss: 1.0366\n",
      "Epoch 117/200\n",
      "28/28 [==============================] - 0s 9ms/step - loss: 1.0070\n",
      "Epoch 118/200\n",
      "28/28 [==============================] - 0s 9ms/step - loss: 1.1367\n",
      "Epoch 119/200\n",
      "28/28 [==============================] - 0s 9ms/step - loss: 1.0452\n",
      "Epoch 120/200\n",
      "28/28 [==============================] - 0s 9ms/step - loss: 0.9740\n",
      "Epoch 121/200\n",
      "28/28 [==============================] - 0s 11ms/step - loss: 0.9491\n",
      "Epoch 122/200\n",
      "28/28 [==============================] - 0s 11ms/step - loss: 1.0372\n",
      "Epoch 123/200\n",
      "28/28 [==============================] - 0s 10ms/step - loss: 1.7275\n",
      "Epoch 124/200\n",
      "28/28 [==============================] - 0s 11ms/step - loss: 1.6574\n",
      "Epoch 125/200\n",
      "28/28 [==============================] - 0s 10ms/step - loss: 1.4347\n",
      "Epoch 126/200\n",
      "28/28 [==============================] - 0s 9ms/step - loss: 1.3334\n",
      "Epoch 127/200\n",
      "28/28 [==============================] - 0s 10ms/step - loss: 1.2099\n",
      "Epoch 128/200\n",
      "28/28 [==============================] - 0s 10ms/step - loss: 1.2164\n",
      "Epoch 129/200\n",
      "28/28 [==============================] - 0s 9ms/step - loss: 1.0993\n",
      "Epoch 130/200\n",
      "28/28 [==============================] - 0s 9ms/step - loss: 1.1256\n",
      "Epoch 131/200\n",
      "28/28 [==============================] - 0s 9ms/step - loss: 1.1030\n",
      "Epoch 132/200\n",
      "28/28 [==============================] - 0s 9ms/step - loss: 1.0397\n",
      "Epoch 133/200\n",
      "28/28 [==============================] - 0s 9ms/step - loss: 1.1113\n",
      "Epoch 134/200\n",
      "28/28 [==============================] - 0s 9ms/step - loss: 1.0812\n",
      "Epoch 135/200\n",
      "28/28 [==============================] - 0s 9ms/step - loss: 0.9718\n",
      "Epoch 136/200\n",
      "28/28 [==============================] - 0s 10ms/step - loss: 0.8982\n",
      "Epoch 137/200\n",
      "28/28 [==============================] - 0s 9ms/step - loss: 0.7744\n",
      "Epoch 138/200\n",
      "28/28 [==============================] - 0s 9ms/step - loss: 0.8112\n",
      "Epoch 139/200\n",
      "28/28 [==============================] - 0s 9ms/step - loss: 0.8111\n",
      "Epoch 140/200\n",
      "28/28 [==============================] - 0s 10ms/step - loss: 0.7026\n",
      "Epoch 141/200\n",
      "28/28 [==============================] - 0s 11ms/step - loss: 1.4423\n",
      "Epoch 142/200\n",
      "28/28 [==============================] - 0s 10ms/step - loss: 1.5364\n",
      "Epoch 143/200\n",
      "28/28 [==============================] - 0s 10ms/step - loss: 1.3414\n",
      "Epoch 144/200\n",
      "28/28 [==============================] - 0s 9ms/step - loss: 1.0840\n",
      "Epoch 145/200\n",
      "28/28 [==============================] - 0s 9ms/step - loss: 1.2614\n",
      "Epoch 146/200\n",
      "28/28 [==============================] - 0s 9ms/step - loss: 0.9698\n",
      "Epoch 147/200\n",
      "28/28 [==============================] - 0s 9ms/step - loss: 0.8185\n",
      "Epoch 148/200\n",
      "28/28 [==============================] - 0s 9ms/step - loss: 0.7706\n",
      "Epoch 149/200\n",
      "28/28 [==============================] - 0s 9ms/step - loss: 0.8978\n",
      "Epoch 150/200\n",
      "28/28 [==============================] - 0s 9ms/step - loss: 0.7291\n",
      "Epoch 151/200\n",
      "28/28 [==============================] - 0s 9ms/step - loss: 0.6747\n",
      "Epoch 152/200\n",
      "28/28 [==============================] - 0s 9ms/step - loss: 0.6566\n",
      "Epoch 153/200\n",
      "28/28 [==============================] - 0s 9ms/step - loss: 0.6194\n",
      "Epoch 154/200\n",
      "28/28 [==============================] - 0s 9ms/step - loss: 0.6364\n",
      "Epoch 155/200\n",
      "28/28 [==============================] - 0s 9ms/step - loss: 0.6572\n",
      "Epoch 156/200\n",
      "28/28 [==============================] - 0s 9ms/step - loss: 0.6061\n",
      "Epoch 157/200\n",
      "28/28 [==============================] - 0s 9ms/step - loss: 0.6340\n",
      "Epoch 158/200\n",
      "28/28 [==============================] - 0s 9ms/step - loss: 0.5995\n",
      "Epoch 159/200\n",
      "28/28 [==============================] - 0s 9ms/step - loss: 0.6214\n",
      "Epoch 160/200\n",
      "28/28 [==============================] - 0s 9ms/step - loss: 0.5957\n",
      "Epoch 161/200\n",
      "28/28 [==============================] - 0s 9ms/step - loss: 0.8763\n",
      "Epoch 162/200\n",
      "28/28 [==============================] - 0s 9ms/step - loss: 1.6171\n",
      "Epoch 163/200\n",
      "28/28 [==============================] - 0s 9ms/step - loss: 2.0856\n",
      "Epoch 164/200\n",
      "28/28 [==============================] - 0s 10ms/step - loss: 1.4446\n",
      "Epoch 165/200\n",
      "28/28 [==============================] - 0s 11ms/step - loss: 1.3269\n",
      "Epoch 166/200\n",
      "28/28 [==============================] - 0s 10ms/step - loss: 1.1476\n",
      "Epoch 167/200\n",
      "28/28 [==============================] - 0s 10ms/step - loss: 1.1179\n",
      "Epoch 168/200\n",
      "28/28 [==============================] - 0s 10ms/step - loss: 0.9877\n",
      "Epoch 169/200\n",
      "28/28 [==============================] - 0s 9ms/step - loss: 0.8077\n",
      "Epoch 170/200\n",
      "28/28 [==============================] - 0s 10ms/step - loss: 0.7204\n",
      "Epoch 171/200\n",
      "28/28 [==============================] - 0s 9ms/step - loss: 0.6556\n",
      "Epoch 172/200\n",
      "28/28 [==============================] - 0s 9ms/step - loss: 0.5406\n",
      "Epoch 173/200\n",
      "28/28 [==============================] - 0s 9ms/step - loss: 0.5255\n",
      "Epoch 174/200\n",
      "28/28 [==============================] - 0s 9ms/step - loss: 0.5275\n",
      "Epoch 175/200\n",
      "28/28 [==============================] - 0s 9ms/step - loss: 0.4844\n",
      "Epoch 176/200\n",
      "28/28 [==============================] - 0s 9ms/step - loss: 0.4821\n",
      "Epoch 177/200\n",
      "28/28 [==============================] - 0s 9ms/step - loss: 0.4730\n",
      "Epoch 178/200\n",
      "28/28 [==============================] - 0s 9ms/step - loss: 0.5144\n",
      "Epoch 179/200\n",
      "28/28 [==============================] - 0s 9ms/step - loss: 0.4869\n",
      "Epoch 180/200\n",
      "28/28 [==============================] - 0s 9ms/step - loss: 0.4864\n",
      "Epoch 181/200\n",
      "28/28 [==============================] - 0s 9ms/step - loss: 0.4761\n",
      "Epoch 182/200\n",
      "28/28 [==============================] - 0s 9ms/step - loss: 0.4923\n",
      "Epoch 183/200\n",
      "28/28 [==============================] - 0s 9ms/step - loss: 0.4557\n",
      "Epoch 184/200\n",
      "28/28 [==============================] - 0s 9ms/step - loss: 0.5393\n",
      "Epoch 185/200\n",
      "28/28 [==============================] - 0s 9ms/step - loss: 0.5944\n",
      "Epoch 186/200\n",
      "28/28 [==============================] - 0s 9ms/step - loss: 0.5410\n",
      "Epoch 187/200\n",
      "28/28 [==============================] - 0s 9ms/step - loss: 0.5084\n",
      "Epoch 188/200\n",
      "28/28 [==============================] - 0s 9ms/step - loss: 0.4881\n",
      "Epoch 189/200\n",
      "28/28 [==============================] - 0s 9ms/step - loss: 0.4948\n",
      "Epoch 190/200\n",
      "28/28 [==============================] - 0s 9ms/step - loss: 0.4934\n",
      "Epoch 191/200\n",
      "28/28 [==============================] - 0s 9ms/step - loss: 0.4692\n",
      "Epoch 192/200\n",
      "28/28 [==============================] - 0s 9ms/step - loss: 0.4182\n",
      "Epoch 193/200\n",
      "28/28 [==============================] - 0s 9ms/step - loss: 0.4206\n",
      "Epoch 194/200\n",
      "28/28 [==============================] - 0s 9ms/step - loss: 0.4342\n",
      "Epoch 195/200\n",
      "28/28 [==============================] - 0s 9ms/step - loss: 0.4732\n",
      "Epoch 196/200\n",
      "28/28 [==============================] - 0s 9ms/step - loss: 0.4979\n",
      "Epoch 197/200\n",
      "28/28 [==============================] - 0s 9ms/step - loss: 0.4500\n",
      "Epoch 198/200\n",
      "28/28 [==============================] - 0s 10ms/step - loss: 0.4390\n",
      "Epoch 199/200\n",
      "28/28 [==============================] - 0s 9ms/step - loss: 0.4306\n",
      "Epoch 200/200\n",
      "28/28 [==============================] - 0s 9ms/step - loss: 0.3737\n"
     ]
    },
    {
     "data": {
      "text/plain": "<keras.callbacks.History at 0x1a65ba427d0>"
     },
     "execution_count": 68,
     "metadata": {},
     "output_type": "execute_result"
    }
   ],
   "source": [
    "model.fit(train_data, train_labels, epochs=200, batch_size=64)"
   ],
   "metadata": {
    "collapsed": false
   }
  },
  {
   "cell_type": "code",
   "execution_count": 69,
   "outputs": [
    {
     "name": "stdout",
     "output_type": "stream",
     "text": [
      "14/14 [==============================] - 0s 4ms/step - loss: 2.1567\n",
      "56/56 [==============================] - 0s 3ms/step - loss: 0.3997\n",
      "14/14 [==============================] - 0s 4ms/step\n",
      "56/56 [==============================] - 0s 3ms/step\n",
      "Mean squared error on test set: 2.1567270755767822 train set: 0.39969301223754883\n",
      "R2 square 0.598629436504031\n"
     ]
    }
   ],
   "source": [
    "# Evaluate the model on the test set\n",
    "test_score = model.evaluate(test_data, test_labels)\n",
    "train_score = model.evaluate(train_data, train_labels)\n",
    "y_pred = model.predict(test_data)\n",
    "y_pred_train = model.predict(train_data)\n",
    "print(f'Mean squared error on test set: {test_score} train set: {train_score}')\n",
    "print(\"R2 square\", r2_score(test_labels, y_pred))"
   ],
   "metadata": {
    "collapsed": false
   }
  },
  {
   "cell_type": "code",
   "execution_count": 75,
   "outputs": [
    {
     "data": {
      "text/plain": "(numpy.ndarray, pandas.core.series.Series)"
     },
     "execution_count": 75,
     "metadata": {},
     "output_type": "execute_result"
    }
   ],
   "source": [
    "type(y_pred),type(train_labels)"
   ],
   "metadata": {
    "collapsed": false
   }
  },
  {
   "cell_type": "code",
   "execution_count": 76,
   "outputs": [],
   "source": [
    "train_score = mean_squared_error(train_labels, y_pred_train)\n",
    "test_score = mean_squared_error(test_labels, y_pred)\n",
    "r2_s = r2_score(test_labels, y_pred)\n",
    "mae_test = mean_absolute_error(test_labels, y_pred)\n",
    "mae_train = mean_absolute_error(train_labels, y_pred_train)\n",
    "\n",
    "a,b=list(test_labels),list(y_pred)\n",
    "n = 0\n",
    "d1 = 0\n",
    "d_mean = test_labels.mean()\n",
    "for i in range(len(y_pred)):\n",
    "    n = n + math.pow((a[i] - b[i]),2)\n",
    "    d1 = d1 + math.pow((a[i] - d_mean),2)\n",
    "nse=1-(n/d1)\n",
    "\n",
    "d['MLP'] = (train_score, test_score, r2_s, mae_train, mae_test,nse)"
   ],
   "metadata": {
    "collapsed": false
   }
  },
  {
   "cell_type": "code",
   "execution_count": 77,
   "outputs": [
    {
     "data": {
      "text/plain": "{'Random Forest Regressor': (0.28643286814472496,\n  0.8651317773495615,\n  0.8389975033576511,\n  0.34968930539514537,\n  0.564887462144009,\n  0.8389975033576511),\n 'Decision Tree Regressor': (0.49193018485830436,\n  0.983804027477422,\n  0.81691239557062,\n  0.41304360715144406,\n  0.5562032166442301,\n  0.81691239557062),\n 'Gradient Boosting Regressor': (0.22065471696655947,\n  0.6585892287979873,\n  0.8774354232795782,\n  0.3396504843211201,\n  0.5281514947258618,\n  0.8774354232795782),\n 'Linear': (3.492318762833084,\n  4.7104539942339105,\n  0.1233764921755377,\n  1.0419473831927875,\n  1.115506221719457,\n  0.1233764921755377),\n 'Ridge': (3.487458225048613,\n  4.7109318266404525,\n  0.12328756675117569,\n  1.0390007171998517,\n  1.114226442487029,\n  0.12328756675117569),\n 'Polynomial Regression': (3.054450686818274,\n  4.593607473969688,\n  0.14512182852666033,\n  0.9785723213290998,\n  1.167989783653846,\n  0.14512182852666033),\n 'MLP': (0.39969301878764596,\n  2.1567269838331664,\n  0.598629436504031,\n  0.3575825984317906,\n  0.745604476929048,\n  0.5986294263403136)}"
     },
     "execution_count": 77,
     "metadata": {},
     "output_type": "execute_result"
    }
   ],
   "source": [
    "d"
   ],
   "metadata": {
    "collapsed": false
   }
  },
  {
   "cell_type": "code",
   "execution_count": 78,
   "outputs": [],
   "source": [
    "from tensorflow.keras.models import Sequential\n",
    "from tensorflow.keras.layers import Dense, LSTM, Dropout"
   ],
   "metadata": {
    "collapsed": false
   }
  },
  {
   "cell_type": "code",
   "execution_count": 79,
   "outputs": [
    {
     "name": "stdout",
     "output_type": "stream",
     "text": [
      "Epoch 1/200\n",
      "28/28 - 2s - loss: 4.3916 - 2s/epoch - 73ms/step\n",
      "Epoch 2/200\n",
      "28/28 - 0s - loss: 4.2233 - 62ms/epoch - 2ms/step\n",
      "Epoch 3/200\n",
      "28/28 - 0s - loss: 4.0753 - 62ms/epoch - 2ms/step\n",
      "Epoch 4/200\n",
      "28/28 - 0s - loss: 3.9218 - 78ms/epoch - 3ms/step\n",
      "Epoch 5/200\n",
      "28/28 - 0s - loss: 3.7820 - 73ms/epoch - 3ms/step\n",
      "Epoch 6/200\n",
      "28/28 - 0s - loss: 3.7047 - 62ms/epoch - 2ms/step\n",
      "Epoch 7/200\n",
      "28/28 - 0s - loss: 3.6516 - 78ms/epoch - 3ms/step\n",
      "Epoch 8/200\n",
      "28/28 - 0s - loss: 3.6333 - 62ms/epoch - 2ms/step\n",
      "Epoch 9/200\n",
      "28/28 - 0s - loss: 3.6262 - 78ms/epoch - 3ms/step\n",
      "Epoch 10/200\n",
      "28/28 - 0s - loss: 3.6176 - 62ms/epoch - 2ms/step\n",
      "Epoch 11/200\n",
      "28/28 - 0s - loss: 3.6105 - 62ms/epoch - 2ms/step\n",
      "Epoch 12/200\n",
      "28/28 - 0s - loss: 3.6084 - 78ms/epoch - 3ms/step\n",
      "Epoch 13/200\n",
      "28/28 - 0s - loss: 3.5987 - 66ms/epoch - 2ms/step\n",
      "Epoch 14/200\n",
      "28/28 - 0s - loss: 3.5974 - 78ms/epoch - 3ms/step\n",
      "Epoch 15/200\n",
      "28/28 - 0s - loss: 3.5929 - 61ms/epoch - 2ms/step\n",
      "Epoch 16/200\n",
      "28/28 - 0s - loss: 3.5860 - 78ms/epoch - 3ms/step\n",
      "Epoch 17/200\n",
      "28/28 - 0s - loss: 3.5799 - 62ms/epoch - 2ms/step\n",
      "Epoch 18/200\n",
      "28/28 - 0s - loss: 3.5768 - 78ms/epoch - 3ms/step\n",
      "Epoch 19/200\n",
      "28/28 - 0s - loss: 3.5759 - 62ms/epoch - 2ms/step\n",
      "Epoch 20/200\n",
      "28/28 - 0s - loss: 3.5699 - 66ms/epoch - 2ms/step\n",
      "Epoch 21/200\n",
      "28/28 - 0s - loss: 3.5672 - 62ms/epoch - 2ms/step\n",
      "Epoch 22/200\n",
      "28/28 - 0s - loss: 3.5713 - 62ms/epoch - 2ms/step\n",
      "Epoch 23/200\n",
      "28/28 - 0s - loss: 3.5655 - 62ms/epoch - 2ms/step\n",
      "Epoch 24/200\n",
      "28/28 - 0s - loss: 3.5584 - 78ms/epoch - 3ms/step\n",
      "Epoch 25/200\n",
      "28/28 - 0s - loss: 3.5499 - 62ms/epoch - 2ms/step\n",
      "Epoch 26/200\n",
      "28/28 - 0s - loss: 3.5473 - 62ms/epoch - 2ms/step\n",
      "Epoch 27/200\n",
      "28/28 - 0s - loss: 3.5448 - 80ms/epoch - 3ms/step\n",
      "Epoch 28/200\n",
      "28/28 - 0s - loss: 3.5406 - 62ms/epoch - 2ms/step\n",
      "Epoch 29/200\n",
      "28/28 - 0s - loss: 3.5358 - 62ms/epoch - 2ms/step\n",
      "Epoch 30/200\n",
      "28/28 - 0s - loss: 3.5343 - 62ms/epoch - 2ms/step\n",
      "Epoch 31/200\n",
      "28/28 - 0s - loss: 3.5327 - 62ms/epoch - 2ms/step\n",
      "Epoch 32/200\n",
      "28/28 - 0s - loss: 3.5262 - 62ms/epoch - 2ms/step\n",
      "Epoch 33/200\n",
      "28/28 - 0s - loss: 3.5246 - 78ms/epoch - 3ms/step\n",
      "Epoch 34/200\n",
      "28/28 - 0s - loss: 3.5205 - 63ms/epoch - 2ms/step\n",
      "Epoch 35/200\n",
      "28/28 - 0s - loss: 3.5199 - 69ms/epoch - 2ms/step\n",
      "Epoch 36/200\n",
      "28/28 - 0s - loss: 3.5164 - 63ms/epoch - 2ms/step\n",
      "Epoch 37/200\n",
      "28/28 - 0s - loss: 3.5135 - 62ms/epoch - 2ms/step\n",
      "Epoch 38/200\n",
      "28/28 - 0s - loss: 3.5088 - 62ms/epoch - 2ms/step\n",
      "Epoch 39/200\n",
      "28/28 - 0s - loss: 3.5142 - 62ms/epoch - 2ms/step\n",
      "Epoch 40/200\n",
      "28/28 - 0s - loss: 3.5108 - 62ms/epoch - 2ms/step\n",
      "Epoch 41/200\n",
      "28/28 - 0s - loss: 3.5049 - 62ms/epoch - 2ms/step\n",
      "Epoch 42/200\n",
      "28/28 - 0s - loss: 3.5019 - 79ms/epoch - 3ms/step\n",
      "Epoch 43/200\n",
      "28/28 - 0s - loss: 3.4974 - 62ms/epoch - 2ms/step\n",
      "Epoch 44/200\n",
      "28/28 - 0s - loss: 3.5078 - 78ms/epoch - 3ms/step\n",
      "Epoch 45/200\n",
      "28/28 - 0s - loss: 3.4990 - 62ms/epoch - 2ms/step\n",
      "Epoch 46/200\n",
      "28/28 - 0s - loss: 3.4897 - 78ms/epoch - 3ms/step\n",
      "Epoch 47/200\n",
      "28/28 - 0s - loss: 3.4906 - 62ms/epoch - 2ms/step\n",
      "Epoch 48/200\n",
      "28/28 - 0s - loss: 3.4849 - 78ms/epoch - 3ms/step\n",
      "Epoch 49/200\n",
      "28/28 - 0s - loss: 3.4888 - 78ms/epoch - 3ms/step\n",
      "Epoch 50/200\n",
      "28/28 - 0s - loss: 3.4835 - 67ms/epoch - 2ms/step\n",
      "Epoch 51/200\n",
      "28/28 - 0s - loss: 3.4801 - 62ms/epoch - 2ms/step\n",
      "Epoch 52/200\n",
      "28/28 - 0s - loss: 3.4838 - 62ms/epoch - 2ms/step\n",
      "Epoch 53/200\n",
      "28/28 - 0s - loss: 3.4789 - 62ms/epoch - 2ms/step\n",
      "Epoch 54/200\n",
      "28/28 - 0s - loss: 3.4756 - 78ms/epoch - 3ms/step\n",
      "Epoch 55/200\n",
      "28/28 - 0s - loss: 3.4842 - 62ms/epoch - 2ms/step\n",
      "Epoch 56/200\n",
      "28/28 - 0s - loss: 3.4754 - 63ms/epoch - 2ms/step\n",
      "Epoch 57/200\n",
      "28/28 - 0s - loss: 3.4672 - 66ms/epoch - 2ms/step\n",
      "Epoch 58/200\n",
      "28/28 - 0s - loss: 3.4641 - 62ms/epoch - 2ms/step\n",
      "Epoch 59/200\n",
      "28/28 - 0s - loss: 3.4644 - 62ms/epoch - 2ms/step\n",
      "Epoch 60/200\n",
      "28/28 - 0s - loss: 3.4579 - 62ms/epoch - 2ms/step\n",
      "Epoch 61/200\n",
      "28/28 - 0s - loss: 3.4579 - 62ms/epoch - 2ms/step\n",
      "Epoch 62/200\n",
      "28/28 - 0s - loss: 3.4543 - 62ms/epoch - 2ms/step\n",
      "Epoch 63/200\n",
      "28/28 - 0s - loss: 3.4557 - 62ms/epoch - 2ms/step\n",
      "Epoch 64/200\n",
      "28/28 - 0s - loss: 3.4585 - 62ms/epoch - 2ms/step\n",
      "Epoch 65/200\n",
      "28/28 - 0s - loss: 3.4572 - 53ms/epoch - 2ms/step\n",
      "Epoch 66/200\n",
      "28/28 - 0s - loss: 3.4622 - 63ms/epoch - 2ms/step\n",
      "Epoch 67/200\n",
      "28/28 - 0s - loss: 3.4667 - 78ms/epoch - 3ms/step\n",
      "Epoch 68/200\n",
      "28/28 - 0s - loss: 3.4494 - 78ms/epoch - 3ms/step\n",
      "Epoch 69/200\n",
      "28/28 - 0s - loss: 3.4516 - 78ms/epoch - 3ms/step\n",
      "Epoch 70/200\n",
      "28/28 - 0s - loss: 3.4690 - 78ms/epoch - 3ms/step\n",
      "Epoch 71/200\n",
      "28/28 - 0s - loss: 3.4454 - 62ms/epoch - 2ms/step\n",
      "Epoch 72/200\n",
      "28/28 - 0s - loss: 3.4416 - 68ms/epoch - 2ms/step\n",
      "Epoch 73/200\n",
      "28/28 - 0s - loss: 3.4371 - 62ms/epoch - 2ms/step\n",
      "Epoch 74/200\n",
      "28/28 - 0s - loss: 3.4424 - 63ms/epoch - 2ms/step\n",
      "Epoch 75/200\n",
      "28/28 - 0s - loss: 3.4368 - 78ms/epoch - 3ms/step\n",
      "Epoch 76/200\n",
      "28/28 - 0s - loss: 3.4381 - 63ms/epoch - 2ms/step\n",
      "Epoch 77/200\n",
      "28/28 - 0s - loss: 3.4327 - 78ms/epoch - 3ms/step\n",
      "Epoch 78/200\n",
      "28/28 - 0s - loss: 3.4299 - 62ms/epoch - 2ms/step\n",
      "Epoch 79/200\n",
      "28/28 - 0s - loss: 3.4321 - 63ms/epoch - 2ms/step\n",
      "Epoch 80/200\n",
      "28/28 - 0s - loss: 3.4254 - 69ms/epoch - 2ms/step\n",
      "Epoch 81/200\n",
      "28/28 - 0s - loss: 3.4305 - 62ms/epoch - 2ms/step\n",
      "Epoch 82/200\n",
      "28/28 - 0s - loss: 3.4195 - 62ms/epoch - 2ms/step\n",
      "Epoch 83/200\n",
      "28/28 - 0s - loss: 3.4349 - 62ms/epoch - 2ms/step\n",
      "Epoch 84/200\n",
      "28/28 - 0s - loss: 3.4176 - 78ms/epoch - 3ms/step\n",
      "Epoch 85/200\n",
      "28/28 - 0s - loss: 3.4210 - 62ms/epoch - 2ms/step\n",
      "Epoch 86/200\n",
      "28/28 - 0s - loss: 3.4122 - 68ms/epoch - 2ms/step\n",
      "Epoch 87/200\n",
      "28/28 - 0s - loss: 3.4115 - 65ms/epoch - 2ms/step\n",
      "Epoch 88/200\n",
      "28/28 - 0s - loss: 3.4119 - 110ms/epoch - 4ms/step\n",
      "Epoch 89/200\n",
      "28/28 - 0s - loss: 3.4181 - 94ms/epoch - 3ms/step\n",
      "Epoch 90/200\n",
      "28/28 - 0s - loss: 3.4113 - 110ms/epoch - 4ms/step\n",
      "Epoch 91/200\n",
      "28/28 - 0s - loss: 3.4081 - 78ms/epoch - 3ms/step\n",
      "Epoch 92/200\n",
      "28/28 - 0s - loss: 3.4090 - 74ms/epoch - 3ms/step\n",
      "Epoch 93/200\n",
      "28/28 - 0s - loss: 3.4067 - 94ms/epoch - 3ms/step\n",
      "Epoch 94/200\n",
      "28/28 - 0s - loss: 3.4001 - 78ms/epoch - 3ms/step\n",
      "Epoch 95/200\n",
      "28/28 - 0s - loss: 3.4102 - 78ms/epoch - 3ms/step\n",
      "Epoch 96/200\n",
      "28/28 - 0s - loss: 3.3994 - 78ms/epoch - 3ms/step\n",
      "Epoch 97/200\n",
      "28/28 - 0s - loss: 3.3981 - 62ms/epoch - 2ms/step\n",
      "Epoch 98/200\n",
      "28/28 - 0s - loss: 3.3922 - 67ms/epoch - 2ms/step\n",
      "Epoch 99/200\n",
      "28/28 - 0s - loss: 3.3940 - 63ms/epoch - 2ms/step\n",
      "Epoch 100/200\n",
      "28/28 - 0s - loss: 3.3956 - 62ms/epoch - 2ms/step\n",
      "Epoch 101/200\n",
      "28/28 - 0s - loss: 3.3954 - 62ms/epoch - 2ms/step\n",
      "Epoch 102/200\n",
      "28/28 - 0s - loss: 3.4005 - 78ms/epoch - 3ms/step\n",
      "Epoch 103/200\n",
      "28/28 - 0s - loss: 3.3904 - 62ms/epoch - 2ms/step\n",
      "Epoch 104/200\n",
      "28/28 - 0s - loss: 3.3819 - 74ms/epoch - 3ms/step\n",
      "Epoch 105/200\n",
      "28/28 - 0s - loss: 3.3902 - 51ms/epoch - 2ms/step\n",
      "Epoch 106/200\n",
      "28/28 - 0s - loss: 3.3891 - 67ms/epoch - 2ms/step\n",
      "Epoch 107/200\n",
      "28/28 - 0s - loss: 3.3827 - 62ms/epoch - 2ms/step\n",
      "Epoch 108/200\n",
      "28/28 - 0s - loss: 3.3844 - 62ms/epoch - 2ms/step\n",
      "Epoch 109/200\n",
      "28/28 - 0s - loss: 3.3822 - 62ms/epoch - 2ms/step\n",
      "Epoch 110/200\n",
      "28/28 - 0s - loss: 3.3886 - 62ms/epoch - 2ms/step\n",
      "Epoch 111/200\n",
      "28/28 - 0s - loss: 3.3905 - 63ms/epoch - 2ms/step\n",
      "Epoch 112/200\n",
      "28/28 - 0s - loss: 3.3805 - 62ms/epoch - 2ms/step\n",
      "Epoch 113/200\n",
      "28/28 - 0s - loss: 3.3816 - 73ms/epoch - 3ms/step\n",
      "Epoch 114/200\n",
      "28/28 - 0s - loss: 3.3787 - 48ms/epoch - 2ms/step\n",
      "Epoch 115/200\n",
      "28/28 - 0s - loss: 3.3806 - 62ms/epoch - 2ms/step\n",
      "Epoch 116/200\n",
      "28/28 - 0s - loss: 3.3934 - 62ms/epoch - 2ms/step\n",
      "Epoch 117/200\n",
      "28/28 - 0s - loss: 3.3808 - 62ms/epoch - 2ms/step\n",
      "Epoch 118/200\n",
      "28/28 - 0s - loss: 3.3779 - 62ms/epoch - 2ms/step\n",
      "Epoch 119/200\n",
      "28/28 - 0s - loss: 3.3685 - 63ms/epoch - 2ms/step\n",
      "Epoch 120/200\n",
      "28/28 - 0s - loss: 3.3753 - 78ms/epoch - 3ms/step\n",
      "Epoch 121/200\n",
      "28/28 - 0s - loss: 3.3737 - 62ms/epoch - 2ms/step\n",
      "Epoch 122/200\n",
      "28/28 - 0s - loss: 3.3741 - 78ms/epoch - 3ms/step\n",
      "Epoch 123/200\n",
      "28/28 - 0s - loss: 3.3675 - 78ms/epoch - 3ms/step\n",
      "Epoch 124/200\n",
      "28/28 - 0s - loss: 3.3715 - 78ms/epoch - 3ms/step\n",
      "Epoch 125/200\n",
      "28/28 - 0s - loss: 3.3704 - 78ms/epoch - 3ms/step\n",
      "Epoch 126/200\n",
      "28/28 - 0s - loss: 3.3641 - 78ms/epoch - 3ms/step\n",
      "Epoch 127/200\n",
      "28/28 - 0s - loss: 3.3626 - 78ms/epoch - 3ms/step\n",
      "Epoch 128/200\n",
      "28/28 - 0s - loss: 3.3625 - 77ms/epoch - 3ms/step\n",
      "Epoch 129/200\n",
      "28/28 - 0s - loss: 3.3585 - 78ms/epoch - 3ms/step\n",
      "Epoch 130/200\n",
      "28/28 - 0s - loss: 3.3538 - 63ms/epoch - 2ms/step\n",
      "Epoch 131/200\n",
      "28/28 - 0s - loss: 3.3508 - 78ms/epoch - 3ms/step\n",
      "Epoch 132/200\n",
      "28/28 - 0s - loss: 3.3541 - 63ms/epoch - 2ms/step\n",
      "Epoch 133/200\n",
      "28/28 - 0s - loss: 3.3475 - 78ms/epoch - 3ms/step\n",
      "Epoch 134/200\n",
      "28/28 - 0s - loss: 3.3585 - 62ms/epoch - 2ms/step\n",
      "Epoch 135/200\n",
      "28/28 - 0s - loss: 3.3522 - 78ms/epoch - 3ms/step\n",
      "Epoch 136/200\n",
      "28/28 - 0s - loss: 3.3460 - 78ms/epoch - 3ms/step\n",
      "Epoch 137/200\n",
      "28/28 - 0s - loss: 3.3491 - 78ms/epoch - 3ms/step\n",
      "Epoch 138/200\n",
      "28/28 - 0s - loss: 3.3483 - 78ms/epoch - 3ms/step\n",
      "Epoch 139/200\n",
      "28/28 - 0s - loss: 3.3540 - 78ms/epoch - 3ms/step\n",
      "Epoch 140/200\n",
      "28/28 - 0s - loss: 3.3484 - 78ms/epoch - 3ms/step\n",
      "Epoch 141/200\n",
      "28/28 - 0s - loss: 3.3442 - 62ms/epoch - 2ms/step\n",
      "Epoch 142/200\n",
      "28/28 - 0s - loss: 3.3466 - 63ms/epoch - 2ms/step\n",
      "Epoch 143/200\n",
      "28/28 - 0s - loss: 3.3432 - 78ms/epoch - 3ms/step\n",
      "Epoch 144/200\n",
      "28/28 - 0s - loss: 3.3523 - 78ms/epoch - 3ms/step\n",
      "Epoch 145/200\n",
      "28/28 - 0s - loss: 3.3486 - 78ms/epoch - 3ms/step\n",
      "Epoch 146/200\n",
      "28/28 - 0s - loss: 3.3361 - 78ms/epoch - 3ms/step\n",
      "Epoch 147/200\n",
      "28/28 - 0s - loss: 3.3448 - 78ms/epoch - 3ms/step\n",
      "Epoch 148/200\n",
      "28/28 - 0s - loss: 3.3406 - 73ms/epoch - 3ms/step\n",
      "Epoch 149/200\n",
      "28/28 - 0s - loss: 3.3331 - 62ms/epoch - 2ms/step\n",
      "Epoch 150/200\n",
      "28/28 - 0s - loss: 3.3352 - 63ms/epoch - 2ms/step\n",
      "Epoch 151/200\n",
      "28/28 - 0s - loss: 3.3379 - 78ms/epoch - 3ms/step\n",
      "Epoch 152/200\n",
      "28/28 - 0s - loss: 3.3550 - 62ms/epoch - 2ms/step\n",
      "Epoch 153/200\n",
      "28/28 - 0s - loss: 3.3404 - 78ms/epoch - 3ms/step\n",
      "Epoch 154/200\n",
      "28/28 - 0s - loss: 3.3368 - 78ms/epoch - 3ms/step\n",
      "Epoch 155/200\n",
      "28/28 - 0s - loss: 3.3319 - 78ms/epoch - 3ms/step\n",
      "Epoch 156/200\n",
      "28/28 - 0s - loss: 3.3461 - 77ms/epoch - 3ms/step\n",
      "Epoch 157/200\n",
      "28/28 - 0s - loss: 3.3334 - 74ms/epoch - 3ms/step\n",
      "Epoch 158/200\n",
      "28/28 - 0s - loss: 3.3364 - 62ms/epoch - 2ms/step\n",
      "Epoch 159/200\n",
      "28/28 - 0s - loss: 3.3355 - 78ms/epoch - 3ms/step\n",
      "Epoch 160/200\n",
      "28/28 - 0s - loss: 3.3288 - 62ms/epoch - 2ms/step\n",
      "Epoch 161/200\n",
      "28/28 - 0s - loss: 3.3473 - 63ms/epoch - 2ms/step\n",
      "Epoch 162/200\n",
      "28/28 - 0s - loss: 3.3259 - 79ms/epoch - 3ms/step\n",
      "Epoch 163/200\n",
      "28/28 - 0s - loss: 3.3311 - 63ms/epoch - 2ms/step\n",
      "Epoch 164/200\n",
      "28/28 - 0s - loss: 3.3295 - 62ms/epoch - 2ms/step\n",
      "Epoch 165/200\n",
      "28/28 - 0s - loss: 3.3223 - 62ms/epoch - 2ms/step\n",
      "Epoch 166/200\n",
      "28/28 - 0s - loss: 3.3188 - 62ms/epoch - 2ms/step\n",
      "Epoch 167/200\n",
      "28/28 - 0s - loss: 3.3215 - 63ms/epoch - 2ms/step\n",
      "Epoch 168/200\n",
      "28/28 - 0s - loss: 3.3185 - 63ms/epoch - 2ms/step\n",
      "Epoch 169/200\n",
      "28/28 - 0s - loss: 3.3244 - 62ms/epoch - 2ms/step\n",
      "Epoch 170/200\n",
      "28/28 - 0s - loss: 3.3146 - 63ms/epoch - 2ms/step\n",
      "Epoch 171/200\n",
      "28/28 - 0s - loss: 3.3268 - 62ms/epoch - 2ms/step\n",
      "Epoch 172/200\n",
      "28/28 - 0s - loss: 3.3208 - 62ms/epoch - 2ms/step\n",
      "Epoch 173/200\n",
      "28/28 - 0s - loss: 3.3191 - 78ms/epoch - 3ms/step\n",
      "Epoch 174/200\n",
      "28/28 - 0s - loss: 3.3246 - 62ms/epoch - 2ms/step\n",
      "Epoch 175/200\n",
      "28/28 - 0s - loss: 3.3223 - 63ms/epoch - 2ms/step\n",
      "Epoch 176/200\n",
      "28/28 - 0s - loss: 3.3213 - 62ms/epoch - 2ms/step\n",
      "Epoch 177/200\n",
      "28/28 - 0s - loss: 3.3187 - 63ms/epoch - 2ms/step\n",
      "Epoch 178/200\n",
      "28/28 - 0s - loss: 3.3281 - 75ms/epoch - 3ms/step\n",
      "Epoch 179/200\n",
      "28/28 - 0s - loss: 3.3132 - 62ms/epoch - 2ms/step\n",
      "Epoch 180/200\n",
      "28/28 - 0s - loss: 3.3111 - 62ms/epoch - 2ms/step\n",
      "Epoch 181/200\n",
      "28/28 - 0s - loss: 3.3134 - 62ms/epoch - 2ms/step\n",
      "Epoch 182/200\n",
      "28/28 - 0s - loss: 3.3201 - 62ms/epoch - 2ms/step\n",
      "Epoch 183/200\n",
      "28/28 - 0s - loss: 3.3088 - 62ms/epoch - 2ms/step\n",
      "Epoch 184/200\n",
      "28/28 - 0s - loss: 3.3129 - 63ms/epoch - 2ms/step\n",
      "Epoch 185/200\n",
      "28/28 - 0s - loss: 3.3170 - 76ms/epoch - 3ms/step\n",
      "Epoch 186/200\n",
      "28/28 - 0s - loss: 3.3112 - 64ms/epoch - 2ms/step\n",
      "Epoch 187/200\n",
      "28/28 - 0s - loss: 3.3216 - 63ms/epoch - 2ms/step\n",
      "Epoch 188/200\n",
      "28/28 - 0s - loss: 3.3215 - 62ms/epoch - 2ms/step\n",
      "Epoch 189/200\n",
      "28/28 - 0s - loss: 3.3114 - 63ms/epoch - 2ms/step\n",
      "Epoch 190/200\n",
      "28/28 - 0s - loss: 3.3085 - 62ms/epoch - 2ms/step\n",
      "Epoch 191/200\n",
      "28/28 - 0s - loss: 3.3068 - 63ms/epoch - 2ms/step\n",
      "Epoch 192/200\n",
      "28/28 - 0s - loss: 3.3061 - 78ms/epoch - 3ms/step\n",
      "Epoch 193/200\n",
      "28/28 - 0s - loss: 3.3079 - 66ms/epoch - 2ms/step\n",
      "Epoch 194/200\n",
      "28/28 - 0s - loss: 3.3042 - 51ms/epoch - 2ms/step\n",
      "Epoch 195/200\n",
      "28/28 - 0s - loss: 3.3066 - 62ms/epoch - 2ms/step\n",
      "Epoch 196/200\n",
      "28/28 - 0s - loss: 3.3028 - 62ms/epoch - 2ms/step\n",
      "Epoch 197/200\n",
      "28/28 - 0s - loss: 3.3068 - 62ms/epoch - 2ms/step\n",
      "Epoch 198/200\n",
      "28/28 - 0s - loss: 3.2998 - 62ms/epoch - 2ms/step\n",
      "Epoch 199/200\n",
      "28/28 - 0s - loss: 3.3014 - 62ms/epoch - 2ms/step\n",
      "Epoch 200/200\n",
      "28/28 - 0s - loss: 3.3000 - 62ms/epoch - 2ms/step\n",
      "14/14 [==============================] - 0s 1ms/step\n",
      "56/56 [==============================] - 0s 2ms/step\n",
      "Train Score: 3.29 MSE (1.81 RMSE)\n",
      "Test Score: 4.64 MSE (2.15 RMSE)\n",
      "14/14 [==============================] - 0s 1ms/step\n",
      "0.13593453191995186\n"
     ]
    }
   ],
   "source": [
    "X_train = np.reshape(train_data, (train_data.shape[0], 1, train_data.shape[1]))\n",
    "X_test = np.reshape(test_data, (test_data.shape[0], 1, test_data.shape[1]))\n",
    "\n",
    "# Defining the LSTM model\n",
    "model = Sequential()\n",
    "model.add(LSTM(100, input_shape=(1, 25)))\n",
    "model.add(Dense(1))\n",
    "model.compile(loss='mean_squared_error', optimizer='adam')\n",
    "\n",
    "# Training the model\n",
    "model.fit(X_train, train_labels, epochs=200, batch_size=64, verbose=2)\n",
    "\n",
    "# Evaluating the model on the test data\n",
    "train_score = model.evaluate(X_train, train_labels, verbose=0)\n",
    "test_score = model.evaluate(X_test, test_labels, verbose=0)\n",
    "y_pred = model.predict(X_test)\n",
    "y_pred_train = model.predict(X_train)\n",
    "print('Train Score: %.2f MSE (%.2f RMSE)' % (train_score, np.sqrt(train_score)))\n",
    "print('Test Score: %.2f MSE (%.2f RMSE)' % (test_score, np.sqrt(test_score)))\n",
    "print(r2_score(test_labels, model.predict(X_test)))"
   ],
   "metadata": {
    "collapsed": false
   }
  },
  {
   "cell_type": "code",
   "execution_count": 80,
   "outputs": [],
   "source": [
    "train_score = mean_squared_error(train_labels, y_pred_train)\n",
    "test_score = mean_squared_error(test_labels, y_pred)\n",
    "r2_s = r2_score(test_labels, y_pred)\n",
    "mae_test = mean_absolute_error(test_labels, y_pred)\n",
    "mae_train = mean_absolute_error(train_labels, y_pred_train)\n",
    "\n",
    "a,b=list(test_labels),list(y_pred)\n",
    "n = 0\n",
    "d1 = 0\n",
    "d_mean = test_labels.mean()\n",
    "for i in range(len(y_pred)):\n",
    "    n = n + math.pow((a[i] - b[i]),2)\n",
    "    d1 = d1 + math.pow((a[i] - d_mean),2)\n",
    "nse=1-(n/d1)\n",
    "d['LSTM'] = (train_score, test_score, r2_s, mae_train, mae_test,nse)"
   ],
   "metadata": {
    "collapsed": false
   }
  },
  {
   "cell_type": "code",
   "execution_count": 81,
   "outputs": [
    {
     "data": {
      "text/plain": "{'Random Forest Regressor': (0.28643286814472496,\n  0.8651317773495615,\n  0.8389975033576511,\n  0.34968930539514537,\n  0.564887462144009,\n  0.8389975033576511),\n 'Decision Tree Regressor': (0.49193018485830436,\n  0.983804027477422,\n  0.81691239557062,\n  0.41304360715144406,\n  0.5562032166442301,\n  0.81691239557062),\n 'Gradient Boosting Regressor': (0.22065471696655947,\n  0.6585892287979873,\n  0.8774354232795782,\n  0.3396504843211201,\n  0.5281514947258618,\n  0.8774354232795782),\n 'Linear': (3.492318762833084,\n  4.7104539942339105,\n  0.1233764921755377,\n  1.0419473831927875,\n  1.115506221719457,\n  0.1233764921755377),\n 'Ridge': (3.487458225048613,\n  4.7109318266404525,\n  0.12328756675117569,\n  1.0390007171998517,\n  1.114226442487029,\n  0.12328756675117569),\n 'Polynomial Regression': (3.054450686818274,\n  4.593607473969688,\n  0.14512182852666033,\n  0.9785723213290998,\n  1.167989783653846,\n  0.14512182852666033),\n 'MLP': (0.39969301878764596,\n  2.1567269838331664,\n  0.598629436504031,\n  0.3575825984317906,\n  0.745604476929048,\n  0.5986294263403136),\n 'LSTM': (3.2921602294996113,\n  4.64297454844466,\n  0.13593453191995186,\n  1.0102328612409321,\n  1.1438429492442317,\n  0.1359345137931368)}"
     },
     "execution_count": 81,
     "metadata": {},
     "output_type": "execute_result"
    }
   ],
   "source": [
    "d"
   ],
   "metadata": {
    "collapsed": false
   }
  },
  {
   "cell_type": "code",
   "execution_count": 82,
   "outputs": [],
   "source": [
    "df = pd.DataFrame.from_dict(d, orient='index', columns=['Train MSE', 'Test MSE', 'R2_score', 'Train MAE', 'Test MAE','NSE'])\n",
    "df.to_excel('Models_Results(Districts).xlsx')"
   ],
   "metadata": {
    "collapsed": false
   }
  },
  {
   "cell_type": "code",
   "execution_count": null,
   "outputs": [],
   "source": [],
   "metadata": {
    "collapsed": false
   }
  }
 ],
 "metadata": {
  "kernelspec": {
   "display_name": "Python 3",
   "language": "python",
   "name": "python3"
  },
  "language_info": {
   "codemirror_mode": {
    "name": "ipython",
    "version": 2
   },
   "file_extension": ".py",
   "mimetype": "text/x-python",
   "name": "python",
   "nbconvert_exporter": "python",
   "pygments_lexer": "ipython2",
   "version": "2.7.6"
  }
 },
 "nbformat": 4,
 "nbformat_minor": 0
}
