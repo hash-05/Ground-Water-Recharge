{
 "cells": [
  {
   "cell_type": "code",
   "execution_count": 15,
   "metadata": {
    "collapsed": true
   },
   "outputs": [],
   "source": [
    "import tensorflow as tf\n",
    "import numpy as np\n",
    "import pandas as pd\n",
    "from sklearn.model_selection import train_test_split\n",
    "from sklearn.preprocessing import LabelEncoder, MinMaxScaler, PolynomialFeatures, StandardScaler\n",
    "from sklearn.metrics import mean_squared_error, r2_score, f1_score, mean_absolute_error\n"
   ]
  },
  {
   "cell_type": "code",
   "execution_count": 16,
   "outputs": [],
   "source": [
    "from sklearn.linear_model import LinearRegression\n",
    "from sklearn.ensemble import RandomForestRegressor, GradientBoostingRegressor"
   ],
   "metadata": {
    "collapsed": false
   }
  },
  {
   "cell_type": "code",
   "execution_count": 17,
   "outputs": [],
   "source": [
    "df = pd.read_excel(\"B:\\GroundwaterRech\\GithubRepo\\Restart\\Dataset\\District Wise\\\\1.xlsx\")"
   ],
   "metadata": {
    "collapsed": false
   }
  },
  {
   "cell_type": "code",
   "execution_count": 18,
   "outputs": [
    {
     "data": {
      "text/plain": "    Year  District  Longitude  Latitude     Slope Soil Type         LULC  \\\n0   1986  Faridkot      75.25     29.75  0.496398   Builtup  Agriculture   \n1   1987  Faridkot      75.25     29.75  0.496398   Builtup  Agriculture   \n2   1988  Faridkot      75.25     29.75  0.496398   Builtup  Agriculture   \n3   1989  Faridkot      75.25     29.75  0.496398   Builtup  Agriculture   \n4   1990  Faridkot      75.25     29.75  0.496398   Builtup  Agriculture   \n5   1991  Faridkot      75.25     29.75  0.496398   Builtup  Agriculture   \n6   1992  Faridkot      75.25     29.75  0.496398   Builtup  Agriculture   \n7   1993  Faridkot      75.25     29.75  0.496398   Builtup  Agriculture   \n8   1994  Faridkot      75.25     29.75  0.496398   Builtup  Agriculture   \n9   1995  Faridkot      75.25     29.75  0.496398   Builtup  Agriculture   \n10  1996  Faridkot      75.25     29.75  0.496398   Builtup  Agriculture   \n11  1997  Faridkot      75.25     29.75  0.496398   Builtup  Agriculture   \n12  1998  Faridkot      75.25     29.75  0.496398   Builtup  Agriculture   \n13  1999  Faridkot      75.25     29.75  0.496398   Builtup  Agriculture   \n14  2000  Faridkot      75.25     29.75  0.496398   Builtup  Agriculture   \n15  2001  Faridkot      75.25     29.75  0.496398   Builtup  Agriculture   \n16  2002  Faridkot      75.25     29.75  0.496398   Builtup  Agriculture   \n17  2003  Faridkot      75.25     29.75  0.496398   Builtup  Agriculture   \n18  2004  Faridkot      75.25     29.75  0.496398   Builtup  Agriculture   \n19  2005  Faridkot      75.25     29.75  0.496398   Builtup  Agriculture   \n20  2006  Faridkot      75.25     29.75  0.496398   Builtup  Agriculture   \n21  2007  Faridkot      75.25     29.75  0.496398   Builtup  Agriculture   \n22  2008  Faridkot      75.25     29.75  0.496398   Builtup  Agriculture   \n23  2009  Faridkot      75.25     29.75  0.496398   Builtup  Agriculture   \n24  2010  Faridkot      75.25     29.75  0.496398   Builtup  Agriculture   \n25  2011  Faridkot      75.25     29.75  0.496398   Builtup  Agriculture   \n26  2012  Faridkot      75.25     29.75  0.496398   Builtup  Agriculture   \n27  2013  Faridkot      75.25     29.75  0.496398   Builtup  Agriculture   \n28  2014  Faridkot      75.25     29.75  0.496398   Builtup  Agriculture   \n29  2015  Faridkot      75.25     29.75  0.496398   Builtup  Agriculture   \n30  2016  Faridkot      75.25     29.75  0.496398   Builtup  Agriculture   \n31  2017  Faridkot      75.25     29.75  0.496398   Builtup  Agriculture   \n32  2018  Faridkot      75.25     29.75  0.496398   Builtup  Agriculture   \n33  2019  Faridkot      75.25     29.75  0.496398   Builtup  Agriculture   \n\n    Max Temperature  Min Temperature  Precipitation  Groundwater Recharge  \n0            42.902           21.724          74.26                 -0.09  \n1            45.352           23.562          39.16                  0.83  \n2            41.710           22.326         120.64                 -1.48  \n3            43.788           22.494          79.64                  0.30  \n4            42.016           22.742         105.90                 -0.80  \n5            43.132           22.458          58.66                  0.65  \n6            41.538           22.258          86.86                 -0.33  \n7            43.544           22.690          73.10                 -0.27  \n8            40.554           21.804          66.78                 -0.85  \n9            42.400           21.976         104.20                 -1.12  \n10           41.898           21.170         100.28                  0.10  \n11           42.088           22.298          86.24                 -0.70  \n12           43.646           23.114          76.82                 -0.66  \n13           43.930           23.586          52.84                  0.29  \n14           44.212           22.426          73.14                  0.25  \n15           41.652           22.904          76.74                  0.10  \n16           44.194           24.320          56.54                  0.58  \n17           42.230           22.924          87.54                 -0.10  \n18           43.010           23.252          62.90                  0.55  \n19           43.326           22.998          74.84                 -2.20  \n20           42.192           22.554         104.56                 -0.20  \n21           43.076           23.812          72.88                 -0.25  \n22           39.920           22.186          91.04                 -0.40  \n23           43.392           22.898          49.50                  0.05  \n24           40.872           21.412         106.14                 -0.20  \n25           40.468           22.264         109.28                 -0.20  \n26           43.158           22.634          89.82                  0.30  \n27           41.144           22.686         102.48                 -0.85  \n28           41.560           23.136          83.18                 -0.15  \n29           41.250           21.970         100.44                 -0.70  \n30           41.490           23.260          86.66                 -0.30  \n31           42.186           22.604          82.10                 -0.25  \n32           41.042           22.286          85.58                 -0.20  \n33           41.424           22.914          83.12                 -0.25  ",
      "text/html": "<div>\n<style scoped>\n    .dataframe tbody tr th:only-of-type {\n        vertical-align: middle;\n    }\n\n    .dataframe tbody tr th {\n        vertical-align: top;\n    }\n\n    .dataframe thead th {\n        text-align: right;\n    }\n</style>\n<table border=\"1\" class=\"dataframe\">\n  <thead>\n    <tr style=\"text-align: right;\">\n      <th></th>\n      <th>Year</th>\n      <th>District</th>\n      <th>Longitude</th>\n      <th>Latitude</th>\n      <th>Slope</th>\n      <th>Soil Type</th>\n      <th>LULC</th>\n      <th>Max Temperature</th>\n      <th>Min Temperature</th>\n      <th>Precipitation</th>\n      <th>Groundwater Recharge</th>\n    </tr>\n  </thead>\n  <tbody>\n    <tr>\n      <th>0</th>\n      <td>1986</td>\n      <td>Faridkot</td>\n      <td>75.25</td>\n      <td>29.75</td>\n      <td>0.496398</td>\n      <td>Builtup</td>\n      <td>Agriculture</td>\n      <td>42.902</td>\n      <td>21.724</td>\n      <td>74.26</td>\n      <td>-0.09</td>\n    </tr>\n    <tr>\n      <th>1</th>\n      <td>1987</td>\n      <td>Faridkot</td>\n      <td>75.25</td>\n      <td>29.75</td>\n      <td>0.496398</td>\n      <td>Builtup</td>\n      <td>Agriculture</td>\n      <td>45.352</td>\n      <td>23.562</td>\n      <td>39.16</td>\n      <td>0.83</td>\n    </tr>\n    <tr>\n      <th>2</th>\n      <td>1988</td>\n      <td>Faridkot</td>\n      <td>75.25</td>\n      <td>29.75</td>\n      <td>0.496398</td>\n      <td>Builtup</td>\n      <td>Agriculture</td>\n      <td>41.710</td>\n      <td>22.326</td>\n      <td>120.64</td>\n      <td>-1.48</td>\n    </tr>\n    <tr>\n      <th>3</th>\n      <td>1989</td>\n      <td>Faridkot</td>\n      <td>75.25</td>\n      <td>29.75</td>\n      <td>0.496398</td>\n      <td>Builtup</td>\n      <td>Agriculture</td>\n      <td>43.788</td>\n      <td>22.494</td>\n      <td>79.64</td>\n      <td>0.30</td>\n    </tr>\n    <tr>\n      <th>4</th>\n      <td>1990</td>\n      <td>Faridkot</td>\n      <td>75.25</td>\n      <td>29.75</td>\n      <td>0.496398</td>\n      <td>Builtup</td>\n      <td>Agriculture</td>\n      <td>42.016</td>\n      <td>22.742</td>\n      <td>105.90</td>\n      <td>-0.80</td>\n    </tr>\n    <tr>\n      <th>5</th>\n      <td>1991</td>\n      <td>Faridkot</td>\n      <td>75.25</td>\n      <td>29.75</td>\n      <td>0.496398</td>\n      <td>Builtup</td>\n      <td>Agriculture</td>\n      <td>43.132</td>\n      <td>22.458</td>\n      <td>58.66</td>\n      <td>0.65</td>\n    </tr>\n    <tr>\n      <th>6</th>\n      <td>1992</td>\n      <td>Faridkot</td>\n      <td>75.25</td>\n      <td>29.75</td>\n      <td>0.496398</td>\n      <td>Builtup</td>\n      <td>Agriculture</td>\n      <td>41.538</td>\n      <td>22.258</td>\n      <td>86.86</td>\n      <td>-0.33</td>\n    </tr>\n    <tr>\n      <th>7</th>\n      <td>1993</td>\n      <td>Faridkot</td>\n      <td>75.25</td>\n      <td>29.75</td>\n      <td>0.496398</td>\n      <td>Builtup</td>\n      <td>Agriculture</td>\n      <td>43.544</td>\n      <td>22.690</td>\n      <td>73.10</td>\n      <td>-0.27</td>\n    </tr>\n    <tr>\n      <th>8</th>\n      <td>1994</td>\n      <td>Faridkot</td>\n      <td>75.25</td>\n      <td>29.75</td>\n      <td>0.496398</td>\n      <td>Builtup</td>\n      <td>Agriculture</td>\n      <td>40.554</td>\n      <td>21.804</td>\n      <td>66.78</td>\n      <td>-0.85</td>\n    </tr>\n    <tr>\n      <th>9</th>\n      <td>1995</td>\n      <td>Faridkot</td>\n      <td>75.25</td>\n      <td>29.75</td>\n      <td>0.496398</td>\n      <td>Builtup</td>\n      <td>Agriculture</td>\n      <td>42.400</td>\n      <td>21.976</td>\n      <td>104.20</td>\n      <td>-1.12</td>\n    </tr>\n    <tr>\n      <th>10</th>\n      <td>1996</td>\n      <td>Faridkot</td>\n      <td>75.25</td>\n      <td>29.75</td>\n      <td>0.496398</td>\n      <td>Builtup</td>\n      <td>Agriculture</td>\n      <td>41.898</td>\n      <td>21.170</td>\n      <td>100.28</td>\n      <td>0.10</td>\n    </tr>\n    <tr>\n      <th>11</th>\n      <td>1997</td>\n      <td>Faridkot</td>\n      <td>75.25</td>\n      <td>29.75</td>\n      <td>0.496398</td>\n      <td>Builtup</td>\n      <td>Agriculture</td>\n      <td>42.088</td>\n      <td>22.298</td>\n      <td>86.24</td>\n      <td>-0.70</td>\n    </tr>\n    <tr>\n      <th>12</th>\n      <td>1998</td>\n      <td>Faridkot</td>\n      <td>75.25</td>\n      <td>29.75</td>\n      <td>0.496398</td>\n      <td>Builtup</td>\n      <td>Agriculture</td>\n      <td>43.646</td>\n      <td>23.114</td>\n      <td>76.82</td>\n      <td>-0.66</td>\n    </tr>\n    <tr>\n      <th>13</th>\n      <td>1999</td>\n      <td>Faridkot</td>\n      <td>75.25</td>\n      <td>29.75</td>\n      <td>0.496398</td>\n      <td>Builtup</td>\n      <td>Agriculture</td>\n      <td>43.930</td>\n      <td>23.586</td>\n      <td>52.84</td>\n      <td>0.29</td>\n    </tr>\n    <tr>\n      <th>14</th>\n      <td>2000</td>\n      <td>Faridkot</td>\n      <td>75.25</td>\n      <td>29.75</td>\n      <td>0.496398</td>\n      <td>Builtup</td>\n      <td>Agriculture</td>\n      <td>44.212</td>\n      <td>22.426</td>\n      <td>73.14</td>\n      <td>0.25</td>\n    </tr>\n    <tr>\n      <th>15</th>\n      <td>2001</td>\n      <td>Faridkot</td>\n      <td>75.25</td>\n      <td>29.75</td>\n      <td>0.496398</td>\n      <td>Builtup</td>\n      <td>Agriculture</td>\n      <td>41.652</td>\n      <td>22.904</td>\n      <td>76.74</td>\n      <td>0.10</td>\n    </tr>\n    <tr>\n      <th>16</th>\n      <td>2002</td>\n      <td>Faridkot</td>\n      <td>75.25</td>\n      <td>29.75</td>\n      <td>0.496398</td>\n      <td>Builtup</td>\n      <td>Agriculture</td>\n      <td>44.194</td>\n      <td>24.320</td>\n      <td>56.54</td>\n      <td>0.58</td>\n    </tr>\n    <tr>\n      <th>17</th>\n      <td>2003</td>\n      <td>Faridkot</td>\n      <td>75.25</td>\n      <td>29.75</td>\n      <td>0.496398</td>\n      <td>Builtup</td>\n      <td>Agriculture</td>\n      <td>42.230</td>\n      <td>22.924</td>\n      <td>87.54</td>\n      <td>-0.10</td>\n    </tr>\n    <tr>\n      <th>18</th>\n      <td>2004</td>\n      <td>Faridkot</td>\n      <td>75.25</td>\n      <td>29.75</td>\n      <td>0.496398</td>\n      <td>Builtup</td>\n      <td>Agriculture</td>\n      <td>43.010</td>\n      <td>23.252</td>\n      <td>62.90</td>\n      <td>0.55</td>\n    </tr>\n    <tr>\n      <th>19</th>\n      <td>2005</td>\n      <td>Faridkot</td>\n      <td>75.25</td>\n      <td>29.75</td>\n      <td>0.496398</td>\n      <td>Builtup</td>\n      <td>Agriculture</td>\n      <td>43.326</td>\n      <td>22.998</td>\n      <td>74.84</td>\n      <td>-2.20</td>\n    </tr>\n    <tr>\n      <th>20</th>\n      <td>2006</td>\n      <td>Faridkot</td>\n      <td>75.25</td>\n      <td>29.75</td>\n      <td>0.496398</td>\n      <td>Builtup</td>\n      <td>Agriculture</td>\n      <td>42.192</td>\n      <td>22.554</td>\n      <td>104.56</td>\n      <td>-0.20</td>\n    </tr>\n    <tr>\n      <th>21</th>\n      <td>2007</td>\n      <td>Faridkot</td>\n      <td>75.25</td>\n      <td>29.75</td>\n      <td>0.496398</td>\n      <td>Builtup</td>\n      <td>Agriculture</td>\n      <td>43.076</td>\n      <td>23.812</td>\n      <td>72.88</td>\n      <td>-0.25</td>\n    </tr>\n    <tr>\n      <th>22</th>\n      <td>2008</td>\n      <td>Faridkot</td>\n      <td>75.25</td>\n      <td>29.75</td>\n      <td>0.496398</td>\n      <td>Builtup</td>\n      <td>Agriculture</td>\n      <td>39.920</td>\n      <td>22.186</td>\n      <td>91.04</td>\n      <td>-0.40</td>\n    </tr>\n    <tr>\n      <th>23</th>\n      <td>2009</td>\n      <td>Faridkot</td>\n      <td>75.25</td>\n      <td>29.75</td>\n      <td>0.496398</td>\n      <td>Builtup</td>\n      <td>Agriculture</td>\n      <td>43.392</td>\n      <td>22.898</td>\n      <td>49.50</td>\n      <td>0.05</td>\n    </tr>\n    <tr>\n      <th>24</th>\n      <td>2010</td>\n      <td>Faridkot</td>\n      <td>75.25</td>\n      <td>29.75</td>\n      <td>0.496398</td>\n      <td>Builtup</td>\n      <td>Agriculture</td>\n      <td>40.872</td>\n      <td>21.412</td>\n      <td>106.14</td>\n      <td>-0.20</td>\n    </tr>\n    <tr>\n      <th>25</th>\n      <td>2011</td>\n      <td>Faridkot</td>\n      <td>75.25</td>\n      <td>29.75</td>\n      <td>0.496398</td>\n      <td>Builtup</td>\n      <td>Agriculture</td>\n      <td>40.468</td>\n      <td>22.264</td>\n      <td>109.28</td>\n      <td>-0.20</td>\n    </tr>\n    <tr>\n      <th>26</th>\n      <td>2012</td>\n      <td>Faridkot</td>\n      <td>75.25</td>\n      <td>29.75</td>\n      <td>0.496398</td>\n      <td>Builtup</td>\n      <td>Agriculture</td>\n      <td>43.158</td>\n      <td>22.634</td>\n      <td>89.82</td>\n      <td>0.30</td>\n    </tr>\n    <tr>\n      <th>27</th>\n      <td>2013</td>\n      <td>Faridkot</td>\n      <td>75.25</td>\n      <td>29.75</td>\n      <td>0.496398</td>\n      <td>Builtup</td>\n      <td>Agriculture</td>\n      <td>41.144</td>\n      <td>22.686</td>\n      <td>102.48</td>\n      <td>-0.85</td>\n    </tr>\n    <tr>\n      <th>28</th>\n      <td>2014</td>\n      <td>Faridkot</td>\n      <td>75.25</td>\n      <td>29.75</td>\n      <td>0.496398</td>\n      <td>Builtup</td>\n      <td>Agriculture</td>\n      <td>41.560</td>\n      <td>23.136</td>\n      <td>83.18</td>\n      <td>-0.15</td>\n    </tr>\n    <tr>\n      <th>29</th>\n      <td>2015</td>\n      <td>Faridkot</td>\n      <td>75.25</td>\n      <td>29.75</td>\n      <td>0.496398</td>\n      <td>Builtup</td>\n      <td>Agriculture</td>\n      <td>41.250</td>\n      <td>21.970</td>\n      <td>100.44</td>\n      <td>-0.70</td>\n    </tr>\n    <tr>\n      <th>30</th>\n      <td>2016</td>\n      <td>Faridkot</td>\n      <td>75.25</td>\n      <td>29.75</td>\n      <td>0.496398</td>\n      <td>Builtup</td>\n      <td>Agriculture</td>\n      <td>41.490</td>\n      <td>23.260</td>\n      <td>86.66</td>\n      <td>-0.30</td>\n    </tr>\n    <tr>\n      <th>31</th>\n      <td>2017</td>\n      <td>Faridkot</td>\n      <td>75.25</td>\n      <td>29.75</td>\n      <td>0.496398</td>\n      <td>Builtup</td>\n      <td>Agriculture</td>\n      <td>42.186</td>\n      <td>22.604</td>\n      <td>82.10</td>\n      <td>-0.25</td>\n    </tr>\n    <tr>\n      <th>32</th>\n      <td>2018</td>\n      <td>Faridkot</td>\n      <td>75.25</td>\n      <td>29.75</td>\n      <td>0.496398</td>\n      <td>Builtup</td>\n      <td>Agriculture</td>\n      <td>41.042</td>\n      <td>22.286</td>\n      <td>85.58</td>\n      <td>-0.20</td>\n    </tr>\n    <tr>\n      <th>33</th>\n      <td>2019</td>\n      <td>Faridkot</td>\n      <td>75.25</td>\n      <td>29.75</td>\n      <td>0.496398</td>\n      <td>Builtup</td>\n      <td>Agriculture</td>\n      <td>41.424</td>\n      <td>22.914</td>\n      <td>83.12</td>\n      <td>-0.25</td>\n    </tr>\n  </tbody>\n</table>\n</div>"
     },
     "execution_count": 18,
     "metadata": {},
     "output_type": "execute_result"
    }
   ],
   "source": [
    "df"
   ],
   "metadata": {
    "collapsed": false
   }
  },
  {
   "cell_type": "code",
   "execution_count": 25,
   "outputs": [],
   "source": [
    "n = [3, 4, 5, 12, 13, 14, 23, 24, 25,44]"
   ],
   "metadata": {
    "collapsed": false
   }
  },
  {
   "cell_type": "code",
   "execution_count": 26,
   "outputs": [],
   "source": [
    "d = {}\n",
    "for i in range(1, 76):\n",
    "    if i not in n:\n",
    "        df = pd.read_excel(\"B:\\GroundwaterRech\\GithubRepo\\Restart\\Dataset\\District Wise\\\\\" + str(i) + \".xlsx\")\n",
    "        # le=LabelEncoder()\n",
    "        data1 = df.drop(['District', 'Latitude', 'Longitude', 'Soil Type', 'Year'], axis=1)\n",
    "        data1 = pd.get_dummies(data1)\n",
    "\n",
    "        X = data1.drop('Groundwater Recharge', axis=1)\n",
    "        y = data1['Groundwater Recharge']\n",
    "\n",
    "        # Scaling the input data\n",
    "        scaler = MinMaxScaler()\n",
    "        X = scaler.fit_transform(X)\n",
    "\n",
    "        X_train, X_test, y_train, y_test = train_test_split(X, y, test_size=0.2, random_state=42)\n",
    "\n",
    "        lr = LinearRegression()\n",
    "        lr.fit(X_train, y_train)\n",
    "\n",
    "        y_pred = lr.predict(X_test)\n",
    "        y_pred_train = lr.predict(X_train)\n",
    "\n",
    "        # Evaluating the model on the test data\n",
    "        train_score = mean_squared_error(y_train, y_pred_train)\n",
    "        test_score = mean_squared_error(y_test, y_pred)\n",
    "        r2_s = r2_score(y_test, y_pred)\n",
    "        mae_test = mean_absolute_error(y_test, y_pred)\n",
    "        mae_train = mean_absolute_error(y_train, y_pred_train)\n",
    "\n",
    "        d[i] = (train_score, test_score, r2_s, mae_train, mae_test)"
   ],
   "metadata": {
    "collapsed": false
   }
  },
  {
   "cell_type": "code",
   "execution_count": 30,
   "outputs": [],
   "source": [
    "df=pd.DataFrame.from_dict(d,orient='index',columns=['Train MSE','Test MSE','R2_score','Train MAE','Test MAE'])\n",
    "df.to_excel('LLR.xlsx')"
   ],
   "metadata": {
    "collapsed": false
   }
  },
  {
   "cell_type": "code",
   "execution_count": null,
   "outputs": [],
   "source": [],
   "metadata": {
    "collapsed": false
   }
  }
 ],
 "metadata": {
  "kernelspec": {
   "display_name": "Python 3",
   "language": "python",
   "name": "python3"
  },
  "language_info": {
   "codemirror_mode": {
    "name": "ipython",
    "version": 2
   },
   "file_extension": ".py",
   "mimetype": "text/x-python",
   "name": "python",
   "nbconvert_exporter": "python",
   "pygments_lexer": "ipython2",
   "version": "2.7.6"
  }
 },
 "nbformat": 4,
 "nbformat_minor": 0
}
