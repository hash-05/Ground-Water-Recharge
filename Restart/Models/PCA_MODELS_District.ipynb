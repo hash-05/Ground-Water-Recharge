{
 "cells": [
  {
   "cell_type": "code",
   "execution_count": 1,
   "metadata": {
    "collapsed": true
   },
   "outputs": [],
   "source": [
    "import numpy as np\n",
    "import pandas as pd\n",
    "from sklearn.preprocessing import MinMaxScaler\n",
    "from sklearn.model_selection import StratifiedKFold\n",
    "\n"
   ]
  },
  {
   "cell_type": "code",
   "execution_count": 2,
   "outputs": [],
   "source": [
    "df2 = pd.DataFrame()\n",
    "n = [3, 4, 5, 12, 13, 14, 23, 24, 25, 44]\n",
    "for i in range(1, 76):\n",
    "    if i not in n:\n",
    "        df = pd.read_excel(\"B:\\GroundwaterRech\\GithubRepo\\Restart\\Dataset\\District Wise\\\\\" + str(i) + \".xlsx\")\n",
    "        df1 = df.drop(['Year', 'Longitude', 'Latitude'], axis=1)\n",
    "        df2 = pd.concat([df2, df1])"
   ],
   "metadata": {
    "collapsed": false
   }
  },
  {
   "cell_type": "code",
   "execution_count": 3,
   "outputs": [],
   "source": [
    "df2['Soil Type'] = df2['Soil Type'].replace('Builtup', 1)\n",
    "df2['Soil Type'] = df2['Soil Type'].replace('Bulitup', 1)\n",
    "\n",
    "df2['Soil Type'] = df2['Soil Type'].replace('Haplic Luvisols', 2)\n",
    "df2['Soil Type'] = df2['Soil Type'].replace('Haplic Calcisols', 3)\n",
    "df2['Soil Type'] = df2['Soil Type'].replace('Loam', 4)\n",
    "df2['Soil Type'] = df2['Soil Type'].replace('Calcaric Fluvisols', 5)\n"
   ],
   "metadata": {
    "collapsed": false
   }
  },
  {
   "cell_type": "code",
   "execution_count": 4,
   "outputs": [
    {
     "data": {
      "text/plain": "                     District     Slope  Soil Type         LULC  \\\n0                    Faridkot  0.496398          1  Agriculture   \n1                    Faridkot  0.496398          1  Agriculture   \n2                    Faridkot  0.496398          1  Agriculture   \n3                    Faridkot  0.496398          1  Agriculture   \n4                    Faridkot  0.496398          1  Agriculture   \n..                        ...       ...        ...          ...   \n29  Shahid Bhagat Singh Nagar  2.827676          5      Builtup   \n30  Shahid Bhagat Singh Nagar  2.827676          5      Builtup   \n31  Shahid Bhagat Singh Nagar  2.827676          5      Builtup   \n32  Shahid Bhagat Singh Nagar  2.827676          5      Builtup   \n33  Shahid Bhagat Singh Nagar  2.827676          5      Builtup   \n\n    Max Temperature  Min Temperature  Precipitation  Groundwater Recharge  \n0            42.902           21.724          74.26                 -0.09  \n1            45.352           23.562          39.16                  0.83  \n2            41.710           22.326         120.64                 -1.48  \n3            43.788           22.494          79.64                  0.30  \n4            42.016           22.742         105.90                 -0.80  \n..              ...              ...            ...                   ...  \n29           41.738           21.140         216.40                  0.50  \n30           42.502           22.722         210.86                  0.30  \n31           42.956           21.792         233.44                  0.65  \n32           42.238           22.246         246.28                  0.10  \n33           43.000           22.532         203.82                 -1.00  \n\n[2210 rows x 8 columns]",
      "text/html": "<div>\n<style scoped>\n    .dataframe tbody tr th:only-of-type {\n        vertical-align: middle;\n    }\n\n    .dataframe tbody tr th {\n        vertical-align: top;\n    }\n\n    .dataframe thead th {\n        text-align: right;\n    }\n</style>\n<table border=\"1\" class=\"dataframe\">\n  <thead>\n    <tr style=\"text-align: right;\">\n      <th></th>\n      <th>District</th>\n      <th>Slope</th>\n      <th>Soil Type</th>\n      <th>LULC</th>\n      <th>Max Temperature</th>\n      <th>Min Temperature</th>\n      <th>Precipitation</th>\n      <th>Groundwater Recharge</th>\n    </tr>\n  </thead>\n  <tbody>\n    <tr>\n      <th>0</th>\n      <td>Faridkot</td>\n      <td>0.496398</td>\n      <td>1</td>\n      <td>Agriculture</td>\n      <td>42.902</td>\n      <td>21.724</td>\n      <td>74.26</td>\n      <td>-0.09</td>\n    </tr>\n    <tr>\n      <th>1</th>\n      <td>Faridkot</td>\n      <td>0.496398</td>\n      <td>1</td>\n      <td>Agriculture</td>\n      <td>45.352</td>\n      <td>23.562</td>\n      <td>39.16</td>\n      <td>0.83</td>\n    </tr>\n    <tr>\n      <th>2</th>\n      <td>Faridkot</td>\n      <td>0.496398</td>\n      <td>1</td>\n      <td>Agriculture</td>\n      <td>41.710</td>\n      <td>22.326</td>\n      <td>120.64</td>\n      <td>-1.48</td>\n    </tr>\n    <tr>\n      <th>3</th>\n      <td>Faridkot</td>\n      <td>0.496398</td>\n      <td>1</td>\n      <td>Agriculture</td>\n      <td>43.788</td>\n      <td>22.494</td>\n      <td>79.64</td>\n      <td>0.30</td>\n    </tr>\n    <tr>\n      <th>4</th>\n      <td>Faridkot</td>\n      <td>0.496398</td>\n      <td>1</td>\n      <td>Agriculture</td>\n      <td>42.016</td>\n      <td>22.742</td>\n      <td>105.90</td>\n      <td>-0.80</td>\n    </tr>\n    <tr>\n      <th>...</th>\n      <td>...</td>\n      <td>...</td>\n      <td>...</td>\n      <td>...</td>\n      <td>...</td>\n      <td>...</td>\n      <td>...</td>\n      <td>...</td>\n    </tr>\n    <tr>\n      <th>29</th>\n      <td>Shahid Bhagat Singh Nagar</td>\n      <td>2.827676</td>\n      <td>5</td>\n      <td>Builtup</td>\n      <td>41.738</td>\n      <td>21.140</td>\n      <td>216.40</td>\n      <td>0.50</td>\n    </tr>\n    <tr>\n      <th>30</th>\n      <td>Shahid Bhagat Singh Nagar</td>\n      <td>2.827676</td>\n      <td>5</td>\n      <td>Builtup</td>\n      <td>42.502</td>\n      <td>22.722</td>\n      <td>210.86</td>\n      <td>0.30</td>\n    </tr>\n    <tr>\n      <th>31</th>\n      <td>Shahid Bhagat Singh Nagar</td>\n      <td>2.827676</td>\n      <td>5</td>\n      <td>Builtup</td>\n      <td>42.956</td>\n      <td>21.792</td>\n      <td>233.44</td>\n      <td>0.65</td>\n    </tr>\n    <tr>\n      <th>32</th>\n      <td>Shahid Bhagat Singh Nagar</td>\n      <td>2.827676</td>\n      <td>5</td>\n      <td>Builtup</td>\n      <td>42.238</td>\n      <td>22.246</td>\n      <td>246.28</td>\n      <td>0.10</td>\n    </tr>\n    <tr>\n      <th>33</th>\n      <td>Shahid Bhagat Singh Nagar</td>\n      <td>2.827676</td>\n      <td>5</td>\n      <td>Builtup</td>\n      <td>43.000</td>\n      <td>22.532</td>\n      <td>203.82</td>\n      <td>-1.00</td>\n    </tr>\n  </tbody>\n</table>\n<p>2210 rows × 8 columns</p>\n</div>"
     },
     "execution_count": 4,
     "metadata": {},
     "output_type": "execute_result"
    }
   ],
   "source": [
    "df2"
   ],
   "metadata": {
    "collapsed": false
   }
  },
  {
   "cell_type": "code",
   "execution_count": 5,
   "outputs": [],
   "source": [
    "X = df2.drop('Groundwater Recharge', axis=1)\n",
    "y = df2['Groundwater Recharge']"
   ],
   "metadata": {
    "collapsed": false
   }
  },
  {
   "cell_type": "code",
   "execution_count": 6,
   "outputs": [],
   "source": [
    "X = pd.get_dummies(X)"
   ],
   "metadata": {
    "collapsed": false
   }
  },
  {
   "cell_type": "code",
   "execution_count": 7,
   "outputs": [],
   "source": [
    "scaler = MinMaxScaler()\n",
    "X = scaler.fit_transform(X)"
   ],
   "metadata": {
    "collapsed": false
   }
  },
  {
   "cell_type": "code",
   "execution_count": 8,
   "outputs": [],
   "source": [
    "from sklearn.model_selection import train_test_split\n",
    "\n",
    "train_data, test_data, train_labels, test_labels = train_test_split(X, y, test_size=0.2, random_state=42)"
   ],
   "metadata": {
    "collapsed": false
   }
  },
  {
   "cell_type": "code",
   "execution_count": 9,
   "outputs": [],
   "source": [
    "scaler = MinMaxScaler()\n",
    "# train_data = scaler.fit_transform(train_data)\n",
    "# test_data =scaler.fit_transform(test_data)"
   ],
   "metadata": {
    "collapsed": false
   }
  },
  {
   "cell_type": "markdown",
   "source": [
    "`PCA`"
   ],
   "metadata": {
    "collapsed": false
   }
  },
  {
   "cell_type": "code",
   "execution_count": 10,
   "outputs": [],
   "source": [
    "from sklearn.decomposition import PCA"
   ],
   "metadata": {
    "collapsed": false
   }
  },
  {
   "cell_type": "code",
   "execution_count": 11,
   "outputs": [],
   "source": [
    "pca = PCA(n_components=10)\n",
    "X_train_pca = pca.fit_transform(train_data)\n",
    "X_test_pca = pca.fit_transform(test_data)"
   ],
   "metadata": {
    "collapsed": false
   }
  },
  {
   "cell_type": "code",
   "execution_count": 12,
   "outputs": [],
   "source": [
    "from sklearn.ensemble import RandomForestRegressor\n",
    "from sklearn.ensemble import GradientBoostingRegressor\n",
    "from sklearn import svm\n",
    "from sklearn.tree import DecisionTreeRegressor\n",
    "from sklearn.metrics import r2_score, mean_squared_error, mean_absolute_error\n",
    "import math\n",
    "from sklearn.tree import DecisionTreeRegressor\n",
    "from sklearn.linear_model import LinearRegression"
   ],
   "metadata": {
    "collapsed": false
   }
  },
  {
   "cell_type": "code",
   "execution_count": 13,
   "outputs": [],
   "source": [
    "d = {}"
   ],
   "metadata": {
    "collapsed": false
   }
  },
  {
   "cell_type": "code",
   "execution_count": 14,
   "outputs": [],
   "source": [
    "def get_model_results(model, n, d):\n",
    "    model.fit(X_train_pca, train_labels)\n",
    "    y_pred = model.predict(X_test_pca)\n",
    "    y_pred_train = model.predict(X_train_pca)\n",
    "    r2 = r2_score(test_labels, y_pred)\n",
    "    ms = mean_squared_error(test_labels, y_pred)\n",
    "    print(f'R2_score: {r2} RMSE: {math.sqrt(ms)}')\n",
    "\n",
    "    train_score = mean_squared_error(train_labels, y_pred_train)\n",
    "    test_score = mean_squared_error(test_labels, y_pred)\n",
    "    r2_s = r2_score(test_labels, y_pred)\n",
    "    mae_test = mean_absolute_error(test_labels, y_pred)\n",
    "    mae_train = mean_absolute_error(train_labels, y_pred_train)\n",
    "\n",
    "    d[n] = (train_score, test_score, r2_s, mae_train, mae_test)"
   ],
   "metadata": {
    "collapsed": false
   }
  },
  {
   "cell_type": "code",
   "execution_count": 15,
   "outputs": [
    {
     "name": "stdout",
     "output_type": "stream",
     "text": [
      "R2_score: 0.018026726922892977 RMSE: 2.2970722784107087\n"
     ]
    }
   ],
   "source": [
    "model = LinearRegression()\n",
    "get_model_results(model, 'Linear Regression', d)"
   ],
   "metadata": {
    "collapsed": false
   }
  },
  {
   "cell_type": "code",
   "execution_count": 17,
   "outputs": [
    {
     "data": {
      "text/plain": "{'Linear Regression': (3.7093451931294186,\n  5.276517794035717,\n  0.01803105531485838,\n  1.0599373228827165,\n  1.2703383763309635)}"
     },
     "execution_count": 17,
     "metadata": {},
     "output_type": "execute_result"
    }
   ],
   "source": [
    "d"
   ],
   "metadata": {
    "collapsed": false
   }
  },
  {
   "cell_type": "code",
   "execution_count": 18,
   "outputs": [
    {
     "name": "stdout",
     "output_type": "stream",
     "text": [
      "R2_score: -0.2133007572590193 RMSE: 2.5533424247026595\n"
     ]
    }
   ],
   "source": [
    "model = RandomForestRegressor(max_depth=12)\n",
    "get_model_results(model, 'Random Forest', d)"
   ],
   "metadata": {
    "collapsed": false
   }
  },
  {
   "cell_type": "code",
   "execution_count": 115,
   "outputs": [
    {
     "data": {
      "text/plain": "{'Linear Regression': (3.4835870220721583,\n  5.367305802168324,\n  0.0011352524357677307,\n  1.0383647847534805,\n  1.3150781755518004),\n 'Random Forest': (0.6223010158345319,\n  5.714927758175672,\n  -0.06355778539986101,\n  0.5512811627612845,\n  1.338251897168827)}"
     },
     "execution_count": 115,
     "metadata": {},
     "output_type": "execute_result"
    }
   ],
   "source": [
    "d"
   ],
   "metadata": {
    "collapsed": false
   }
  },
  {
   "cell_type": "code",
   "execution_count": null,
   "outputs": [],
   "source": [],
   "metadata": {
    "collapsed": false
   }
  }
 ],
 "metadata": {
  "kernelspec": {
   "display_name": "Python 3",
   "language": "python",
   "name": "python3"
  },
  "language_info": {
   "codemirror_mode": {
    "name": "ipython",
    "version": 2
   },
   "file_extension": ".py",
   "mimetype": "text/x-python",
   "name": "python",
   "nbconvert_exporter": "python",
   "pygments_lexer": "ipython2",
   "version": "2.7.6"
  }
 },
 "nbformat": 4,
 "nbformat_minor": 0
}
