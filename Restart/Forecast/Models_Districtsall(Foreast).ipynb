{
 "cells": [
  {
   "cell_type": "code",
   "execution_count": 1,
   "metadata": {
    "collapsed": true
   },
   "outputs": [],
   "source": [
    "import numpy as np\n",
    "import pandas as pd\n",
    "from sklearn.preprocessing import MinMaxScaler\n",
    "from sklearn.model_selection import StratifiedKFold\n",
    "\n"
   ]
  },
  {
   "cell_type": "code",
   "execution_count": 2,
   "outputs": [],
   "source": [
    "df2 = pd.DataFrame()\n",
    "n = [3, 4, 5, 12, 13, 14, 23, 24, 25, 44]\n",
    "for i in range(1, 76):\n",
    "    if i not in n:\n",
    "        df = pd.read_excel(\"B:\\GroundwaterRech\\GithubRepo\\Restart\\Dataset\\District Wise\\\\\" + str(i) + \".xlsx\")\n",
    "        df1 = df.drop(['Year', 'Longitude', 'Latitude'], axis=1)\n",
    "        df2 = pd.concat([df2, df1])"
   ],
   "metadata": {
    "collapsed": false
   }
  },
  {
   "cell_type": "code",
   "execution_count": 3,
   "outputs": [
    {
     "data": {
      "text/plain": "                     District     Slope           Soil Type         LULC  \\\n0                    Faridkot  0.496398             Builtup  Agriculture   \n1                    Faridkot  0.496398             Builtup  Agriculture   \n2                    Faridkot  0.496398             Builtup  Agriculture   \n3                    Faridkot  0.496398             Builtup  Agriculture   \n4                    Faridkot  0.496398             Builtup  Agriculture   \n..                        ...       ...                 ...          ...   \n29  Shahid Bhagat Singh Nagar  2.827676  Calcaric Fluvisols      Builtup   \n30  Shahid Bhagat Singh Nagar  2.827676  Calcaric Fluvisols      Builtup   \n31  Shahid Bhagat Singh Nagar  2.827676  Calcaric Fluvisols      Builtup   \n32  Shahid Bhagat Singh Nagar  2.827676  Calcaric Fluvisols      Builtup   \n33  Shahid Bhagat Singh Nagar  2.827676  Calcaric Fluvisols      Builtup   \n\n    Max Temperature  Min Temperature  Precipitation  Groundwater Recharge  \n0            42.902           21.724          74.26                 -0.09  \n1            45.352           23.562          39.16                  0.83  \n2            41.710           22.326         120.64                 -1.48  \n3            43.788           22.494          79.64                  0.30  \n4            42.016           22.742         105.90                 -0.80  \n..              ...              ...            ...                   ...  \n29           41.738           21.140         216.40                  0.50  \n30           42.502           22.722         210.86                  0.30  \n31           42.956           21.792         233.44                  0.65  \n32           42.238           22.246         246.28                  0.10  \n33           43.000           22.532         203.82                 -1.00  \n\n[2210 rows x 8 columns]",
      "text/html": "<div>\n<style scoped>\n    .dataframe tbody tr th:only-of-type {\n        vertical-align: middle;\n    }\n\n    .dataframe tbody tr th {\n        vertical-align: top;\n    }\n\n    .dataframe thead th {\n        text-align: right;\n    }\n</style>\n<table border=\"1\" class=\"dataframe\">\n  <thead>\n    <tr style=\"text-align: right;\">\n      <th></th>\n      <th>District</th>\n      <th>Slope</th>\n      <th>Soil Type</th>\n      <th>LULC</th>\n      <th>Max Temperature</th>\n      <th>Min Temperature</th>\n      <th>Precipitation</th>\n      <th>Groundwater Recharge</th>\n    </tr>\n  </thead>\n  <tbody>\n    <tr>\n      <th>0</th>\n      <td>Faridkot</td>\n      <td>0.496398</td>\n      <td>Builtup</td>\n      <td>Agriculture</td>\n      <td>42.902</td>\n      <td>21.724</td>\n      <td>74.26</td>\n      <td>-0.09</td>\n    </tr>\n    <tr>\n      <th>1</th>\n      <td>Faridkot</td>\n      <td>0.496398</td>\n      <td>Builtup</td>\n      <td>Agriculture</td>\n      <td>45.352</td>\n      <td>23.562</td>\n      <td>39.16</td>\n      <td>0.83</td>\n    </tr>\n    <tr>\n      <th>2</th>\n      <td>Faridkot</td>\n      <td>0.496398</td>\n      <td>Builtup</td>\n      <td>Agriculture</td>\n      <td>41.710</td>\n      <td>22.326</td>\n      <td>120.64</td>\n      <td>-1.48</td>\n    </tr>\n    <tr>\n      <th>3</th>\n      <td>Faridkot</td>\n      <td>0.496398</td>\n      <td>Builtup</td>\n      <td>Agriculture</td>\n      <td>43.788</td>\n      <td>22.494</td>\n      <td>79.64</td>\n      <td>0.30</td>\n    </tr>\n    <tr>\n      <th>4</th>\n      <td>Faridkot</td>\n      <td>0.496398</td>\n      <td>Builtup</td>\n      <td>Agriculture</td>\n      <td>42.016</td>\n      <td>22.742</td>\n      <td>105.90</td>\n      <td>-0.80</td>\n    </tr>\n    <tr>\n      <th>...</th>\n      <td>...</td>\n      <td>...</td>\n      <td>...</td>\n      <td>...</td>\n      <td>...</td>\n      <td>...</td>\n      <td>...</td>\n      <td>...</td>\n    </tr>\n    <tr>\n      <th>29</th>\n      <td>Shahid Bhagat Singh Nagar</td>\n      <td>2.827676</td>\n      <td>Calcaric Fluvisols</td>\n      <td>Builtup</td>\n      <td>41.738</td>\n      <td>21.140</td>\n      <td>216.40</td>\n      <td>0.50</td>\n    </tr>\n    <tr>\n      <th>30</th>\n      <td>Shahid Bhagat Singh Nagar</td>\n      <td>2.827676</td>\n      <td>Calcaric Fluvisols</td>\n      <td>Builtup</td>\n      <td>42.502</td>\n      <td>22.722</td>\n      <td>210.86</td>\n      <td>0.30</td>\n    </tr>\n    <tr>\n      <th>31</th>\n      <td>Shahid Bhagat Singh Nagar</td>\n      <td>2.827676</td>\n      <td>Calcaric Fluvisols</td>\n      <td>Builtup</td>\n      <td>42.956</td>\n      <td>21.792</td>\n      <td>233.44</td>\n      <td>0.65</td>\n    </tr>\n    <tr>\n      <th>32</th>\n      <td>Shahid Bhagat Singh Nagar</td>\n      <td>2.827676</td>\n      <td>Calcaric Fluvisols</td>\n      <td>Builtup</td>\n      <td>42.238</td>\n      <td>22.246</td>\n      <td>246.28</td>\n      <td>0.10</td>\n    </tr>\n    <tr>\n      <th>33</th>\n      <td>Shahid Bhagat Singh Nagar</td>\n      <td>2.827676</td>\n      <td>Calcaric Fluvisols</td>\n      <td>Builtup</td>\n      <td>43.000</td>\n      <td>22.532</td>\n      <td>203.82</td>\n      <td>-1.00</td>\n    </tr>\n  </tbody>\n</table>\n<p>2210 rows × 8 columns</p>\n</div>"
     },
     "execution_count": 3,
     "metadata": {},
     "output_type": "execute_result"
    }
   ],
   "source": [
    "df2"
   ],
   "metadata": {
    "collapsed": false
   }
  },
  {
   "cell_type": "code",
   "execution_count": 23,
   "outputs": [],
   "source": [
    "df2=df2.reset_index()"
   ],
   "metadata": {
    "collapsed": false
   }
  },
  {
   "cell_type": "code",
   "execution_count": 26,
   "outputs": [],
   "source": [
    "df2.drop('index',inplace=True,axis=1)"
   ],
   "metadata": {
    "collapsed": false
   }
  },
  {
   "cell_type": "code",
   "execution_count": 27,
   "outputs": [
    {
     "data": {
      "text/plain": "                       District     Slope  Soil Type         LULC  \\\n0                      Faridkot  0.496398          1  Agriculture   \n1                      Faridkot  0.496398          1  Agriculture   \n2                      Faridkot  0.496398          1  Agriculture   \n3                      Faridkot  0.496398          1  Agriculture   \n4                      Faridkot  0.496398          1  Agriculture   \n...                         ...       ...        ...          ...   \n2205  Shahid Bhagat Singh Nagar  2.827676          5      Builtup   \n2206  Shahid Bhagat Singh Nagar  2.827676          5      Builtup   \n2207  Shahid Bhagat Singh Nagar  2.827676          5      Builtup   \n2208  Shahid Bhagat Singh Nagar  2.827676          5      Builtup   \n2209  Shahid Bhagat Singh Nagar  2.827676          5      Builtup   \n\n      Max Temperature  Min Temperature  Precipitation  Groundwater Recharge  \n0              42.902           21.724          74.26                 -0.09  \n1              45.352           23.562          39.16                  0.83  \n2              41.710           22.326         120.64                 -1.48  \n3              43.788           22.494          79.64                  0.30  \n4              42.016           22.742         105.90                 -0.80  \n...               ...              ...            ...                   ...  \n2205           41.738           21.140         216.40                  0.50  \n2206           42.502           22.722         210.86                  0.30  \n2207           42.956           21.792         233.44                  0.65  \n2208           42.238           22.246         246.28                  0.10  \n2209           43.000           22.532         203.82                 -1.00  \n\n[2210 rows x 8 columns]",
      "text/html": "<div>\n<style scoped>\n    .dataframe tbody tr th:only-of-type {\n        vertical-align: middle;\n    }\n\n    .dataframe tbody tr th {\n        vertical-align: top;\n    }\n\n    .dataframe thead th {\n        text-align: right;\n    }\n</style>\n<table border=\"1\" class=\"dataframe\">\n  <thead>\n    <tr style=\"text-align: right;\">\n      <th></th>\n      <th>District</th>\n      <th>Slope</th>\n      <th>Soil Type</th>\n      <th>LULC</th>\n      <th>Max Temperature</th>\n      <th>Min Temperature</th>\n      <th>Precipitation</th>\n      <th>Groundwater Recharge</th>\n    </tr>\n  </thead>\n  <tbody>\n    <tr>\n      <th>0</th>\n      <td>Faridkot</td>\n      <td>0.496398</td>\n      <td>1</td>\n      <td>Agriculture</td>\n      <td>42.902</td>\n      <td>21.724</td>\n      <td>74.26</td>\n      <td>-0.09</td>\n    </tr>\n    <tr>\n      <th>1</th>\n      <td>Faridkot</td>\n      <td>0.496398</td>\n      <td>1</td>\n      <td>Agriculture</td>\n      <td>45.352</td>\n      <td>23.562</td>\n      <td>39.16</td>\n      <td>0.83</td>\n    </tr>\n    <tr>\n      <th>2</th>\n      <td>Faridkot</td>\n      <td>0.496398</td>\n      <td>1</td>\n      <td>Agriculture</td>\n      <td>41.710</td>\n      <td>22.326</td>\n      <td>120.64</td>\n      <td>-1.48</td>\n    </tr>\n    <tr>\n      <th>3</th>\n      <td>Faridkot</td>\n      <td>0.496398</td>\n      <td>1</td>\n      <td>Agriculture</td>\n      <td>43.788</td>\n      <td>22.494</td>\n      <td>79.64</td>\n      <td>0.30</td>\n    </tr>\n    <tr>\n      <th>4</th>\n      <td>Faridkot</td>\n      <td>0.496398</td>\n      <td>1</td>\n      <td>Agriculture</td>\n      <td>42.016</td>\n      <td>22.742</td>\n      <td>105.90</td>\n      <td>-0.80</td>\n    </tr>\n    <tr>\n      <th>...</th>\n      <td>...</td>\n      <td>...</td>\n      <td>...</td>\n      <td>...</td>\n      <td>...</td>\n      <td>...</td>\n      <td>...</td>\n      <td>...</td>\n    </tr>\n    <tr>\n      <th>2205</th>\n      <td>Shahid Bhagat Singh Nagar</td>\n      <td>2.827676</td>\n      <td>5</td>\n      <td>Builtup</td>\n      <td>41.738</td>\n      <td>21.140</td>\n      <td>216.40</td>\n      <td>0.50</td>\n    </tr>\n    <tr>\n      <th>2206</th>\n      <td>Shahid Bhagat Singh Nagar</td>\n      <td>2.827676</td>\n      <td>5</td>\n      <td>Builtup</td>\n      <td>42.502</td>\n      <td>22.722</td>\n      <td>210.86</td>\n      <td>0.30</td>\n    </tr>\n    <tr>\n      <th>2207</th>\n      <td>Shahid Bhagat Singh Nagar</td>\n      <td>2.827676</td>\n      <td>5</td>\n      <td>Builtup</td>\n      <td>42.956</td>\n      <td>21.792</td>\n      <td>233.44</td>\n      <td>0.65</td>\n    </tr>\n    <tr>\n      <th>2208</th>\n      <td>Shahid Bhagat Singh Nagar</td>\n      <td>2.827676</td>\n      <td>5</td>\n      <td>Builtup</td>\n      <td>42.238</td>\n      <td>22.246</td>\n      <td>246.28</td>\n      <td>0.10</td>\n    </tr>\n    <tr>\n      <th>2209</th>\n      <td>Shahid Bhagat Singh Nagar</td>\n      <td>2.827676</td>\n      <td>5</td>\n      <td>Builtup</td>\n      <td>43.000</td>\n      <td>22.532</td>\n      <td>203.82</td>\n      <td>-1.00</td>\n    </tr>\n  </tbody>\n</table>\n<p>2210 rows × 8 columns</p>\n</div>"
     },
     "execution_count": 27,
     "metadata": {},
     "output_type": "execute_result"
    }
   ],
   "source": [
    "df2"
   ],
   "metadata": {
    "collapsed": false
   }
  },
  {
   "cell_type": "code",
   "execution_count": 41,
   "outputs": [],
   "source": [
    "df2.to_excel('Main.xlsx')"
   ],
   "metadata": {
    "collapsed": false
   }
  },
  {
   "cell_type": "code",
   "execution_count": 28,
   "outputs": [
    {
     "data": {
      "text/plain": "array([1, 3, 4, 2, 5], dtype=int64)"
     },
     "execution_count": 28,
     "metadata": {},
     "output_type": "execute_result"
    }
   ],
   "source": [
    "df2['Soil Type'].unique()"
   ],
   "metadata": {
    "collapsed": false
   }
  },
  {
   "cell_type": "code",
   "execution_count": 29,
   "outputs": [],
   "source": [
    "df2['Soil Type'] = df2['Soil Type'].replace('Builtup', 1)\n",
    "df2['Soil Type'] = df2['Soil Type'].replace('Bulitup', 1)\n",
    "\n",
    "df2['Soil Type'] = df2['Soil Type'].replace('Haplic Luvisols', 2)\n",
    "df2['Soil Type'] = df2['Soil Type'].replace('Haplic Calcisols', 3)\n",
    "df2['Soil Type'] = df2['Soil Type'].replace('Loam', 4)\n",
    "df2['Soil Type'] = df2['Soil Type'].replace('Calcaric Fluvisols', 5)\n"
   ],
   "metadata": {
    "collapsed": false
   }
  },
  {
   "cell_type": "code",
   "execution_count": 30,
   "outputs": [
    {
     "data": {
      "text/plain": "                       District     Slope  Soil Type         LULC  \\\n0                      Faridkot  0.496398          1  Agriculture   \n1                      Faridkot  0.496398          1  Agriculture   \n2                      Faridkot  0.496398          1  Agriculture   \n3                      Faridkot  0.496398          1  Agriculture   \n4                      Faridkot  0.496398          1  Agriculture   \n...                         ...       ...        ...          ...   \n2205  Shahid Bhagat Singh Nagar  2.827676          5      Builtup   \n2206  Shahid Bhagat Singh Nagar  2.827676          5      Builtup   \n2207  Shahid Bhagat Singh Nagar  2.827676          5      Builtup   \n2208  Shahid Bhagat Singh Nagar  2.827676          5      Builtup   \n2209  Shahid Bhagat Singh Nagar  2.827676          5      Builtup   \n\n      Max Temperature  Min Temperature  Precipitation  Groundwater Recharge  \n0              42.902           21.724          74.26                 -0.09  \n1              45.352           23.562          39.16                  0.83  \n2              41.710           22.326         120.64                 -1.48  \n3              43.788           22.494          79.64                  0.30  \n4              42.016           22.742         105.90                 -0.80  \n...               ...              ...            ...                   ...  \n2205           41.738           21.140         216.40                  0.50  \n2206           42.502           22.722         210.86                  0.30  \n2207           42.956           21.792         233.44                  0.65  \n2208           42.238           22.246         246.28                  0.10  \n2209           43.000           22.532         203.82                 -1.00  \n\n[2210 rows x 8 columns]",
      "text/html": "<div>\n<style scoped>\n    .dataframe tbody tr th:only-of-type {\n        vertical-align: middle;\n    }\n\n    .dataframe tbody tr th {\n        vertical-align: top;\n    }\n\n    .dataframe thead th {\n        text-align: right;\n    }\n</style>\n<table border=\"1\" class=\"dataframe\">\n  <thead>\n    <tr style=\"text-align: right;\">\n      <th></th>\n      <th>District</th>\n      <th>Slope</th>\n      <th>Soil Type</th>\n      <th>LULC</th>\n      <th>Max Temperature</th>\n      <th>Min Temperature</th>\n      <th>Precipitation</th>\n      <th>Groundwater Recharge</th>\n    </tr>\n  </thead>\n  <tbody>\n    <tr>\n      <th>0</th>\n      <td>Faridkot</td>\n      <td>0.496398</td>\n      <td>1</td>\n      <td>Agriculture</td>\n      <td>42.902</td>\n      <td>21.724</td>\n      <td>74.26</td>\n      <td>-0.09</td>\n    </tr>\n    <tr>\n      <th>1</th>\n      <td>Faridkot</td>\n      <td>0.496398</td>\n      <td>1</td>\n      <td>Agriculture</td>\n      <td>45.352</td>\n      <td>23.562</td>\n      <td>39.16</td>\n      <td>0.83</td>\n    </tr>\n    <tr>\n      <th>2</th>\n      <td>Faridkot</td>\n      <td>0.496398</td>\n      <td>1</td>\n      <td>Agriculture</td>\n      <td>41.710</td>\n      <td>22.326</td>\n      <td>120.64</td>\n      <td>-1.48</td>\n    </tr>\n    <tr>\n      <th>3</th>\n      <td>Faridkot</td>\n      <td>0.496398</td>\n      <td>1</td>\n      <td>Agriculture</td>\n      <td>43.788</td>\n      <td>22.494</td>\n      <td>79.64</td>\n      <td>0.30</td>\n    </tr>\n    <tr>\n      <th>4</th>\n      <td>Faridkot</td>\n      <td>0.496398</td>\n      <td>1</td>\n      <td>Agriculture</td>\n      <td>42.016</td>\n      <td>22.742</td>\n      <td>105.90</td>\n      <td>-0.80</td>\n    </tr>\n    <tr>\n      <th>...</th>\n      <td>...</td>\n      <td>...</td>\n      <td>...</td>\n      <td>...</td>\n      <td>...</td>\n      <td>...</td>\n      <td>...</td>\n      <td>...</td>\n    </tr>\n    <tr>\n      <th>2205</th>\n      <td>Shahid Bhagat Singh Nagar</td>\n      <td>2.827676</td>\n      <td>5</td>\n      <td>Builtup</td>\n      <td>41.738</td>\n      <td>21.140</td>\n      <td>216.40</td>\n      <td>0.50</td>\n    </tr>\n    <tr>\n      <th>2206</th>\n      <td>Shahid Bhagat Singh Nagar</td>\n      <td>2.827676</td>\n      <td>5</td>\n      <td>Builtup</td>\n      <td>42.502</td>\n      <td>22.722</td>\n      <td>210.86</td>\n      <td>0.30</td>\n    </tr>\n    <tr>\n      <th>2207</th>\n      <td>Shahid Bhagat Singh Nagar</td>\n      <td>2.827676</td>\n      <td>5</td>\n      <td>Builtup</td>\n      <td>42.956</td>\n      <td>21.792</td>\n      <td>233.44</td>\n      <td>0.65</td>\n    </tr>\n    <tr>\n      <th>2208</th>\n      <td>Shahid Bhagat Singh Nagar</td>\n      <td>2.827676</td>\n      <td>5</td>\n      <td>Builtup</td>\n      <td>42.238</td>\n      <td>22.246</td>\n      <td>246.28</td>\n      <td>0.10</td>\n    </tr>\n    <tr>\n      <th>2209</th>\n      <td>Shahid Bhagat Singh Nagar</td>\n      <td>2.827676</td>\n      <td>5</td>\n      <td>Builtup</td>\n      <td>43.000</td>\n      <td>22.532</td>\n      <td>203.82</td>\n      <td>-1.00</td>\n    </tr>\n  </tbody>\n</table>\n<p>2210 rows × 8 columns</p>\n</div>"
     },
     "execution_count": 30,
     "metadata": {},
     "output_type": "execute_result"
    }
   ],
   "source": [
    "df2"
   ],
   "metadata": {
    "collapsed": false
   }
  },
  {
   "cell_type": "code",
   "execution_count": 31,
   "outputs": [],
   "source": [
    "X = df2.drop('Groundwater Recharge', axis=1)\n",
    "y = df2['Groundwater Recharge']"
   ],
   "metadata": {
    "collapsed": false
   }
  },
  {
   "cell_type": "code",
   "execution_count": 32,
   "outputs": [],
   "source": [
    "X = pd.get_dummies(X)"
   ],
   "metadata": {
    "collapsed": false
   }
  },
  {
   "cell_type": "code",
   "execution_count": 33,
   "outputs": [],
   "source": [
    "scaler = MinMaxScaler()\n",
    "X = scaler.fit_transform(X)"
   ],
   "metadata": {
    "collapsed": false
   }
  },
  {
   "cell_type": "code",
   "execution_count": 34,
   "outputs": [],
   "source": [
    "from sklearn.model_selection import train_test_split\n",
    "\n",
    "train_data, test_data, train_labels, test_labels = train_test_split(X, y, test_size=0.2, random_state=42)"
   ],
   "metadata": {
    "collapsed": false
   }
  },
  {
   "cell_type": "code",
   "execution_count": 35,
   "outputs": [],
   "source": [
    "stratified_split_cv = StratifiedKFold(n_splits=10, shuffle=True, random_state=65)\n"
   ],
   "metadata": {
    "collapsed": false
   }
  },
  {
   "cell_type": "code",
   "execution_count": 36,
   "outputs": [],
   "source": [
    "from sklearn.ensemble import RandomForestRegressor\n",
    "from sklearn.ensemble import GradientBoostingRegressor\n",
    "from sklearn import svm\n",
    "from sklearn.tree import DecisionTreeRegressor\n",
    "from sklearn.metrics import r2_score, mean_squared_error, mean_absolute_error\n",
    "import math\n",
    "from sklearn.tree import DecisionTreeRegressor\n",
    "from sklearn.linear_model import LinearRegression"
   ],
   "metadata": {
    "collapsed": false
   }
  },
  {
   "cell_type": "code",
   "execution_count": 37,
   "outputs": [],
   "source": [
    "d = {}"
   ],
   "metadata": {
    "collapsed": false
   }
  },
  {
   "cell_type": "code",
   "execution_count": 38,
   "outputs": [
    {
     "name": "stdout",
     "output_type": "stream",
     "text": [
      "0.8418906826815371 0.9217296514084883\n"
     ]
    }
   ],
   "source": [
    "rfr = RandomForestRegressor(max_depth=12)\n",
    "rfr.fit(train_data, train_labels)\n",
    "y_pred = rfr.predict(test_data)\n",
    "y_pred_train = rfr.predict(train_data)\n",
    "r2 = r2_score(test_labels, y_pred)\n",
    "ms = mean_squared_error(test_labels, y_pred)\n",
    "print(r2, math.sqrt(ms))\n",
    "\n",
    "train_score = mean_squared_error(train_labels, y_pred_train)\n",
    "test_score = mean_squared_error(test_labels, y_pred)\n",
    "r2_s = r2_score(test_labels, y_pred)\n",
    "mae_test = mean_absolute_error(test_labels, y_pred)\n",
    "mae_train = mean_absolute_error(train_labels, y_pred_train)\n",
    "\n",
    "d['Random Forest Regressor'] = (train_score, test_score, r2_s, mae_train, mae_test)"
   ],
   "metadata": {
    "collapsed": false
   }
  },
  {
   "cell_type": "code",
   "execution_count": 42,
   "outputs": [],
   "source": [
    "train_labels.to_excel('train_labels.xlsx')"
   ],
   "metadata": {
    "collapsed": false
   }
  },
  {
   "cell_type": "code",
   "execution_count": 43,
   "outputs": [],
   "source": [
    "test_labels.to_excel('test_labels.xlsx')"
   ],
   "metadata": {
    "collapsed": false
   }
  },
  {
   "cell_type": "code",
   "execution_count": 44,
   "outputs": [],
   "source": [
    "df3=pd.DataFrame()\n",
    "df3['Pred']=y_pred\n",
    "df3.to_excel('y_pred.xlsx')"
   ],
   "metadata": {
    "collapsed": false
   }
  },
  {
   "cell_type": "code",
   "execution_count": 45,
   "outputs": [],
   "source": [
    "df3=pd.DataFrame()\n",
    "df3['Pred']=y_pred_train\n",
    "df3.to_excel('y_pred_train.xlsx')"
   ],
   "metadata": {
    "collapsed": false
   }
  },
  {
   "cell_type": "code",
   "execution_count": 15,
   "outputs": [
    {
     "data": {
      "text/plain": "{'Random Forest Regressor': (0.2864540891318789,\n  0.7715436569966795,\n  0.8564144118880961,\n  0.3458786982586645,\n  0.5532061271722204)}"
     },
     "execution_count": 15,
     "metadata": {},
     "output_type": "execute_result"
    }
   ],
   "source": [
    "d"
   ],
   "metadata": {
    "collapsed": false
   }
  },
  {
   "cell_type": "code",
   "execution_count": 17,
   "outputs": [
    {
     "data": {
      "text/plain": "0.9344682284084048"
     },
     "execution_count": 17,
     "metadata": {},
     "output_type": "execute_result"
    }
   ],
   "source": [
    "r2_score(train_labels,y_pred_train)"
   ],
   "metadata": {
    "collapsed": false
   }
  },
  {
   "cell_type": "code",
   "execution_count": null,
   "outputs": [],
   "source": [],
   "metadata": {
    "collapsed": false
   }
  },
  {
   "cell_type": "code",
   "execution_count": 88,
   "outputs": [
    {
     "name": "stdout",
     "output_type": "stream",
     "text": [
      "0.7917514032896088 1.0578299739191388\n"
     ]
    }
   ],
   "source": [
    "dtr = DecisionTreeRegressor(max_depth=10)\n",
    "dtr.fit(train_data, train_labels)\n",
    "y_pred = dtr.predict(test_data)\n",
    "y_pred_train = dtr.predict(train_data)\n",
    "r2 = r2_score(test_labels, y_pred)\n",
    "ms = mean_squared_error(test_labels, y_pred)\n",
    "print(r2, math.sqrt(ms))\n",
    "\n",
    "train_score = mean_squared_error(train_labels, y_pred_train)\n",
    "test_score = mean_squared_error(test_labels, y_pred)\n",
    "r2_s = r2_score(test_labels, y_pred)\n",
    "mae_test = mean_absolute_error(test_labels, y_pred)\n",
    "mae_train = mean_absolute_error(train_labels, y_pred_train)\n",
    "\n",
    "d['Decision Tree Regressor'] = (train_score, test_score, r2_s, mae_train, mae_test)"
   ],
   "metadata": {
    "collapsed": false
   }
  },
  {
   "cell_type": "code",
   "execution_count": 89,
   "outputs": [
    {
     "data": {
      "text/plain": "{'Random Forest Regressor': (0.28503556833243476,\n  0.8455665044438164,\n  0.842638633955078,\n  0.33857542855839684,\n  0.5397450633380714),\n 'Decision Tree Regressor': (0.49193018485830436,\n  1.119004253721766,\n  0.7917514032896088,\n  0.413043607151444,\n  0.5730584202641397)}"
     },
     "execution_count": 89,
     "metadata": {},
     "output_type": "execute_result"
    }
   ],
   "source": [
    "d"
   ],
   "metadata": {
    "collapsed": false
   }
  },
  {
   "cell_type": "code",
   "execution_count": 90,
   "outputs": [
    {
     "name": "stdout",
     "output_type": "stream",
     "text": [
      "0.8848919574998336 0.7864618511222464\n"
     ]
    }
   ],
   "source": [
    "gbr = GradientBoostingRegressor(max_depth=6, max_features=15)\n",
    "gbr.fit(train_data, train_labels)\n",
    "y_pred = gbr.predict(test_data)\n",
    "y_pred_train = gbr.predict(train_data)\n",
    "r2 = r2_score(test_labels, y_pred)\n",
    "ms = mean_squared_error(test_labels, y_pred)\n",
    "print(r2, math.sqrt(ms))\n",
    "\n",
    "train_score = mean_squared_error(train_labels, y_pred_train)\n",
    "test_score = mean_squared_error(test_labels, y_pred)\n",
    "r2_s = r2_score(test_labels, y_pred)\n",
    "mae_test = mean_absolute_error(test_labels, y_pred)\n",
    "mae_train = mean_absolute_error(train_labels, y_pred_train)\n",
    "\n",
    "d['Gradient Boosting Regressor'] = (train_score, test_score, r2_s, mae_train, mae_test)"
   ],
   "metadata": {
    "collapsed": false
   }
  },
  {
   "cell_type": "code",
   "execution_count": 91,
   "outputs": [
    {
     "data": {
      "text/plain": "{'Random Forest Regressor': (0.28503556833243476,\n  0.8455665044438164,\n  0.842638633955078,\n  0.33857542855839684,\n  0.5397450633380714),\n 'Decision Tree Regressor': (0.49193018485830436,\n  1.119004253721766,\n  0.7917514032896088,\n  0.413043607151444,\n  0.5730584202641397),\n 'Gradient Boosting Regressor': (0.23833959170851443,\n  0.6185222432706304,\n  0.8848919574998336,\n  0.34993739959190623,\n  0.5199387213705249)}"
     },
     "execution_count": 91,
     "metadata": {},
     "output_type": "execute_result"
    }
   ],
   "source": [
    "d"
   ],
   "metadata": {
    "collapsed": false
   }
  },
  {
   "cell_type": "code",
   "execution_count": 92,
   "outputs": [
    {
     "name": "stdout",
     "output_type": "stream",
     "text": [
      "0.1233764921755377 2.1703580336511097\n"
     ]
    }
   ],
   "source": [
    "lr = LinearRegression()\n",
    "lr.fit(train_data, train_labels)\n",
    "y_pred = lr.predict(test_data)\n",
    "y_pred_train = lr.predict(train_data)\n",
    "r2 = r2_score(test_labels, y_pred)\n",
    "ms = mean_squared_error(test_labels, y_pred)\n",
    "print(r2, math.sqrt(ms))\n",
    "\n",
    "train_score = mean_squared_error(train_labels, y_pred_train)\n",
    "test_score = mean_squared_error(test_labels, y_pred)\n",
    "r2_s = r2_score(test_labels, y_pred)\n",
    "mae_test = mean_absolute_error(test_labels, y_pred)\n",
    "mae_train = mean_absolute_error(train_labels, y_pred_train)\n",
    "\n",
    "d['Linear'] = (train_score, test_score, r2_s, mae_train, mae_test)"
   ],
   "metadata": {
    "collapsed": false
   }
  },
  {
   "cell_type": "markdown",
   "source": [
    "`Ridge Regression`"
   ],
   "metadata": {
    "collapsed": false
   }
  },
  {
   "cell_type": "code",
   "execution_count": 93,
   "outputs": [],
   "source": [
    "from sklearn.linear_model import SGDRegressor\n",
    "from sklearn.linear_model import Lasso\n",
    "from sklearn.linear_model import LassoCV\n",
    "from sklearn.linear_model import RidgeCV\n",
    "from sklearn.linear_model import Ridge\n",
    "from sklearn.preprocessing import PolynomialFeatures"
   ],
   "metadata": {
    "collapsed": false
   }
  },
  {
   "cell_type": "code",
   "execution_count": 94,
   "outputs": [
    {
     "name": "stdout",
     "output_type": "stream",
     "text": [
      "0.12328756675117569 2.1704681123297926\n"
     ]
    }
   ],
   "source": [
    "rr = Ridge(alpha=0.01)\n",
    "rr.fit(train_data, train_labels)\n",
    "y_pred = rr.predict(test_data)\n",
    "y_pred_train = rr.predict(train_data)\n",
    "r2 = r2_score(test_labels, y_pred)\n",
    "ms = mean_squared_error(test_labels, y_pred)\n",
    "print(r2, math.sqrt(ms))\n",
    "\n",
    "train_score = mean_squared_error(train_labels, y_pred_train)\n",
    "test_score = mean_squared_error(test_labels, y_pred)\n",
    "r2_s = r2_score(test_labels, y_pred)\n",
    "mae_test = mean_absolute_error(test_labels, y_pred)\n",
    "mae_train = mean_absolute_error(train_labels, y_pred_train)\n",
    "\n",
    "d['Ridge'] = (train_score, test_score, r2_s, mae_train, mae_test)"
   ],
   "metadata": {
    "collapsed": false
   }
  },
  {
   "cell_type": "code",
   "execution_count": 95,
   "outputs": [
    {
     "data": {
      "text/plain": "{'Random Forest Regressor': (0.28503556833243476,\n  0.8455665044438164,\n  0.842638633955078,\n  0.33857542855839684,\n  0.5397450633380714),\n 'Decision Tree Regressor': (0.49193018485830436,\n  1.119004253721766,\n  0.7917514032896088,\n  0.413043607151444,\n  0.5730584202641397),\n 'Gradient Boosting Regressor': (0.23833959170851443,\n  0.6185222432706304,\n  0.8848919574998336,\n  0.34993739959190623,\n  0.5199387213705249),\n 'Linear': (3.492318762833084,\n  4.7104539942339105,\n  0.1233764921755377,\n  1.0419473831927875,\n  1.115506221719457),\n 'Ridge': (3.487458225048613,\n  4.7109318266404525,\n  0.12328756675117569,\n  1.0390007171998517,\n  1.114226442487029)}"
     },
     "execution_count": 95,
     "metadata": {},
     "output_type": "execute_result"
    }
   ],
   "source": [
    "d"
   ],
   "metadata": {
    "collapsed": false
   }
  },
  {
   "cell_type": "markdown",
   "source": [
    "Polynomial Regression"
   ],
   "metadata": {
    "collapsed": false
   }
  },
  {
   "cell_type": "code",
   "execution_count": 96,
   "outputs": [
    {
     "name": "stdout",
     "output_type": "stream",
     "text": [
      "0.14512182852666033 2.143270275529824\n"
     ]
    }
   ],
   "source": [
    "poly = PolynomialFeatures(degree=2)\n",
    "x_train_poly = poly.fit_transform(train_data)\n",
    "x_test_poly = poly.fit_transform(test_data)\n",
    "\n",
    "plr = LinearRegression()\n",
    "plr.fit(x_train_poly, train_labels)\n",
    "y_pred = plr.predict(x_test_poly)\n",
    "y_pred_train = plr.predict(x_train_poly)\n",
    "r2 = r2_score(test_labels, y_pred)\n",
    "ms = mean_squared_error(test_labels, y_pred)\n",
    "print(r2, math.sqrt(ms))\n",
    "\n",
    "train_score = mean_squared_error(train_labels, y_pred_train)\n",
    "test_score = mean_squared_error(test_labels, y_pred)\n",
    "r2_s = r2_score(test_labels, y_pred)\n",
    "mae_test = mean_absolute_error(test_labels, y_pred)\n",
    "mae_train = mean_absolute_error(train_labels, y_pred_train)\n",
    "\n",
    "d['Polynomial Regression'] = (train_score, test_score, r2_s, mae_train, mae_test)"
   ],
   "metadata": {
    "collapsed": false
   }
  },
  {
   "cell_type": "code",
   "execution_count": 97,
   "outputs": [
    {
     "data": {
      "text/plain": "{'Random Forest Regressor': (0.28503556833243476,\n  0.8455665044438164,\n  0.842638633955078,\n  0.33857542855839684,\n  0.5397450633380714),\n 'Decision Tree Regressor': (0.49193018485830436,\n  1.119004253721766,\n  0.7917514032896088,\n  0.413043607151444,\n  0.5730584202641397),\n 'Gradient Boosting Regressor': (0.23833959170851443,\n  0.6185222432706304,\n  0.8848919574998336,\n  0.34993739959190623,\n  0.5199387213705249),\n 'Linear': (3.492318762833084,\n  4.7104539942339105,\n  0.1233764921755377,\n  1.0419473831927875,\n  1.115506221719457),\n 'Ridge': (3.487458225048613,\n  4.7109318266404525,\n  0.12328756675117569,\n  1.0390007171998517,\n  1.114226442487029),\n 'Polynomial Regression': (3.054450686818274,\n  4.593607473969688,\n  0.14512182852666033,\n  0.9785723213290998,\n  1.167989783653846)}"
     },
     "execution_count": 97,
     "metadata": {},
     "output_type": "execute_result"
    }
   ],
   "source": [
    "d"
   ],
   "metadata": {
    "collapsed": false
   }
  },
  {
   "cell_type": "markdown",
   "source": [
    "### ENSEMBLE"
   ],
   "metadata": {
    "collapsed": false
   }
  },
  {
   "cell_type": "code",
   "execution_count": 65,
   "outputs": [],
   "source": [
    "from sklearn.ensemble import BaggingRegressor"
   ],
   "metadata": {
    "collapsed": false
   }
  },
  {
   "cell_type": "code",
   "execution_count": 101,
   "outputs": [
    {
     "ename": "NotFittedError",
     "evalue": "This BaggingRegressor instance is not fitted yet. Call 'fit' with appropriate arguments before using this estimator.",
     "output_type": "error",
     "traceback": [
      "\u001B[1;31m---------------------------------------------------------------------------\u001B[0m",
      "\u001B[1;31mNotFittedError\u001B[0m                            Traceback (most recent call last)",
      "Cell \u001B[1;32mIn [101], line 16\u001B[0m\n\u001B[0;32m     12\u001B[0m         predictions\u001B[38;5;241m.\u001B[39mappend(models\u001B[38;5;241m.\u001B[39mpredict(X))\n\u001B[0;32m     13\u001B[0m     \u001B[38;5;28;01mreturn\u001B[39;00m np\u001B[38;5;241m.\u001B[39mmean(predictions, axis\u001B[38;5;241m=\u001B[39m\u001B[38;5;241m0\u001B[39m)\n\u001B[1;32m---> 16\u001B[0m y_pred \u001B[38;5;241m=\u001B[39m \u001B[43mpredict\u001B[49m\u001B[43m(\u001B[49m\u001B[43mtest_data\u001B[49m\u001B[43m)\u001B[49m\n\u001B[0;32m     17\u001B[0m y_pred_train \u001B[38;5;241m=\u001B[39m predict(train_data)\n\u001B[0;32m     18\u001B[0m r2 \u001B[38;5;241m=\u001B[39m r2_score(test_labels, y_pred)\n",
      "Cell \u001B[1;32mIn [101], line 12\u001B[0m, in \u001B[0;36mpredict\u001B[1;34m(X)\u001B[0m\n\u001B[0;32m     10\u001B[0m predictions \u001B[38;5;241m=\u001B[39m []\n\u001B[0;32m     11\u001B[0m \u001B[38;5;28;01mfor\u001B[39;00m models \u001B[38;5;129;01min\u001B[39;00m ensemble:\n\u001B[1;32m---> 12\u001B[0m     predictions\u001B[38;5;241m.\u001B[39mappend(\u001B[43mmodels\u001B[49m\u001B[38;5;241;43m.\u001B[39;49m\u001B[43mpredict\u001B[49m\u001B[43m(\u001B[49m\u001B[43mX\u001B[49m\u001B[43m)\u001B[49m)\n\u001B[0;32m     13\u001B[0m \u001B[38;5;28;01mreturn\u001B[39;00m np\u001B[38;5;241m.\u001B[39mmean(predictions, axis\u001B[38;5;241m=\u001B[39m\u001B[38;5;241m0\u001B[39m)\n",
      "File \u001B[1;32mb:\\code\\ml\\venv\\lib\\site-packages\\sklearn\\ensemble\\_bagging.py:1155\u001B[0m, in \u001B[0;36mBaggingRegressor.predict\u001B[1;34m(self, X)\u001B[0m\n\u001B[0;32m   1138\u001B[0m \u001B[38;5;28;01mdef\u001B[39;00m \u001B[38;5;21mpredict\u001B[39m(\u001B[38;5;28mself\u001B[39m, X):\n\u001B[0;32m   1139\u001B[0m     \u001B[38;5;124;03m\"\"\"Predict regression target for X.\u001B[39;00m\n\u001B[0;32m   1140\u001B[0m \n\u001B[0;32m   1141\u001B[0m \u001B[38;5;124;03m    The predicted regression target of an input sample is computed as the\u001B[39;00m\n\u001B[1;32m   (...)\u001B[0m\n\u001B[0;32m   1153\u001B[0m \u001B[38;5;124;03m        The predicted values.\u001B[39;00m\n\u001B[0;32m   1154\u001B[0m \u001B[38;5;124;03m    \"\"\"\u001B[39;00m\n\u001B[1;32m-> 1155\u001B[0m     \u001B[43mcheck_is_fitted\u001B[49m\u001B[43m(\u001B[49m\u001B[38;5;28;43mself\u001B[39;49m\u001B[43m)\u001B[49m\n\u001B[0;32m   1156\u001B[0m     \u001B[38;5;66;03m# Check data\u001B[39;00m\n\u001B[0;32m   1157\u001B[0m     X \u001B[38;5;241m=\u001B[39m \u001B[38;5;28mself\u001B[39m\u001B[38;5;241m.\u001B[39m_validate_data(\n\u001B[0;32m   1158\u001B[0m         X,\n\u001B[0;32m   1159\u001B[0m         accept_sparse\u001B[38;5;241m=\u001B[39m[\u001B[38;5;124m\"\u001B[39m\u001B[38;5;124mcsr\u001B[39m\u001B[38;5;124m\"\u001B[39m, \u001B[38;5;124m\"\u001B[39m\u001B[38;5;124mcsc\u001B[39m\u001B[38;5;124m\"\u001B[39m],\n\u001B[1;32m   (...)\u001B[0m\n\u001B[0;32m   1162\u001B[0m         reset\u001B[38;5;241m=\u001B[39m\u001B[38;5;28;01mFalse\u001B[39;00m,\n\u001B[0;32m   1163\u001B[0m     )\n",
      "File \u001B[1;32mb:\\code\\ml\\venv\\lib\\site-packages\\sklearn\\utils\\validation.py:1345\u001B[0m, in \u001B[0;36mcheck_is_fitted\u001B[1;34m(estimator, attributes, msg, all_or_any)\u001B[0m\n\u001B[0;32m   1340\u001B[0m     fitted \u001B[38;5;241m=\u001B[39m [\n\u001B[0;32m   1341\u001B[0m         v \u001B[38;5;28;01mfor\u001B[39;00m v \u001B[38;5;129;01min\u001B[39;00m \u001B[38;5;28mvars\u001B[39m(estimator) \u001B[38;5;28;01mif\u001B[39;00m v\u001B[38;5;241m.\u001B[39mendswith(\u001B[38;5;124m\"\u001B[39m\u001B[38;5;124m_\u001B[39m\u001B[38;5;124m\"\u001B[39m) \u001B[38;5;129;01mand\u001B[39;00m \u001B[38;5;129;01mnot\u001B[39;00m v\u001B[38;5;241m.\u001B[39mstartswith(\u001B[38;5;124m\"\u001B[39m\u001B[38;5;124m__\u001B[39m\u001B[38;5;124m\"\u001B[39m)\n\u001B[0;32m   1342\u001B[0m     ]\n\u001B[0;32m   1344\u001B[0m \u001B[38;5;28;01mif\u001B[39;00m \u001B[38;5;129;01mnot\u001B[39;00m fitted:\n\u001B[1;32m-> 1345\u001B[0m     \u001B[38;5;28;01mraise\u001B[39;00m NotFittedError(msg \u001B[38;5;241m%\u001B[39m {\u001B[38;5;124m\"\u001B[39m\u001B[38;5;124mname\u001B[39m\u001B[38;5;124m\"\u001B[39m: \u001B[38;5;28mtype\u001B[39m(estimator)\u001B[38;5;241m.\u001B[39m\u001B[38;5;18m__name__\u001B[39m})\n",
      "\u001B[1;31mNotFittedError\u001B[0m: This BaggingRegressor instance is not fitted yet. Call 'fit' with appropriate arguments before using this estimator."
     ]
    }
   ],
   "source": [
    "ensemble_size = 10\n",
    "ensemble = []\n",
    "bagging = BaggingRegressor(base_estimator=[RandomForestRegressor(), LinearRegression()],\n",
    "                           n_estimators=1,  # We only need one estimator per model\n",
    "                           bootstrap_features=True)\n",
    "ensemble.append(bagging)\n",
    "\n",
    "\n",
    "def predict(X):\n",
    "    predictions = []\n",
    "    for models in ensemble:\n",
    "        predictions.append(models.predict(X))\n",
    "    return np.mean(predictions, axis=0)\n",
    "\n",
    "\n",
    "y_pred = predict(test_data)\n",
    "y_pred_train = predict(train_data)\n",
    "r2 = r2_score(test_labels, y_pred)\n",
    "ms = mean_squared_error(test_labels, y_pred)\n",
    "print(r2, math.sqrt(ms))\n",
    "\n",
    "train_score = mean_squared_error(train_labels, y_pred_train)\n",
    "test_score = mean_squared_error(test_labels, y_pred)\n",
    "r2_s = r2_score(test_labels, y_pred)\n",
    "mae_test = mean_absolute_error(test_labels, y_pred)\n",
    "mae_train = mean_absolute_error(train_labels, y_pred_train)\n",
    "\n",
    "d['Bagging (RFR+LR)'] = (train_score, test_score, r2_s, mae_train, mae_test)"
   ],
   "metadata": {
    "collapsed": false
   }
  },
  {
   "cell_type": "code",
   "execution_count": 75,
   "outputs": [
    {
     "data": {
      "text/plain": "{'Random Forest Regressor': (0.2819036402228116,\n  0.8036492505654613,\n  0.8504395062655162,\n  0.3461563018795824,\n  0.549743363668729),\n 'Decision Tree Regressor': (0.49193018485830436,\n  0.9804832129977841,\n  0.8175304047989317,\n  0.41304360715144406,\n  0.5550719949247731),\n 'Gradient Boosting Regressor': (0.23510283024759224,\n  0.622899925245206,\n  0.8840772634314084,\n  0.35069990564523956,\n  0.5171745265862746),\n 'Linear': (3.492318762833084,\n  4.7104539942339105,\n  0.1233764921755377,\n  1.0419473831927875,\n  1.115506221719457),\n 'Ridge': (3.487458225048613,\n  4.7109318266404525,\n  0.12328756675117569,\n  1.0390007171998517,\n  1.114226442487029),\n 'Polynomial Regression': (3.054450686818274,\n  4.593607473969688,\n  0.14512182852666033,\n  0.9785723213290998,\n  1.167989783653846),\n 'Bagging (RFR+LR)': (0.7264367271600243,\n  1.515533027480983,\n  0.7179567234070234,\n  0.5587778992960509,\n  0.7375065270170374)}"
     },
     "execution_count": 75,
     "metadata": {},
     "output_type": "execute_result"
    }
   ],
   "source": [],
   "metadata": {
    "collapsed": false
   }
  },
  {
   "cell_type": "code",
   "execution_count": 63,
   "outputs": [],
   "source": [
    "from sklearn.ensemble import BaggingRegressor"
   ],
   "metadata": {
    "collapsed": false
   }
  },
  {
   "cell_type": "markdown",
   "source": [
    "ANN"
   ],
   "metadata": {
    "collapsed": false
   }
  },
  {
   "cell_type": "code",
   "execution_count": 18,
   "outputs": [],
   "source": [
    "import tensorflow as tf\n"
   ],
   "metadata": {
    "collapsed": false
   }
  },
  {
   "cell_type": "code",
   "execution_count": 19,
   "outputs": [],
   "source": [
    "# Define the model architecture\n",
    "model = tf.keras.Sequential([\n",
    "    tf.keras.layers.Dense(25, input_shape=(25,), activation='relu'),\n",
    "    # tf.keras.layers.Dropout()\n",
    "    tf.keras.layers.Dense(512, activation='relu'),\n",
    "    tf.keras.layers.Dense(1024, activation='relu'),\n",
    "    tf.keras.layers.Dense(512, activation='relu'),\n",
    "    tf.keras.layers.Dense(64, activation='relu'),\n",
    "    tf.keras.layers.Dense(1, activation='linear')\n",
    "])"
   ],
   "metadata": {
    "collapsed": false
   }
  },
  {
   "cell_type": "code",
   "execution_count": 20,
   "outputs": [],
   "source": [
    "model.compile(optimizer='adam', loss='mean_squared_error')"
   ],
   "metadata": {
    "collapsed": false
   }
  },
  {
   "cell_type": "code",
   "execution_count": 21,
   "outputs": [
    {
     "name": "stdout",
     "output_type": "stream",
     "text": [
      "Epoch 1/200\n",
      "28/28 [==============================] - 1s 10ms/step - loss: 3.9129\n",
      "Epoch 2/200\n",
      "28/28 [==============================] - 0s 12ms/step - loss: 3.7988\n",
      "Epoch 3/200\n",
      "28/28 [==============================] - 0s 12ms/step - loss: 3.6913\n",
      "Epoch 4/200\n",
      "28/28 [==============================] - 0s 12ms/step - loss: 3.6961\n",
      "Epoch 5/200\n",
      "28/28 [==============================] - 0s 11ms/step - loss: 3.6796\n",
      "Epoch 6/200\n",
      "28/28 [==============================] - 0s 11ms/step - loss: 3.6675\n",
      "Epoch 7/200\n",
      "28/28 [==============================] - 0s 10ms/step - loss: 3.6463\n",
      "Epoch 8/200\n",
      "28/28 [==============================] - 0s 10ms/step - loss: 3.6535\n",
      "Epoch 9/200\n",
      "28/28 [==============================] - 0s 10ms/step - loss: 3.5667\n",
      "Epoch 10/200\n",
      "28/28 [==============================] - 0s 9ms/step - loss: 3.5551\n",
      "Epoch 11/200\n",
      "28/28 [==============================] - 0s 9ms/step - loss: 3.6421\n",
      "Epoch 12/200\n",
      "28/28 [==============================] - 0s 9ms/step - loss: 3.5255\n",
      "Epoch 13/200\n",
      "28/28 [==============================] - 0s 9ms/step - loss: 3.4861\n",
      "Epoch 14/200\n",
      "28/28 [==============================] - 0s 9ms/step - loss: 3.4827\n",
      "Epoch 15/200\n",
      "28/28 [==============================] - 0s 9ms/step - loss: 3.4192\n",
      "Epoch 16/200\n",
      "28/28 [==============================] - 0s 10ms/step - loss: 3.4632\n",
      "Epoch 17/200\n",
      "28/28 [==============================] - 0s 9ms/step - loss: 3.4801\n",
      "Epoch 18/200\n",
      "28/28 [==============================] - 0s 9ms/step - loss: 3.4142\n",
      "Epoch 19/200\n",
      "28/28 [==============================] - 0s 10ms/step - loss: 3.3689\n",
      "Epoch 20/200\n",
      "28/28 [==============================] - 0s 9ms/step - loss: 3.3794\n",
      "Epoch 21/200\n",
      "28/28 [==============================] - 0s 9ms/step - loss: 3.3119\n",
      "Epoch 22/200\n",
      "28/28 [==============================] - 0s 9ms/step - loss: 3.3211\n",
      "Epoch 23/200\n",
      "28/28 [==============================] - 0s 9ms/step - loss: 3.2802\n",
      "Epoch 24/200\n",
      "28/28 [==============================] - 0s 10ms/step - loss: 3.2802\n",
      "Epoch 25/200\n",
      "28/28 [==============================] - 0s 9ms/step - loss: 3.2696\n",
      "Epoch 26/200\n",
      "28/28 [==============================] - 0s 9ms/step - loss: 3.2050\n",
      "Epoch 27/200\n",
      "28/28 [==============================] - 0s 9ms/step - loss: 3.3227\n",
      "Epoch 28/200\n",
      "28/28 [==============================] - 0s 9ms/step - loss: 3.2330\n",
      "Epoch 29/200\n",
      "28/28 [==============================] - 0s 9ms/step - loss: 3.2140\n",
      "Epoch 30/200\n",
      "28/28 [==============================] - 0s 9ms/step - loss: 3.1440\n",
      "Epoch 31/200\n",
      "28/28 [==============================] - 0s 9ms/step - loss: 3.2242\n",
      "Epoch 32/200\n",
      "28/28 [==============================] - 0s 8ms/step - loss: 3.0663\n",
      "Epoch 33/200\n",
      "28/28 [==============================] - 0s 11ms/step - loss: 3.2250\n",
      "Epoch 34/200\n",
      "28/28 [==============================] - 0s 9ms/step - loss: 3.1266\n",
      "Epoch 35/200\n",
      "28/28 [==============================] - 0s 9ms/step - loss: 3.0678\n",
      "Epoch 36/200\n",
      "28/28 [==============================] - 0s 9ms/step - loss: 3.0630\n",
      "Epoch 37/200\n",
      "28/28 [==============================] - 0s 9ms/step - loss: 3.0748\n",
      "Epoch 38/200\n",
      "28/28 [==============================] - 0s 9ms/step - loss: 2.9602\n",
      "Epoch 39/200\n",
      "28/28 [==============================] - 0s 9ms/step - loss: 3.1922\n",
      "Epoch 40/200\n",
      "28/28 [==============================] - 0s 9ms/step - loss: 3.0655\n",
      "Epoch 41/200\n",
      "28/28 [==============================] - 0s 9ms/step - loss: 3.0718\n",
      "Epoch 42/200\n",
      "28/28 [==============================] - 0s 9ms/step - loss: 3.0550\n",
      "Epoch 43/200\n",
      "28/28 [==============================] - 0s 9ms/step - loss: 3.1431\n",
      "Epoch 44/200\n",
      "28/28 [==============================] - 0s 9ms/step - loss: 3.0814\n",
      "Epoch 45/200\n",
      "28/28 [==============================] - 0s 9ms/step - loss: 2.9090\n",
      "Epoch 46/200\n",
      "28/28 [==============================] - 0s 9ms/step - loss: 2.8944\n",
      "Epoch 47/200\n",
      "28/28 [==============================] - 0s 11ms/step - loss: 2.7968\n",
      "Epoch 48/200\n",
      "28/28 [==============================] - 0s 11ms/step - loss: 2.8225\n",
      "Epoch 49/200\n",
      "28/28 [==============================] - 0s 11ms/step - loss: 2.9873\n",
      "Epoch 50/200\n",
      "28/28 [==============================] - 0s 10ms/step - loss: 3.0450\n",
      "Epoch 51/200\n",
      "28/28 [==============================] - 0s 10ms/step - loss: 3.0034\n",
      "Epoch 52/200\n",
      "28/28 [==============================] - 0s 10ms/step - loss: 3.0155\n",
      "Epoch 53/200\n",
      "28/28 [==============================] - 0s 9ms/step - loss: 2.9219\n",
      "Epoch 54/200\n",
      "28/28 [==============================] - 0s 9ms/step - loss: 2.8646\n",
      "Epoch 55/200\n",
      "28/28 [==============================] - 0s 9ms/step - loss: 2.7432\n",
      "Epoch 56/200\n",
      "28/28 [==============================] - 0s 9ms/step - loss: 2.7894\n",
      "Epoch 57/200\n",
      "28/28 [==============================] - 0s 9ms/step - loss: 2.7924\n",
      "Epoch 58/200\n",
      "28/28 [==============================] - 0s 9ms/step - loss: 2.7666\n",
      "Epoch 59/200\n",
      "28/28 [==============================] - 0s 9ms/step - loss: 2.8556\n",
      "Epoch 60/200\n",
      "28/28 [==============================] - 0s 9ms/step - loss: 2.8055\n",
      "Epoch 61/200\n",
      "28/28 [==============================] - 0s 9ms/step - loss: 2.7571\n",
      "Epoch 62/200\n",
      "28/28 [==============================] - 0s 10ms/step - loss: 2.7686\n",
      "Epoch 63/200\n",
      "28/28 [==============================] - 0s 9ms/step - loss: 2.8325\n",
      "Epoch 64/200\n",
      "28/28 [==============================] - 0s 10ms/step - loss: 2.7839\n",
      "Epoch 65/200\n",
      "28/28 [==============================] - 0s 9ms/step - loss: 2.5622\n",
      "Epoch 66/200\n",
      "28/28 [==============================] - 0s 9ms/step - loss: 2.7399\n",
      "Epoch 67/200\n",
      "28/28 [==============================] - 0s 9ms/step - loss: 2.5674\n",
      "Epoch 68/200\n",
      "28/28 [==============================] - 0s 9ms/step - loss: 2.4238\n",
      "Epoch 69/200\n",
      "28/28 [==============================] - 0s 9ms/step - loss: 2.4972\n",
      "Epoch 70/200\n",
      "28/28 [==============================] - 0s 9ms/step - loss: 2.2396\n",
      "Epoch 71/200\n",
      "28/28 [==============================] - 0s 9ms/step - loss: 2.2178\n",
      "Epoch 72/200\n",
      "28/28 [==============================] - 0s 10ms/step - loss: 2.9117\n",
      "Epoch 73/200\n",
      "28/28 [==============================] - 0s 9ms/step - loss: 2.6817\n",
      "Epoch 74/200\n",
      "28/28 [==============================] - 0s 9ms/step - loss: 2.6417\n",
      "Epoch 75/200\n",
      "28/28 [==============================] - 0s 9ms/step - loss: 2.3071\n",
      "Epoch 76/200\n",
      "28/28 [==============================] - 0s 9ms/step - loss: 2.0657\n",
      "Epoch 77/200\n",
      "28/28 [==============================] - 0s 9ms/step - loss: 2.3559\n",
      "Epoch 78/200\n",
      "28/28 [==============================] - 0s 10ms/step - loss: 2.8354\n",
      "Epoch 79/200\n",
      "28/28 [==============================] - 0s 10ms/step - loss: 2.5351\n",
      "Epoch 80/200\n",
      "28/28 [==============================] - 0s 10ms/step - loss: 2.1776\n",
      "Epoch 81/200\n",
      "28/28 [==============================] - 0s 9ms/step - loss: 2.1912\n",
      "Epoch 82/200\n",
      "28/28 [==============================] - 0s 9ms/step - loss: 2.1509\n",
      "Epoch 83/200\n",
      "28/28 [==============================] - 0s 9ms/step - loss: 2.3280\n",
      "Epoch 84/200\n",
      "28/28 [==============================] - 0s 9ms/step - loss: 2.3364\n",
      "Epoch 85/200\n",
      "28/28 [==============================] - 0s 9ms/step - loss: 2.1433\n",
      "Epoch 86/200\n",
      "28/28 [==============================] - 0s 9ms/step - loss: 2.4273\n",
      "Epoch 87/200\n",
      "28/28 [==============================] - 0s 9ms/step - loss: 2.5797\n",
      "Epoch 88/200\n",
      "28/28 [==============================] - 0s 9ms/step - loss: 2.2204\n",
      "Epoch 89/200\n",
      "28/28 [==============================] - 0s 10ms/step - loss: 2.0362\n",
      "Epoch 90/200\n",
      "28/28 [==============================] - 0s 10ms/step - loss: 1.8534\n",
      "Epoch 91/200\n",
      "28/28 [==============================] - 0s 11ms/step - loss: 1.9191\n",
      "Epoch 92/200\n",
      "28/28 [==============================] - 0s 12ms/step - loss: 1.9583\n",
      "Epoch 93/200\n",
      "28/28 [==============================] - 0s 11ms/step - loss: 2.0211\n",
      "Epoch 94/200\n",
      "28/28 [==============================] - 0s 10ms/step - loss: 1.7575\n",
      "Epoch 95/200\n",
      "28/28 [==============================] - 0s 11ms/step - loss: 2.1071\n",
      "Epoch 96/200\n",
      "28/28 [==============================] - 0s 10ms/step - loss: 2.6760\n",
      "Epoch 97/200\n",
      "28/28 [==============================] - 0s 9ms/step - loss: 2.5037\n",
      "Epoch 98/200\n",
      "28/28 [==============================] - 0s 9ms/step - loss: 2.4666\n",
      "Epoch 99/200\n",
      "28/28 [==============================] - 0s 9ms/step - loss: 2.0850\n",
      "Epoch 100/200\n",
      "28/28 [==============================] - 0s 9ms/step - loss: 1.5217\n",
      "Epoch 101/200\n",
      "28/28 [==============================] - 0s 9ms/step - loss: 1.4066\n",
      "Epoch 102/200\n",
      "28/28 [==============================] - 0s 9ms/step - loss: 1.3328\n",
      "Epoch 103/200\n",
      "28/28 [==============================] - 0s 9ms/step - loss: 1.4002\n",
      "Epoch 104/200\n",
      "28/28 [==============================] - 0s 9ms/step - loss: 1.4703\n",
      "Epoch 105/200\n",
      "28/28 [==============================] - 0s 9ms/step - loss: 1.6414\n",
      "Epoch 106/200\n",
      "28/28 [==============================] - 0s 9ms/step - loss: 1.8224\n",
      "Epoch 107/200\n",
      "28/28 [==============================] - 0s 9ms/step - loss: 1.5127\n",
      "Epoch 108/200\n",
      "28/28 [==============================] - 0s 9ms/step - loss: 1.8389\n",
      "Epoch 109/200\n",
      "28/28 [==============================] - 0s 9ms/step - loss: 2.2496\n",
      "Epoch 110/200\n",
      "28/28 [==============================] - 0s 9ms/step - loss: 2.0370\n",
      "Epoch 111/200\n",
      "28/28 [==============================] - 0s 9ms/step - loss: 1.5897\n",
      "Epoch 112/200\n",
      "28/28 [==============================] - 0s 9ms/step - loss: 1.2502\n",
      "Epoch 113/200\n",
      "28/28 [==============================] - 0s 9ms/step - loss: 1.6627\n",
      "Epoch 114/200\n",
      "28/28 [==============================] - 0s 9ms/step - loss: 1.5983\n",
      "Epoch 115/200\n",
      "28/28 [==============================] - 0s 9ms/step - loss: 1.4947\n",
      "Epoch 116/200\n",
      "28/28 [==============================] - 0s 9ms/step - loss: 1.3040\n",
      "Epoch 117/200\n",
      "28/28 [==============================] - 0s 9ms/step - loss: 1.1869\n",
      "Epoch 118/200\n",
      "28/28 [==============================] - 0s 9ms/step - loss: 1.0320\n",
      "Epoch 119/200\n",
      "28/28 [==============================] - 0s 9ms/step - loss: 1.0652\n",
      "Epoch 120/200\n",
      "28/28 [==============================] - 0s 9ms/step - loss: 1.0427\n",
      "Epoch 121/200\n",
      "28/28 [==============================] - 0s 9ms/step - loss: 1.0020\n",
      "Epoch 122/200\n",
      "28/28 [==============================] - 0s 9ms/step - loss: 1.2041\n",
      "Epoch 123/200\n",
      "28/28 [==============================] - 0s 9ms/step - loss: 1.0856\n",
      "Epoch 124/200\n",
      "28/28 [==============================] - 0s 9ms/step - loss: 0.9901\n",
      "Epoch 125/200\n",
      "28/28 [==============================] - 0s 9ms/step - loss: 1.3899\n",
      "Epoch 126/200\n",
      "28/28 [==============================] - 0s 9ms/step - loss: 1.3735\n",
      "Epoch 127/200\n",
      "28/28 [==============================] - 0s 9ms/step - loss: 1.1045\n",
      "Epoch 128/200\n",
      "28/28 [==============================] - 0s 9ms/step - loss: 1.1511\n",
      "Epoch 129/200\n",
      "28/28 [==============================] - 0s 9ms/step - loss: 1.0558\n",
      "Epoch 130/200\n",
      "28/28 [==============================] - 0s 9ms/step - loss: 1.0171\n",
      "Epoch 131/200\n",
      "28/28 [==============================] - 0s 10ms/step - loss: 1.1157\n",
      "Epoch 132/200\n",
      "28/28 [==============================] - 0s 9ms/step - loss: 0.9747\n",
      "Epoch 133/200\n",
      "28/28 [==============================] - 0s 9ms/step - loss: 1.1104\n",
      "Epoch 134/200\n",
      "28/28 [==============================] - 0s 9ms/step - loss: 0.9625\n",
      "Epoch 135/200\n",
      "28/28 [==============================] - 0s 10ms/step - loss: 0.8533\n",
      "Epoch 136/200\n",
      "28/28 [==============================] - 0s 11ms/step - loss: 0.8310\n",
      "Epoch 137/200\n",
      "28/28 [==============================] - 0s 11ms/step - loss: 0.7056\n",
      "Epoch 138/200\n",
      "28/28 [==============================] - 0s 10ms/step - loss: 0.7090\n",
      "Epoch 139/200\n",
      "28/28 [==============================] - 0s 10ms/step - loss: 0.7516\n",
      "Epoch 140/200\n",
      "28/28 [==============================] - 0s 10ms/step - loss: 0.7491\n",
      "Epoch 141/200\n",
      "28/28 [==============================] - 0s 9ms/step - loss: 0.7601\n",
      "Epoch 142/200\n",
      "28/28 [==============================] - 0s 9ms/step - loss: 0.9237\n",
      "Epoch 143/200\n",
      "28/28 [==============================] - 0s 9ms/step - loss: 1.5412\n",
      "Epoch 144/200\n",
      "28/28 [==============================] - 0s 9ms/step - loss: 1.4299\n",
      "Epoch 145/200\n",
      "28/28 [==============================] - 0s 9ms/step - loss: 1.1245\n",
      "Epoch 146/200\n",
      "28/28 [==============================] - 0s 9ms/step - loss: 1.0938\n",
      "Epoch 147/200\n",
      "28/28 [==============================] - 0s 9ms/step - loss: 1.0475\n",
      "Epoch 148/200\n",
      "28/28 [==============================] - 0s 9ms/step - loss: 0.9932\n",
      "Epoch 149/200\n",
      "28/28 [==============================] - 0s 9ms/step - loss: 0.9458\n",
      "Epoch 150/200\n",
      "28/28 [==============================] - 0s 9ms/step - loss: 0.9015\n",
      "Epoch 151/200\n",
      "28/28 [==============================] - 0s 8ms/step - loss: 0.8395\n",
      "Epoch 152/200\n",
      "28/28 [==============================] - 0s 9ms/step - loss: 0.8347\n",
      "Epoch 153/200\n",
      "28/28 [==============================] - 0s 9ms/step - loss: 0.8256\n",
      "Epoch 154/200\n",
      "28/28 [==============================] - 0s 9ms/step - loss: 0.8081\n",
      "Epoch 155/200\n",
      "28/28 [==============================] - 0s 10ms/step - loss: 0.8549\n",
      "Epoch 156/200\n",
      "28/28 [==============================] - 0s 9ms/step - loss: 0.8034\n",
      "Epoch 157/200\n",
      "28/28 [==============================] - 0s 9ms/step - loss: 0.7341\n",
      "Epoch 158/200\n",
      "28/28 [==============================] - 0s 9ms/step - loss: 0.6318\n",
      "Epoch 159/200\n",
      "28/28 [==============================] - 0s 9ms/step - loss: 0.6579\n",
      "Epoch 160/200\n",
      "28/28 [==============================] - 0s 9ms/step - loss: 0.8129\n",
      "Epoch 161/200\n",
      "28/28 [==============================] - 0s 9ms/step - loss: 0.6644\n",
      "Epoch 162/200\n",
      "28/28 [==============================] - 0s 9ms/step - loss: 0.6498\n",
      "Epoch 163/200\n",
      "28/28 [==============================] - 0s 9ms/step - loss: 0.5861\n",
      "Epoch 164/200\n",
      "28/28 [==============================] - 0s 9ms/step - loss: 0.5932\n",
      "Epoch 165/200\n",
      "28/28 [==============================] - 0s 8ms/step - loss: 0.9335\n",
      "Epoch 166/200\n",
      "28/28 [==============================] - 0s 9ms/step - loss: 1.8340\n",
      "Epoch 167/200\n",
      "28/28 [==============================] - 0s 9ms/step - loss: 2.2508\n",
      "Epoch 168/200\n",
      "28/28 [==============================] - 0s 9ms/step - loss: 2.0210\n",
      "Epoch 169/200\n",
      "28/28 [==============================] - 0s 9ms/step - loss: 1.6705\n",
      "Epoch 170/200\n",
      "28/28 [==============================] - 0s 9ms/step - loss: 1.3103\n",
      "Epoch 171/200\n",
      "28/28 [==============================] - 0s 9ms/step - loss: 1.2855\n",
      "Epoch 172/200\n",
      "28/28 [==============================] - 0s 10ms/step - loss: 1.3681\n",
      "Epoch 173/200\n",
      "28/28 [==============================] - 0s 9ms/step - loss: 0.9820\n",
      "Epoch 174/200\n",
      "28/28 [==============================] - 0s 9ms/step - loss: 1.6744\n",
      "Epoch 175/200\n",
      "28/28 [==============================] - 0s 9ms/step - loss: 1.0991\n",
      "Epoch 176/200\n",
      "28/28 [==============================] - 0s 9ms/step - loss: 0.8263\n",
      "Epoch 177/200\n",
      "28/28 [==============================] - 0s 9ms/step - loss: 1.2188\n",
      "Epoch 178/200\n",
      "28/28 [==============================] - 0s 9ms/step - loss: 1.0571\n",
      "Epoch 179/200\n",
      "28/28 [==============================] - 0s 9ms/step - loss: 0.9074\n",
      "Epoch 180/200\n",
      "28/28 [==============================] - 0s 11ms/step - loss: 0.8576\n",
      "Epoch 181/200\n",
      "28/28 [==============================] - 0s 10ms/step - loss: 0.7700\n",
      "Epoch 182/200\n",
      "28/28 [==============================] - 0s 9ms/step - loss: 0.6632\n",
      "Epoch 183/200\n",
      "28/28 [==============================] - 0s 11ms/step - loss: 0.6002\n",
      "Epoch 184/200\n",
      "28/28 [==============================] - 0s 10ms/step - loss: 0.5835\n",
      "Epoch 185/200\n",
      "28/28 [==============================] - 0s 10ms/step - loss: 0.5151\n",
      "Epoch 186/200\n",
      "28/28 [==============================] - 0s 9ms/step - loss: 0.4800\n",
      "Epoch 187/200\n",
      "28/28 [==============================] - 0s 9ms/step - loss: 0.4438\n",
      "Epoch 188/200\n",
      "28/28 [==============================] - 0s 9ms/step - loss: 0.4342\n",
      "Epoch 189/200\n",
      "28/28 [==============================] - 0s 9ms/step - loss: 0.4055\n",
      "Epoch 190/200\n",
      "28/28 [==============================] - 0s 9ms/step - loss: 0.4059\n",
      "Epoch 191/200\n",
      "28/28 [==============================] - 0s 10ms/step - loss: 0.4019\n",
      "Epoch 192/200\n",
      "28/28 [==============================] - 0s 9ms/step - loss: 0.4198\n",
      "Epoch 193/200\n",
      "28/28 [==============================] - 0s 9ms/step - loss: 0.3902\n",
      "Epoch 194/200\n",
      "28/28 [==============================] - 0s 9ms/step - loss: 0.3882\n",
      "Epoch 195/200\n",
      "28/28 [==============================] - 0s 9ms/step - loss: 0.3548\n",
      "Epoch 196/200\n",
      "28/28 [==============================] - 0s 9ms/step - loss: 0.3730\n",
      "Epoch 197/200\n",
      "28/28 [==============================] - 0s 9ms/step - loss: 0.3733\n",
      "Epoch 198/200\n",
      "28/28 [==============================] - 0s 8ms/step - loss: 0.4018\n",
      "Epoch 199/200\n",
      "28/28 [==============================] - 0s 9ms/step - loss: 0.3903\n",
      "Epoch 200/200\n",
      "28/28 [==============================] - 0s 9ms/step - loss: 0.4457\n"
     ]
    },
    {
     "data": {
      "text/plain": "<keras.callbacks.History at 0x267445c9780>"
     },
     "execution_count": 21,
     "metadata": {},
     "output_type": "execute_result"
    }
   ],
   "source": [
    "model.fit(train_data, train_labels, epochs=200, batch_size=64)"
   ],
   "metadata": {
    "collapsed": false
   }
  },
  {
   "cell_type": "code",
   "execution_count": 22,
   "outputs": [
    {
     "name": "stdout",
     "output_type": "stream",
     "text": [
      "14/14 [==============================] - 0s 4ms/step - loss: 2.0705\n",
      "56/56 [==============================] - 0s 3ms/step - loss: 0.4255\n",
      "14/14 [==============================] - 0s 4ms/step\n",
      "56/56 [==============================] - 0s 3ms/step\n",
      "Mean squared error on test set: 2.0704596042633057 train set: 0.42549875378608704\n",
      "R2 square 0.6146839531010961\n"
     ]
    }
   ],
   "source": [
    "# Evaluate the model on the test set\n",
    "test_score = model.evaluate(test_data, test_labels)\n",
    "train_score = model.evaluate(train_data, train_labels)\n",
    "y_pred = model.predict(test_data)\n",
    "y_pred_train = model.predict(train_data)\n",
    "print(f'Mean squared error on test set: {test_score} train set: {train_score}')\n",
    "print(\"R2 square\", r2_score(test_labels, y_pred))"
   ],
   "metadata": {
    "collapsed": false
   }
  },
  {
   "cell_type": "code",
   "execution_count": 26,
   "outputs": [],
   "source": [
    "train_score = mean_squared_error(train_labels, y_pred_train)\n",
    "test_score = mean_squared_error(test_labels, y_pred)\n",
    "r2_s = r2_score(test_labels, y_pred)\n",
    "mae_test = mean_absolute_error(test_labels, y_pred)\n",
    "mae_train = mean_absolute_error(train_labels, y_pred_train)\n",
    "\n",
    "d['MLP'] = (train_score, test_score, r2_s, mae_train, mae_test)"
   ],
   "metadata": {
    "collapsed": false
   }
  },
  {
   "cell_type": "code",
   "execution_count": 27,
   "outputs": [
    {
     "data": {
      "text/plain": "{'Random Forest Regressor': (0.13604081745034716,\n  0.7059535613549102,\n  0.8686208403534655,\n  0.17968127370178844,\n  0.45433289680907324),\n 'Decision Tree Regressor': (0.010813574660633488,\n  0.8696109162895925,\n  0.8381639279752252,\n  0.012771493212669691,\n  0.33611990950226245),\n 'Gradient Boosting Regressor': (1.5648648085795955,\n  2.324406828587786,\n  0.5674239319220544,\n  0.7629643687511032,\n  0.8877715111937522),\n 'Linear': (3.492318762833084,\n  4.7104539942339105,\n  0.1233764921755377,\n  1.0419473831927875,\n  1.115506221719457),\n 'MLP': (0.2784436018420033,\n  2.1353696240772604,\n  0.6026040775152817,\n  0.29005454560433,\n  0.6548315993196375)}"
     },
     "execution_count": 27,
     "metadata": {},
     "output_type": "execute_result"
    }
   ],
   "source": [
    "d"
   ],
   "metadata": {
    "collapsed": false
   }
  },
  {
   "cell_type": "code",
   "execution_count": 28,
   "outputs": [],
   "source": [
    "from tensorflow.keras.models import Sequential\n",
    "from tensorflow.keras.layers import Dense, LSTM, Dropout"
   ],
   "metadata": {
    "collapsed": false
   }
  },
  {
   "cell_type": "code",
   "execution_count": 31,
   "outputs": [
    {
     "name": "stdout",
     "output_type": "stream",
     "text": [
      "Epoch 1/200\n",
      "28/28 - 2s - loss: 4.3685 - 2s/epoch - 85ms/step\n",
      "Epoch 2/200\n",
      "28/28 - 0s - loss: 4.1803 - 95ms/epoch - 3ms/step\n",
      "Epoch 3/200\n",
      "28/28 - 0s - loss: 4.0281 - 85ms/epoch - 3ms/step\n",
      "Epoch 4/200\n",
      "28/28 - 0s - loss: 3.8707 - 84ms/epoch - 3ms/step\n",
      "Epoch 5/200\n",
      "28/28 - 0s - loss: 3.7377 - 95ms/epoch - 3ms/step\n",
      "Epoch 6/200\n",
      "28/28 - 0s - loss: 3.6675 - 91ms/epoch - 3ms/step\n",
      "Epoch 7/200\n",
      "28/28 - 0s - loss: 3.6390 - 93ms/epoch - 3ms/step\n",
      "Epoch 8/200\n",
      "28/28 - 0s - loss: 3.6193 - 89ms/epoch - 3ms/step\n",
      "Epoch 9/200\n",
      "28/28 - 0s - loss: 3.6140 - 93ms/epoch - 3ms/step\n",
      "Epoch 10/200\n",
      "28/28 - 0s - loss: 3.6149 - 89ms/epoch - 3ms/step\n",
      "Epoch 11/200\n",
      "28/28 - 0s - loss: 3.6033 - 89ms/epoch - 3ms/step\n",
      "Epoch 12/200\n",
      "28/28 - 0s - loss: 3.6008 - 87ms/epoch - 3ms/step\n",
      "Epoch 13/200\n",
      "28/28 - 0s - loss: 3.5903 - 83ms/epoch - 3ms/step\n",
      "Epoch 14/200\n",
      "28/28 - 0s - loss: 3.5886 - 85ms/epoch - 3ms/step\n",
      "Epoch 15/200\n",
      "28/28 - 0s - loss: 3.5842 - 104ms/epoch - 4ms/step\n",
      "Epoch 16/200\n",
      "28/28 - 0s - loss: 3.5776 - 82ms/epoch - 3ms/step\n",
      "Epoch 17/200\n",
      "28/28 - 0s - loss: 3.5736 - 94ms/epoch - 3ms/step\n",
      "Epoch 18/200\n",
      "28/28 - 0s - loss: 3.5670 - 118ms/epoch - 4ms/step\n",
      "Epoch 19/200\n",
      "28/28 - 0s - loss: 3.5647 - 98ms/epoch - 4ms/step\n",
      "Epoch 20/200\n",
      "28/28 - 0s - loss: 3.5615 - 102ms/epoch - 4ms/step\n",
      "Epoch 21/200\n",
      "28/28 - 0s - loss: 3.5544 - 106ms/epoch - 4ms/step\n",
      "Epoch 22/200\n",
      "28/28 - 0s - loss: 3.5537 - 91ms/epoch - 3ms/step\n",
      "Epoch 23/200\n",
      "28/28 - 0s - loss: 3.5493 - 88ms/epoch - 3ms/step\n",
      "Epoch 24/200\n",
      "28/28 - 0s - loss: 3.5492 - 88ms/epoch - 3ms/step\n",
      "Epoch 25/200\n",
      "28/28 - 0s - loss: 3.5545 - 101ms/epoch - 4ms/step\n",
      "Epoch 26/200\n",
      "28/28 - 0s - loss: 3.5423 - 102ms/epoch - 4ms/step\n",
      "Epoch 27/200\n",
      "28/28 - 0s - loss: 3.5377 - 102ms/epoch - 4ms/step\n",
      "Epoch 28/200\n",
      "28/28 - 0s - loss: 3.5326 - 87ms/epoch - 3ms/step\n",
      "Epoch 29/200\n",
      "28/28 - 0s - loss: 3.5302 - 89ms/epoch - 3ms/step\n",
      "Epoch 30/200\n",
      "28/28 - 0s - loss: 3.5309 - 99ms/epoch - 4ms/step\n",
      "Epoch 31/200\n",
      "28/28 - 0s - loss: 3.5257 - 97ms/epoch - 3ms/step\n",
      "Epoch 32/200\n",
      "28/28 - 0s - loss: 3.5333 - 89ms/epoch - 3ms/step\n",
      "Epoch 33/200\n",
      "28/28 - 0s - loss: 3.5246 - 86ms/epoch - 3ms/step\n",
      "Epoch 34/200\n",
      "28/28 - 0s - loss: 3.5203 - 96ms/epoch - 3ms/step\n",
      "Epoch 35/200\n",
      "28/28 - 0s - loss: 3.5125 - 88ms/epoch - 3ms/step\n",
      "Epoch 36/200\n",
      "28/28 - 0s - loss: 3.5079 - 97ms/epoch - 3ms/step\n",
      "Epoch 37/200\n",
      "28/28 - 0s - loss: 3.5090 - 97ms/epoch - 3ms/step\n",
      "Epoch 38/200\n",
      "28/28 - 0s - loss: 3.5048 - 88ms/epoch - 3ms/step\n",
      "Epoch 39/200\n",
      "28/28 - 0s - loss: 3.5037 - 89ms/epoch - 3ms/step\n",
      "Epoch 40/200\n",
      "28/28 - 0s - loss: 3.4992 - 92ms/epoch - 3ms/step\n",
      "Epoch 41/200\n",
      "28/28 - 0s - loss: 3.4975 - 80ms/epoch - 3ms/step\n",
      "Epoch 42/200\n",
      "28/28 - 0s - loss: 3.4926 - 84ms/epoch - 3ms/step\n",
      "Epoch 43/200\n",
      "28/28 - 0s - loss: 3.4901 - 95ms/epoch - 3ms/step\n",
      "Epoch 44/200\n",
      "28/28 - 0s - loss: 3.4922 - 93ms/epoch - 3ms/step\n",
      "Epoch 45/200\n",
      "28/28 - 0s - loss: 3.4931 - 82ms/epoch - 3ms/step\n",
      "Epoch 46/200\n",
      "28/28 - 0s - loss: 3.4915 - 82ms/epoch - 3ms/step\n",
      "Epoch 47/200\n",
      "28/28 - 0s - loss: 3.4813 - 87ms/epoch - 3ms/step\n",
      "Epoch 48/200\n",
      "28/28 - 0s - loss: 3.4835 - 97ms/epoch - 3ms/step\n",
      "Epoch 49/200\n",
      "28/28 - 0s - loss: 3.4773 - 89ms/epoch - 3ms/step\n",
      "Epoch 50/200\n",
      "28/28 - 0s - loss: 3.4887 - 89ms/epoch - 3ms/step\n",
      "Epoch 51/200\n",
      "28/28 - 0s - loss: 3.4748 - 86ms/epoch - 3ms/step\n",
      "Epoch 52/200\n",
      "28/28 - 0s - loss: 3.4711 - 83ms/epoch - 3ms/step\n",
      "Epoch 53/200\n",
      "28/28 - 0s - loss: 3.4673 - 99ms/epoch - 4ms/step\n",
      "Epoch 54/200\n",
      "28/28 - 0s - loss: 3.4780 - 98ms/epoch - 3ms/step\n",
      "Epoch 55/200\n",
      "28/28 - 0s - loss: 3.4641 - 78ms/epoch - 3ms/step\n",
      "Epoch 56/200\n",
      "28/28 - 0s - loss: 3.4670 - 82ms/epoch - 3ms/step\n",
      "Epoch 57/200\n",
      "28/28 - 0s - loss: 3.4654 - 81ms/epoch - 3ms/step\n",
      "Epoch 58/200\n",
      "28/28 - 0s - loss: 3.4666 - 83ms/epoch - 3ms/step\n",
      "Epoch 59/200\n",
      "28/28 - 0s - loss: 3.4556 - 91ms/epoch - 3ms/step\n",
      "Epoch 60/200\n",
      "28/28 - 0s - loss: 3.4746 - 104ms/epoch - 4ms/step\n",
      "Epoch 61/200\n",
      "28/28 - 0s - loss: 3.4736 - 82ms/epoch - 3ms/step\n",
      "Epoch 62/200\n",
      "28/28 - 0s - loss: 3.4478 - 91ms/epoch - 3ms/step\n",
      "Epoch 63/200\n",
      "28/28 - 0s - loss: 3.4514 - 84ms/epoch - 3ms/step\n",
      "Epoch 64/200\n",
      "28/28 - 0s - loss: 3.4492 - 85ms/epoch - 3ms/step\n",
      "Epoch 65/200\n",
      "28/28 - 0s - loss: 3.4583 - 94ms/epoch - 3ms/step\n",
      "Epoch 66/200\n",
      "28/28 - 0s - loss: 3.4565 - 91ms/epoch - 3ms/step\n",
      "Epoch 67/200\n",
      "28/28 - 0s - loss: 3.4536 - 97ms/epoch - 3ms/step\n",
      "Epoch 68/200\n",
      "28/28 - 0s - loss: 3.4346 - 87ms/epoch - 3ms/step\n",
      "Epoch 69/200\n",
      "28/28 - 0s - loss: 3.4420 - 92ms/epoch - 3ms/step\n",
      "Epoch 70/200\n",
      "28/28 - 0s - loss: 3.4369 - 92ms/epoch - 3ms/step\n",
      "Epoch 71/200\n",
      "28/28 - 0s - loss: 3.4323 - 89ms/epoch - 3ms/step\n",
      "Epoch 72/200\n",
      "28/28 - 0s - loss: 3.4419 - 89ms/epoch - 3ms/step\n",
      "Epoch 73/200\n",
      "28/28 - 0s - loss: 3.4377 - 86ms/epoch - 3ms/step\n",
      "Epoch 74/200\n",
      "28/28 - 0s - loss: 3.4301 - 91ms/epoch - 3ms/step\n",
      "Epoch 75/200\n",
      "28/28 - 0s - loss: 3.4302 - 85ms/epoch - 3ms/step\n",
      "Epoch 76/200\n",
      "28/28 - 0s - loss: 3.4307 - 84ms/epoch - 3ms/step\n",
      "Epoch 77/200\n",
      "28/28 - 0s - loss: 3.4268 - 85ms/epoch - 3ms/step\n",
      "Epoch 78/200\n",
      "28/28 - 0s - loss: 3.4285 - 84ms/epoch - 3ms/step\n",
      "Epoch 79/200\n",
      "28/28 - 0s - loss: 3.4178 - 84ms/epoch - 3ms/step\n",
      "Epoch 80/200\n",
      "28/28 - 0s - loss: 3.4196 - 86ms/epoch - 3ms/step\n",
      "Epoch 81/200\n",
      "28/28 - 0s - loss: 3.4241 - 87ms/epoch - 3ms/step\n",
      "Epoch 82/200\n",
      "28/28 - 0s - loss: 3.4161 - 85ms/epoch - 3ms/step\n",
      "Epoch 83/200\n",
      "28/28 - 0s - loss: 3.4234 - 90ms/epoch - 3ms/step\n",
      "Epoch 84/200\n",
      "28/28 - 0s - loss: 3.4162 - 85ms/epoch - 3ms/step\n",
      "Epoch 85/200\n",
      "28/28 - 0s - loss: 3.4153 - 85ms/epoch - 3ms/step\n",
      "Epoch 86/200\n",
      "28/28 - 0s - loss: 3.4103 - 83ms/epoch - 3ms/step\n",
      "Epoch 87/200\n",
      "28/28 - 0s - loss: 3.4201 - 82ms/epoch - 3ms/step\n",
      "Epoch 88/200\n",
      "28/28 - 0s - loss: 3.4161 - 86ms/epoch - 3ms/step\n",
      "Epoch 89/200\n",
      "28/28 - 0s - loss: 3.4061 - 83ms/epoch - 3ms/step\n",
      "Epoch 90/200\n",
      "28/28 - 0s - loss: 3.4058 - 82ms/epoch - 3ms/step\n",
      "Epoch 91/200\n",
      "28/28 - 0s - loss: 3.4005 - 87ms/epoch - 3ms/step\n",
      "Epoch 92/200\n",
      "28/28 - 0s - loss: 3.4001 - 87ms/epoch - 3ms/step\n",
      "Epoch 93/200\n",
      "28/28 - 0s - loss: 3.4170 - 83ms/epoch - 3ms/step\n",
      "Epoch 94/200\n",
      "28/28 - 0s - loss: 3.4078 - 80ms/epoch - 3ms/step\n",
      "Epoch 95/200\n",
      "28/28 - 0s - loss: 3.4067 - 111ms/epoch - 4ms/step\n",
      "Epoch 96/200\n",
      "28/28 - 0s - loss: 3.4109 - 86ms/epoch - 3ms/step\n",
      "Epoch 97/200\n",
      "28/28 - 0s - loss: 3.3968 - 82ms/epoch - 3ms/step\n",
      "Epoch 98/200\n",
      "28/28 - 0s - loss: 3.3962 - 88ms/epoch - 3ms/step\n",
      "Epoch 99/200\n",
      "28/28 - 0s - loss: 3.3938 - 87ms/epoch - 3ms/step\n",
      "Epoch 100/200\n",
      "28/28 - 0s - loss: 3.3952 - 83ms/epoch - 3ms/step\n",
      "Epoch 101/200\n",
      "28/28 - 0s - loss: 3.3876 - 83ms/epoch - 3ms/step\n",
      "Epoch 102/200\n",
      "28/28 - 0s - loss: 3.3859 - 83ms/epoch - 3ms/step\n",
      "Epoch 103/200\n",
      "28/28 - 0s - loss: 3.3877 - 83ms/epoch - 3ms/step\n",
      "Epoch 104/200\n",
      "28/28 - 0s - loss: 3.3829 - 87ms/epoch - 3ms/step\n",
      "Epoch 105/200\n",
      "28/28 - 0s - loss: 3.3868 - 83ms/epoch - 3ms/step\n",
      "Epoch 106/200\n",
      "28/28 - 0s - loss: 3.3808 - 85ms/epoch - 3ms/step\n",
      "Epoch 107/200\n",
      "28/28 - 0s - loss: 3.3804 - 88ms/epoch - 3ms/step\n",
      "Epoch 108/200\n",
      "28/28 - 0s - loss: 3.3750 - 85ms/epoch - 3ms/step\n",
      "Epoch 109/200\n",
      "28/28 - 0s - loss: 3.3828 - 83ms/epoch - 3ms/step\n",
      "Epoch 110/200\n",
      "28/28 - 0s - loss: 3.3759 - 89ms/epoch - 3ms/step\n",
      "Epoch 111/200\n",
      "28/28 - 0s - loss: 3.3698 - 95ms/epoch - 3ms/step\n",
      "Epoch 112/200\n",
      "28/28 - 0s - loss: 3.3843 - 95ms/epoch - 3ms/step\n",
      "Epoch 113/200\n",
      "28/28 - 0s - loss: 3.3628 - 88ms/epoch - 3ms/step\n",
      "Epoch 114/200\n",
      "28/28 - 0s - loss: 3.3742 - 86ms/epoch - 3ms/step\n",
      "Epoch 115/200\n",
      "28/28 - 0s - loss: 3.3701 - 80ms/epoch - 3ms/step\n",
      "Epoch 116/200\n",
      "28/28 - 0s - loss: 3.3685 - 85ms/epoch - 3ms/step\n",
      "Epoch 117/200\n",
      "28/28 - 0s - loss: 3.3618 - 89ms/epoch - 3ms/step\n",
      "Epoch 118/200\n",
      "28/28 - 0s - loss: 3.3638 - 97ms/epoch - 3ms/step\n",
      "Epoch 119/200\n",
      "28/28 - 0s - loss: 3.3649 - 97ms/epoch - 3ms/step\n",
      "Epoch 120/200\n",
      "28/28 - 0s - loss: 3.3658 - 83ms/epoch - 3ms/step\n",
      "Epoch 121/200\n",
      "28/28 - 0s - loss: 3.3630 - 76ms/epoch - 3ms/step\n",
      "Epoch 122/200\n",
      "28/28 - 0s - loss: 3.3639 - 83ms/epoch - 3ms/step\n",
      "Epoch 123/200\n",
      "28/28 - 0s - loss: 3.3604 - 86ms/epoch - 3ms/step\n",
      "Epoch 124/200\n",
      "28/28 - 0s - loss: 3.3616 - 80ms/epoch - 3ms/step\n",
      "Epoch 125/200\n",
      "28/28 - 0s - loss: 3.3620 - 87ms/epoch - 3ms/step\n",
      "Epoch 126/200\n",
      "28/28 - 0s - loss: 3.3685 - 102ms/epoch - 4ms/step\n",
      "Epoch 127/200\n",
      "28/28 - 0s - loss: 3.3506 - 74ms/epoch - 3ms/step\n",
      "Epoch 128/200\n",
      "28/28 - 0s - loss: 3.3517 - 83ms/epoch - 3ms/step\n",
      "Epoch 129/200\n",
      "28/28 - 0s - loss: 3.3589 - 87ms/epoch - 3ms/step\n",
      "Epoch 130/200\n",
      "28/28 - 0s - loss: 3.3570 - 79ms/epoch - 3ms/step\n",
      "Epoch 131/200\n",
      "28/28 - 0s - loss: 3.3516 - 80ms/epoch - 3ms/step\n",
      "Epoch 132/200\n",
      "28/28 - 0s - loss: 3.3551 - 79ms/epoch - 3ms/step\n",
      "Epoch 133/200\n",
      "28/28 - 0s - loss: 3.3614 - 81ms/epoch - 3ms/step\n",
      "Epoch 134/200\n",
      "28/28 - 0s - loss: 3.3470 - 84ms/epoch - 3ms/step\n",
      "Epoch 135/200\n",
      "28/28 - 0s - loss: 3.3464 - 86ms/epoch - 3ms/step\n",
      "Epoch 136/200\n",
      "28/28 - 0s - loss: 3.3443 - 85ms/epoch - 3ms/step\n",
      "Epoch 137/200\n",
      "28/28 - 0s - loss: 3.3504 - 84ms/epoch - 3ms/step\n",
      "Epoch 138/200\n",
      "28/28 - 0s - loss: 3.3456 - 83ms/epoch - 3ms/step\n",
      "Epoch 139/200\n",
      "28/28 - 0s - loss: 3.3443 - 82ms/epoch - 3ms/step\n",
      "Epoch 140/200\n",
      "28/28 - 0s - loss: 3.3403 - 88ms/epoch - 3ms/step\n",
      "Epoch 141/200\n",
      "28/28 - 0s - loss: 3.3374 - 89ms/epoch - 3ms/step\n",
      "Epoch 142/200\n",
      "28/28 - 0s - loss: 3.3400 - 94ms/epoch - 3ms/step\n",
      "Epoch 143/200\n",
      "28/28 - 0s - loss: 3.3491 - 86ms/epoch - 3ms/step\n",
      "Epoch 144/200\n",
      "28/28 - 0s - loss: 3.3423 - 86ms/epoch - 3ms/step\n",
      "Epoch 145/200\n",
      "28/28 - 0s - loss: 3.3429 - 88ms/epoch - 3ms/step\n",
      "Epoch 146/200\n",
      "28/28 - 0s - loss: 3.3368 - 87ms/epoch - 3ms/step\n",
      "Epoch 147/200\n",
      "28/28 - 0s - loss: 3.3361 - 91ms/epoch - 3ms/step\n",
      "Epoch 148/200\n",
      "28/28 - 0s - loss: 3.3381 - 92ms/epoch - 3ms/step\n",
      "Epoch 149/200\n",
      "28/28 - 0s - loss: 3.3469 - 88ms/epoch - 3ms/step\n",
      "Epoch 150/200\n",
      "28/28 - 0s - loss: 3.3469 - 84ms/epoch - 3ms/step\n",
      "Epoch 151/200\n",
      "28/28 - 0s - loss: 3.3340 - 86ms/epoch - 3ms/step\n",
      "Epoch 152/200\n",
      "28/28 - 0s - loss: 3.3293 - 87ms/epoch - 3ms/step\n",
      "Epoch 153/200\n",
      "28/28 - 0s - loss: 3.3487 - 86ms/epoch - 3ms/step\n",
      "Epoch 154/200\n",
      "28/28 - 0s - loss: 3.3416 - 90ms/epoch - 3ms/step\n",
      "Epoch 155/200\n",
      "28/28 - 0s - loss: 3.3410 - 87ms/epoch - 3ms/step\n",
      "Epoch 156/200\n",
      "28/28 - 0s - loss: 3.3278 - 91ms/epoch - 3ms/step\n",
      "Epoch 157/200\n",
      "28/28 - 0s - loss: 3.3358 - 87ms/epoch - 3ms/step\n",
      "Epoch 158/200\n",
      "28/28 - 0s - loss: 3.3250 - 88ms/epoch - 3ms/step\n",
      "Epoch 159/200\n",
      "28/28 - 0s - loss: 3.3240 - 88ms/epoch - 3ms/step\n",
      "Epoch 160/200\n",
      "28/28 - 0s - loss: 3.3218 - 87ms/epoch - 3ms/step\n",
      "Epoch 161/200\n",
      "28/28 - 0s - loss: 3.3278 - 88ms/epoch - 3ms/step\n",
      "Epoch 162/200\n",
      "28/28 - 0s - loss: 3.3220 - 95ms/epoch - 3ms/step\n",
      "Epoch 163/200\n",
      "28/28 - 0s - loss: 3.3245 - 98ms/epoch - 4ms/step\n",
      "Epoch 164/200\n",
      "28/28 - 0s - loss: 3.3188 - 95ms/epoch - 3ms/step\n",
      "Epoch 165/200\n",
      "28/28 - 0s - loss: 3.3280 - 96ms/epoch - 3ms/step\n",
      "Epoch 166/200\n",
      "28/28 - 0s - loss: 3.3225 - 90ms/epoch - 3ms/step\n",
      "Epoch 167/200\n",
      "28/28 - 0s - loss: 3.3174 - 93ms/epoch - 3ms/step\n",
      "Epoch 168/200\n",
      "28/28 - 0s - loss: 3.3256 - 96ms/epoch - 3ms/step\n",
      "Epoch 169/200\n",
      "28/28 - 0s - loss: 3.3169 - 90ms/epoch - 3ms/step\n",
      "Epoch 170/200\n",
      "28/28 - 0s - loss: 3.3164 - 95ms/epoch - 3ms/step\n",
      "Epoch 171/200\n",
      "28/28 - 0s - loss: 3.3146 - 89ms/epoch - 3ms/step\n",
      "Epoch 172/200\n",
      "28/28 - 0s - loss: 3.3183 - 102ms/epoch - 4ms/step\n",
      "Epoch 173/200\n",
      "28/28 - 0s - loss: 3.3136 - 93ms/epoch - 3ms/step\n",
      "Epoch 174/200\n",
      "28/28 - 0s - loss: 3.3132 - 104ms/epoch - 4ms/step\n",
      "Epoch 175/200\n",
      "28/28 - 0s - loss: 3.3171 - 123ms/epoch - 4ms/step\n",
      "Epoch 176/200\n",
      "28/28 - 0s - loss: 3.3098 - 87ms/epoch - 3ms/step\n",
      "Epoch 177/200\n",
      "28/28 - 0s - loss: 3.3104 - 81ms/epoch - 3ms/step\n",
      "Epoch 178/200\n",
      "28/28 - 0s - loss: 3.3220 - 77ms/epoch - 3ms/step\n",
      "Epoch 179/200\n",
      "28/28 - 0s - loss: 3.3167 - 79ms/epoch - 3ms/step\n",
      "Epoch 180/200\n",
      "28/28 - 0s - loss: 3.3097 - 120ms/epoch - 4ms/step\n",
      "Epoch 181/200\n",
      "28/28 - 0s - loss: 3.3135 - 108ms/epoch - 4ms/step\n",
      "Epoch 182/200\n",
      "28/28 - 0s - loss: 3.3067 - 92ms/epoch - 3ms/step\n",
      "Epoch 183/200\n",
      "28/28 - 0s - loss: 3.3126 - 77ms/epoch - 3ms/step\n",
      "Epoch 184/200\n",
      "28/28 - 0s - loss: 3.3119 - 78ms/epoch - 3ms/step\n",
      "Epoch 185/200\n",
      "28/28 - 0s - loss: 3.3080 - 89ms/epoch - 3ms/step\n",
      "Epoch 186/200\n",
      "28/28 - 0s - loss: 3.3128 - 98ms/epoch - 4ms/step\n",
      "Epoch 187/200\n",
      "28/28 - 0s - loss: 3.3156 - 93ms/epoch - 3ms/step\n",
      "Epoch 188/200\n",
      "28/28 - 0s - loss: 3.3092 - 91ms/epoch - 3ms/step\n",
      "Epoch 189/200\n",
      "28/28 - 0s - loss: 3.3097 - 89ms/epoch - 3ms/step\n",
      "Epoch 190/200\n",
      "28/28 - 0s - loss: 3.3013 - 88ms/epoch - 3ms/step\n",
      "Epoch 191/200\n",
      "28/28 - 0s - loss: 3.3060 - 92ms/epoch - 3ms/step\n",
      "Epoch 192/200\n",
      "28/28 - 0s - loss: 3.3060 - 82ms/epoch - 3ms/step\n",
      "Epoch 193/200\n",
      "28/28 - 0s - loss: 3.3003 - 89ms/epoch - 3ms/step\n",
      "Epoch 194/200\n",
      "28/28 - 0s - loss: 3.3029 - 95ms/epoch - 3ms/step\n",
      "Epoch 195/200\n",
      "28/28 - 0s - loss: 3.3018 - 86ms/epoch - 3ms/step\n",
      "Epoch 196/200\n",
      "28/28 - 0s - loss: 3.2983 - 86ms/epoch - 3ms/step\n",
      "Epoch 197/200\n",
      "28/28 - 0s - loss: 3.2996 - 89ms/epoch - 3ms/step\n",
      "Epoch 198/200\n",
      "28/28 - 0s - loss: 3.3002 - 94ms/epoch - 3ms/step\n",
      "Epoch 199/200\n",
      "28/28 - 0s - loss: 3.2996 - 88ms/epoch - 3ms/step\n",
      "Epoch 200/200\n",
      "28/28 - 0s - loss: 3.3085 - 96ms/epoch - 3ms/step\n",
      "14/14 [==============================] - 0s 2ms/step\n",
      "56/56 [==============================] - 0s 2ms/step\n",
      "Train Score: 3.32 MSE (1.82 RMSE)\n",
      "Test Score: 4.65 MSE (2.16 RMSE)\n",
      "14/14 [==============================] - 0s 2ms/step\n",
      "0.1340224803361032\n"
     ]
    }
   ],
   "source": [
    "X_train = np.reshape(train_data, (train_data.shape[0], 1, train_data.shape[1]))\n",
    "X_test = np.reshape(test_data, (test_data.shape[0], 1, test_data.shape[1]))\n",
    "\n",
    "# Defining the LSTM model\n",
    "model = Sequential()\n",
    "model.add(LSTM(100, input_shape=(1, 25)))\n",
    "model.add(Dense(1))\n",
    "model.compile(loss='mean_squared_error', optimizer='adam')\n",
    "\n",
    "# Training the model\n",
    "model.fit(X_train, train_labels, epochs=200, batch_size=64, verbose=2)\n",
    "\n",
    "# Evaluating the model on the test data\n",
    "train_score = model.evaluate(X_train, train_labels, verbose=0)\n",
    "test_score = model.evaluate(X_test, test_labels, verbose=0)\n",
    "y_pred = model.predict(X_test)\n",
    "y_pred_train = model.predict(X_train)\n",
    "print('Train Score: %.2f MSE (%.2f RMSE)' % (train_score, np.sqrt(train_score)))\n",
    "print('Test Score: %.2f MSE (%.2f RMSE)' % (test_score, np.sqrt(test_score)))\n",
    "print(r2_score(test_labels, model.predict(X_test)))"
   ],
   "metadata": {
    "collapsed": false
   }
  },
  {
   "cell_type": "code",
   "execution_count": 33,
   "outputs": [],
   "source": [
    "train_score = mean_squared_error(train_labels, y_pred_train)\n",
    "test_score = mean_squared_error(test_labels, y_pred)\n",
    "r2_s = r2_score(test_labels, y_pred)\n",
    "mae_test = mean_absolute_error(test_labels, y_pred)\n",
    "mae_train = mean_absolute_error(train_labels, y_pred_train)\n",
    "\n",
    "d['LSTM'] = (train_score, test_score, r2_s, mae_train, mae_test)"
   ],
   "metadata": {
    "collapsed": false
   }
  },
  {
   "cell_type": "code",
   "execution_count": 34,
   "outputs": [
    {
     "data": {
      "text/plain": "{'Random Forest Regressor': (0.13604081745034716,\n  0.7059535613549102,\n  0.8686208403534655,\n  0.17968127370178844,\n  0.45433289680907324),\n 'Decision Tree Regressor': (0.010813574660633488,\n  0.8696109162895925,\n  0.8381639279752252,\n  0.012771493212669691,\n  0.33611990950226245),\n 'Gradient Boosting Regressor': (1.5648648085795955,\n  2.324406828587786,\n  0.5674239319220544,\n  0.7629643687511032,\n  0.8877715111937522),\n 'Linear': (3.492318762833084,\n  4.7104539942339105,\n  0.1233764921755377,\n  1.0419473831927875,\n  1.115506221719457),\n 'MLP': (0.2784436018420033,\n  2.1353696240772604,\n  0.6026040775152817,\n  0.29005454560433,\n  0.6548315993196375),\n 'LSTM': (3.3154118697759354,\n  4.653248777848653,\n  0.1340224803361032,\n  1.0247441839037394,\n  1.1499314773561458)}"
     },
     "execution_count": 34,
     "metadata": {},
     "output_type": "execute_result"
    }
   ],
   "source": [
    "d"
   ],
   "metadata": {
    "collapsed": false
   }
  },
  {
   "cell_type": "code",
   "execution_count": 35,
   "outputs": [],
   "source": [
    "df = pd.DataFrame.from_dict(d, orient='index', columns=['Train MSE', 'Test MSE', 'R2_score', 'Train MAE', 'Test MAE'])\n",
    "df.to_excel('Models_Results(Districts).xlsx')"
   ],
   "metadata": {
    "collapsed": false
   }
  },
  {
   "cell_type": "code",
   "execution_count": null,
   "outputs": [],
   "source": [],
   "metadata": {
    "collapsed": false
   }
  }
 ],
 "metadata": {
  "kernelspec": {
   "display_name": "Python 3",
   "language": "python",
   "name": "python3"
  },
  "language_info": {
   "codemirror_mode": {
    "name": "ipython",
    "version": 2
   },
   "file_extension": ".py",
   "mimetype": "text/x-python",
   "name": "python",
   "nbconvert_exporter": "python",
   "pygments_lexer": "ipython2",
   "version": "2.7.6"
  }
 },
 "nbformat": 4,
 "nbformat_minor": 0
}
