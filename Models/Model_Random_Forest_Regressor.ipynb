{
  "nbformat": 4,
  "nbformat_minor": 0,
  "metadata": {
    "colab": {
      "provenance": []
    },
    "kernelspec": {
      "name": "python3",
      "display_name": "Python 3"
    },
    "language_info": {
      "name": "python"
    }
  },
  "cells": [
    {
      "cell_type": "code",
      "execution_count": null,
      "metadata": {
        "id": "mcA6EBN50A3w"
      },
      "outputs": [],
      "source": [
        "import numpy as np\n",
        "import pandas as pd\n",
        "from sklearn.model_selection import train_test_split,ShuffleSplit"
      ]
    },
    {
      "cell_type": "code",
      "source": [
        "from sklearn.model_selection import cross_val_score,cross_validate\n",
        "from sklearn.model_selection import GridSearchCV, RandomizedSearchCV\n",
        "from sklearn.model_selection import validation_curve"
      ],
      "metadata": {
        "id": "7JGrBgOIZP7h"
      },
      "execution_count": null,
      "outputs": []
    },
    {
      "cell_type": "code",
      "source": [
        "df= pd.read_excel('book2.xlsx')"
      ],
      "metadata": {
        "id": "KKHt7k5l0LXb"
      },
      "execution_count": null,
      "outputs": []
    },
    {
      "cell_type": "code",
      "source": [
        "df1=df.drop(['District ID','District',\n",
        "         'Object Id'],axis=1)"
      ],
      "metadata": {
        "id": "FX_57czl0YtG"
      },
      "execution_count": null,
      "outputs": []
    },
    {
      "cell_type": "code",
      "source": [
        "df1.head()"
      ],
      "metadata": {
        "id": "cdcCZRMd0alh",
        "colab": {
          "base_uri": "https://localhost:8080/",
          "height": 404
        },
        "outputId": "f7c777cb-dd7c-47d5-c617-1d6528ea004a"
      },
      "execution_count": null,
      "outputs": [
        {
          "output_type": "execute_result",
          "data": {
            "text/plain": [
              "   Longitude  Latitude     Slope         Soil Type    LULC_1986    LULC_1987  \\\n",
              "0      74.75     31.25  0.784844  Haplic Calcisols  Agriculture  Agriculture   \n",
              "1      75.00     31.25  0.701995  Haplic Calcisols  Agriculture  Agriculture   \n",
              "2      74.75     31.50  0.000000  Haplic Calcisols  Agriculture  Agriculture   \n",
              "3      75.00     31.50  1.889588  Haplic Calcisols  Agriculture  Agriculture   \n",
              "4      75.25     31.50  0.351011  Haplic Calcisols  Agriculture  Agriculture   \n",
              "\n",
              "     LULC_1988    LULC_1989    LULC_1990    LULC_1991  ...   GW_2010  \\\n",
              "0  Agriculture  Agriculture  Agriculture  Agriculture  ... -0.040000   \n",
              "1  Agriculture  Agriculture  Agriculture  Agriculture  ... -2.454617   \n",
              "2  Agriculture  Agriculture  Agriculture  Agriculture  ... -0.753646   \n",
              "3  Agriculture  Agriculture  Agriculture  Agriculture  ...  3.954190   \n",
              "4  Agriculture  Agriculture  Agriculture  Agriculture  ...  0.140000   \n",
              "\n",
              "    GW_2011  GW_2012    GW_2013   GW_2014   GW_2015   GW_2016   GW_2017  \\\n",
              "0 -1.460000 -0.60000 -17.520000 -3.119739 -9.143360 -9.823463 -2.394697   \n",
              "1 -4.457110 -6.00039  -3.347226 -1.840000  1.000000  0.800000  1.000000   \n",
              "2 -1.600000 -0.02000  -1.490000 -1.780000 -0.900000  0.754127  0.600000   \n",
              "3 -3.838305  6.83308  19.310000  2.646981  2.198592  4.854617 -0.397419   \n",
              "4 -2.130000 -0.40000  -1.470000  0.300000 -3.198811 -3.237203  0.246433   \n",
              "\n",
              "    GW_2018   GW_2019  \n",
              "0 -2.774661 -5.369132  \n",
              "1  3.300000 -1.900000  \n",
              "2  0.200000 -0.500000  \n",
              "3  0.671259 -0.280918  \n",
              "4  0.126418 -0.113382  \n",
              "\n",
              "[5 rows x 140 columns]"
            ],
            "text/html": [
              "\n",
              "  <div id=\"df-e4c22eaf-0947-4fea-9571-1b8e557c012c\">\n",
              "    <div class=\"colab-df-container\">\n",
              "      <div>\n",
              "<style scoped>\n",
              "    .dataframe tbody tr th:only-of-type {\n",
              "        vertical-align: middle;\n",
              "    }\n",
              "\n",
              "    .dataframe tbody tr th {\n",
              "        vertical-align: top;\n",
              "    }\n",
              "\n",
              "    .dataframe thead th {\n",
              "        text-align: right;\n",
              "    }\n",
              "</style>\n",
              "<table border=\"1\" class=\"dataframe\">\n",
              "  <thead>\n",
              "    <tr style=\"text-align: right;\">\n",
              "      <th></th>\n",
              "      <th>Longitude</th>\n",
              "      <th>Latitude</th>\n",
              "      <th>Slope</th>\n",
              "      <th>Soil Type</th>\n",
              "      <th>LULC_1986</th>\n",
              "      <th>LULC_1987</th>\n",
              "      <th>LULC_1988</th>\n",
              "      <th>LULC_1989</th>\n",
              "      <th>LULC_1990</th>\n",
              "      <th>LULC_1991</th>\n",
              "      <th>...</th>\n",
              "      <th>GW_2010</th>\n",
              "      <th>GW_2011</th>\n",
              "      <th>GW_2012</th>\n",
              "      <th>GW_2013</th>\n",
              "      <th>GW_2014</th>\n",
              "      <th>GW_2015</th>\n",
              "      <th>GW_2016</th>\n",
              "      <th>GW_2017</th>\n",
              "      <th>GW_2018</th>\n",
              "      <th>GW_2019</th>\n",
              "    </tr>\n",
              "  </thead>\n",
              "  <tbody>\n",
              "    <tr>\n",
              "      <th>0</th>\n",
              "      <td>74.75</td>\n",
              "      <td>31.25</td>\n",
              "      <td>0.784844</td>\n",
              "      <td>Haplic Calcisols</td>\n",
              "      <td>Agriculture</td>\n",
              "      <td>Agriculture</td>\n",
              "      <td>Agriculture</td>\n",
              "      <td>Agriculture</td>\n",
              "      <td>Agriculture</td>\n",
              "      <td>Agriculture</td>\n",
              "      <td>...</td>\n",
              "      <td>-0.040000</td>\n",
              "      <td>-1.460000</td>\n",
              "      <td>-0.60000</td>\n",
              "      <td>-17.520000</td>\n",
              "      <td>-3.119739</td>\n",
              "      <td>-9.143360</td>\n",
              "      <td>-9.823463</td>\n",
              "      <td>-2.394697</td>\n",
              "      <td>-2.774661</td>\n",
              "      <td>-5.369132</td>\n",
              "    </tr>\n",
              "    <tr>\n",
              "      <th>1</th>\n",
              "      <td>75.00</td>\n",
              "      <td>31.25</td>\n",
              "      <td>0.701995</td>\n",
              "      <td>Haplic Calcisols</td>\n",
              "      <td>Agriculture</td>\n",
              "      <td>Agriculture</td>\n",
              "      <td>Agriculture</td>\n",
              "      <td>Agriculture</td>\n",
              "      <td>Agriculture</td>\n",
              "      <td>Agriculture</td>\n",
              "      <td>...</td>\n",
              "      <td>-2.454617</td>\n",
              "      <td>-4.457110</td>\n",
              "      <td>-6.00039</td>\n",
              "      <td>-3.347226</td>\n",
              "      <td>-1.840000</td>\n",
              "      <td>1.000000</td>\n",
              "      <td>0.800000</td>\n",
              "      <td>1.000000</td>\n",
              "      <td>3.300000</td>\n",
              "      <td>-1.900000</td>\n",
              "    </tr>\n",
              "    <tr>\n",
              "      <th>2</th>\n",
              "      <td>74.75</td>\n",
              "      <td>31.50</td>\n",
              "      <td>0.000000</td>\n",
              "      <td>Haplic Calcisols</td>\n",
              "      <td>Agriculture</td>\n",
              "      <td>Agriculture</td>\n",
              "      <td>Agriculture</td>\n",
              "      <td>Agriculture</td>\n",
              "      <td>Agriculture</td>\n",
              "      <td>Agriculture</td>\n",
              "      <td>...</td>\n",
              "      <td>-0.753646</td>\n",
              "      <td>-1.600000</td>\n",
              "      <td>-0.02000</td>\n",
              "      <td>-1.490000</td>\n",
              "      <td>-1.780000</td>\n",
              "      <td>-0.900000</td>\n",
              "      <td>0.754127</td>\n",
              "      <td>0.600000</td>\n",
              "      <td>0.200000</td>\n",
              "      <td>-0.500000</td>\n",
              "    </tr>\n",
              "    <tr>\n",
              "      <th>3</th>\n",
              "      <td>75.00</td>\n",
              "      <td>31.50</td>\n",
              "      <td>1.889588</td>\n",
              "      <td>Haplic Calcisols</td>\n",
              "      <td>Agriculture</td>\n",
              "      <td>Agriculture</td>\n",
              "      <td>Agriculture</td>\n",
              "      <td>Agriculture</td>\n",
              "      <td>Agriculture</td>\n",
              "      <td>Agriculture</td>\n",
              "      <td>...</td>\n",
              "      <td>3.954190</td>\n",
              "      <td>-3.838305</td>\n",
              "      <td>6.83308</td>\n",
              "      <td>19.310000</td>\n",
              "      <td>2.646981</td>\n",
              "      <td>2.198592</td>\n",
              "      <td>4.854617</td>\n",
              "      <td>-0.397419</td>\n",
              "      <td>0.671259</td>\n",
              "      <td>-0.280918</td>\n",
              "    </tr>\n",
              "    <tr>\n",
              "      <th>4</th>\n",
              "      <td>75.25</td>\n",
              "      <td>31.50</td>\n",
              "      <td>0.351011</td>\n",
              "      <td>Haplic Calcisols</td>\n",
              "      <td>Agriculture</td>\n",
              "      <td>Agriculture</td>\n",
              "      <td>Agriculture</td>\n",
              "      <td>Agriculture</td>\n",
              "      <td>Agriculture</td>\n",
              "      <td>Agriculture</td>\n",
              "      <td>...</td>\n",
              "      <td>0.140000</td>\n",
              "      <td>-2.130000</td>\n",
              "      <td>-0.40000</td>\n",
              "      <td>-1.470000</td>\n",
              "      <td>0.300000</td>\n",
              "      <td>-3.198811</td>\n",
              "      <td>-3.237203</td>\n",
              "      <td>0.246433</td>\n",
              "      <td>0.126418</td>\n",
              "      <td>-0.113382</td>\n",
              "    </tr>\n",
              "  </tbody>\n",
              "</table>\n",
              "<p>5 rows × 140 columns</p>\n",
              "</div>\n",
              "      <button class=\"colab-df-convert\" onclick=\"convertToInteractive('df-e4c22eaf-0947-4fea-9571-1b8e557c012c')\"\n",
              "              title=\"Convert this dataframe to an interactive table.\"\n",
              "              style=\"display:none;\">\n",
              "        \n",
              "  <svg xmlns=\"http://www.w3.org/2000/svg\" height=\"24px\"viewBox=\"0 0 24 24\"\n",
              "       width=\"24px\">\n",
              "    <path d=\"M0 0h24v24H0V0z\" fill=\"none\"/>\n",
              "    <path d=\"M18.56 5.44l.94 2.06.94-2.06 2.06-.94-2.06-.94-.94-2.06-.94 2.06-2.06.94zm-11 1L8.5 8.5l.94-2.06 2.06-.94-2.06-.94L8.5 2.5l-.94 2.06-2.06.94zm10 10l.94 2.06.94-2.06 2.06-.94-2.06-.94-.94-2.06-.94 2.06-2.06.94z\"/><path d=\"M17.41 7.96l-1.37-1.37c-.4-.4-.92-.59-1.43-.59-.52 0-1.04.2-1.43.59L10.3 9.45l-7.72 7.72c-.78.78-.78 2.05 0 2.83L4 21.41c.39.39.9.59 1.41.59.51 0 1.02-.2 1.41-.59l7.78-7.78 2.81-2.81c.8-.78.8-2.07 0-2.86zM5.41 20L4 18.59l7.72-7.72 1.47 1.35L5.41 20z\"/>\n",
              "  </svg>\n",
              "      </button>\n",
              "      \n",
              "  <style>\n",
              "    .colab-df-container {\n",
              "      display:flex;\n",
              "      flex-wrap:wrap;\n",
              "      gap: 12px;\n",
              "    }\n",
              "\n",
              "    .colab-df-convert {\n",
              "      background-color: #E8F0FE;\n",
              "      border: none;\n",
              "      border-radius: 50%;\n",
              "      cursor: pointer;\n",
              "      display: none;\n",
              "      fill: #1967D2;\n",
              "      height: 32px;\n",
              "      padding: 0 0 0 0;\n",
              "      width: 32px;\n",
              "    }\n",
              "\n",
              "    .colab-df-convert:hover {\n",
              "      background-color: #E2EBFA;\n",
              "      box-shadow: 0px 1px 2px rgba(60, 64, 67, 0.3), 0px 1px 3px 1px rgba(60, 64, 67, 0.15);\n",
              "      fill: #174EA6;\n",
              "    }\n",
              "\n",
              "    [theme=dark] .colab-df-convert {\n",
              "      background-color: #3B4455;\n",
              "      fill: #D2E3FC;\n",
              "    }\n",
              "\n",
              "    [theme=dark] .colab-df-convert:hover {\n",
              "      background-color: #434B5C;\n",
              "      box-shadow: 0px 1px 3px 1px rgba(0, 0, 0, 0.15);\n",
              "      filter: drop-shadow(0px 1px 2px rgba(0, 0, 0, 0.3));\n",
              "      fill: #FFFFFF;\n",
              "    }\n",
              "  </style>\n",
              "\n",
              "      <script>\n",
              "        const buttonEl =\n",
              "          document.querySelector('#df-e4c22eaf-0947-4fea-9571-1b8e557c012c button.colab-df-convert');\n",
              "        buttonEl.style.display =\n",
              "          google.colab.kernel.accessAllowed ? 'block' : 'none';\n",
              "\n",
              "        async function convertToInteractive(key) {\n",
              "          const element = document.querySelector('#df-e4c22eaf-0947-4fea-9571-1b8e557c012c');\n",
              "          const dataTable =\n",
              "            await google.colab.kernel.invokeFunction('convertToInteractive',\n",
              "                                                     [key], {});\n",
              "          if (!dataTable) return;\n",
              "\n",
              "          const docLinkHtml = 'Like what you see? Visit the ' +\n",
              "            '<a target=\"_blank\" href=https://colab.research.google.com/notebooks/data_table.ipynb>data table notebook</a>'\n",
              "            + ' to learn more about interactive tables.';\n",
              "          element.innerHTML = '';\n",
              "          dataTable['output_type'] = 'display_data';\n",
              "          await google.colab.output.renderOutput(dataTable, element);\n",
              "          const docLink = document.createElement('div');\n",
              "          docLink.innerHTML = docLinkHtml;\n",
              "          element.appendChild(docLink);\n",
              "        }\n",
              "      </script>\n",
              "    </div>\n",
              "  </div>\n",
              "  "
            ]
          },
          "metadata": {},
          "execution_count": 9
        }
      ]
    },
    {
      "cell_type": "code",
      "source": [
        "from sklearn.preprocessing import OrdinalEncoder"
      ],
      "metadata": {
        "id": "cpIxc3a8X2Zk"
      },
      "execution_count": null,
      "outputs": []
    },
    {
      "cell_type": "code",
      "source": [
        "X=df.drop(['GW_2019'],axis=1)\n",
        "y=df['GW_2019']"
      ],
      "metadata": {
        "id": "5EvpB2oEYF_9"
      },
      "execution_count": null,
      "outputs": []
    },
    {
      "cell_type": "code",
      "source": [
        "X1=pd.get_dummies(X)"
      ],
      "metadata": {
        "id": "vbhtC-0ZYTiy"
      },
      "execution_count": null,
      "outputs": []
    },
    {
      "cell_type": "code",
      "source": [
        "X1.shape"
      ],
      "metadata": {
        "colab": {
          "base_uri": "https://localhost:8080/"
        },
        "id": "XbnVdjUVYa3C",
        "outputId": "a19e0fdb-5127-4c33-f67d-90eb645ec08d"
      },
      "execution_count": null,
      "outputs": [
        {
          "output_type": "execute_result",
          "data": {
            "text/plain": [
              "(75, 300)"
            ]
          },
          "metadata": {},
          "execution_count": 15
        }
      ]
    },
    {
      "cell_type": "code",
      "source": [
        "from sklearn.ensemble import RandomForestRegressor\n",
        "from sklearn.metrics import mean_squared_error, r2_score"
      ],
      "metadata": {
        "id": "v1qz53FVYb_d"
      },
      "execution_count": null,
      "outputs": []
    },
    {
      "cell_type": "code",
      "source": [
        "X_train, X_test, y_train, y_test = train_test_split(X1, y, test_size=0.2, random_state=42)"
      ],
      "metadata": {
        "id": "-OVd4Bf_YiAK"
      },
      "execution_count": null,
      "outputs": []
    },
    {
      "cell_type": "code",
      "source": [
        "model = RandomForestRegressor(n_estimators=100, random_state=42)\n",
        "model.fit(X_train, y_train)\n",
        "y_pred = model.predict(X_test)\n",
        "mse = mean_squared_error(y_test, y_pred)\n",
        "rmse = np.sqrt(mse)\n",
        "r2 = r2_score(y_test, y_pred)\n",
        "print(f'MSE: {mse:.2f}, RMSE: {rmse:.2f}, R2 Score: {r2:.2f}')"
      ],
      "metadata": {
        "colab": {
          "base_uri": "https://localhost:8080/"
        },
        "id": "PFuOP9lYZZB4",
        "outputId": "c4316899-df1c-493e-b3b3-3f119b9317ef"
      },
      "execution_count": null,
      "outputs": [
        {
          "output_type": "stream",
          "name": "stdout",
          "text": [
            "MSE: 3.02, RMSE: 1.74, R2 Score: 0.07\n"
          ]
        }
      ]
    },
    {
      "cell_type": "code",
      "source": [
        "from sklearn.linear_model import LinearRegression\n",
        "model = LinearRegression()\n",
        "model.fit(X_train, y_train)\n",
        "y_pred = model.predict(X_test)\n",
        "mse = mean_squared_error(y_test, y_pred)\n",
        "rmse = np.sqrt(mse)\n",
        "r2 = r2_score(y_test, y_pred)\n",
        "print(f'MSE: {mse:.2f}, RMSE: {rmse:.2f}, R2 Score: {r2:.2f}')"
      ],
      "metadata": {
        "colab": {
          "base_uri": "https://localhost:8080/"
        },
        "id": "Wc0UWhI4b5dv",
        "outputId": "94bfa892-31c6-4525-f8c5-e397b32d03ed"
      },
      "execution_count": null,
      "outputs": [
        {
          "output_type": "stream",
          "name": "stdout",
          "text": [
            "MSE: 16.80, RMSE: 4.10, R2 Score: -4.19\n"
          ]
        }
      ]
    },
    {
      "cell_type": "code",
      "source": [
        "from sklearn.neural_network import MLPRegressor\n",
        "mlp = MLPRegressor(hidden_layer_sizes=(350,250,50), activation='relu', solver='adam', max_iter=1000, random_state=42)\n",
        "mlp.fit(X_train, y_train)"
      ],
      "metadata": {
        "id": "6MyRHgC-gXou"
      },
      "execution_count": null,
      "outputs": []
    },
    {
      "cell_type": "code",
      "source": [
        "cv=ShuffleSplit(n_splits=10,test_size=0.1,random_state=42)"
      ],
      "metadata": {
        "id": "PRbp8ImgYmPB"
      },
      "execution_count": null,
      "outputs": []
    },
    {
      "cell_type": "code",
      "source": [
        "rfg = RandomForestRegressor(n_estimators=100, random_state=42)\n",
        "rfg_cv_results=cross_validate(rfg,X1,\n",
        "                                  y,\n",
        "                                  cv=cv,scoring='neg_mean_squared_error',\n",
        "                                  return_train_score=True,\n",
        "                                  return_estimator=True)\n",
        "train_error = -1 * rfg_cv_results['train_score']\n",
        "test_error = -1 * rfg_cv_results['test_score']\n",
        "\n",
        "print(f\"MSE on the train set:\\n\"f\"{train_error.mean():.3f} +/- {train_error.std():.3f}\")\n",
        "print(f\"MSEon the test set:\\n\"\n",
        "      f\"{test_error.mean():.3f} +/- {test_error.std():.3f}\")"
      ],
      "metadata": {
        "colab": {
          "base_uri": "https://localhost:8080/"
        },
        "id": "Z0D_vSkBY7pl",
        "outputId": "3f282ac1-87db-4098-b1f7-eb50f3113a12"
      },
      "execution_count": null,
      "outputs": [
        {
          "output_type": "stream",
          "name": "stdout",
          "text": [
            "MSE on the train set:\n",
            "0.494 +/- 0.087\n",
            "MSEon the test set:\n",
            "4.057 +/- 3.732\n"
          ]
        }
      ]
    },
    {
      "cell_type": "code",
      "source": [
        "from sklearn.pipeline import Pipeline\n",
        "from sklearn.preprocessing import StandardScaler,PolynomialFeatures"
      ],
      "metadata": {
        "id": "IW7nBzsybGBH"
      },
      "execution_count": null,
      "outputs": []
    },
    {
      "cell_type": "code",
      "source": [
        "poly = PolynomialFeatures(degree=2)\n",
        "x_train_poly = poly.fit_transform(X_train)\n",
        "x_test_poly=poly.fit_transform(X_test)\n",
        "\n",
        "model = LinearRegression()\n",
        "model.fit(x_train_poly, y_train)\n",
        "\n",
        "y_pred = model.predict(x_test_poly)\n",
        "mse = mean_squared_error(y_test, y_pred)\n",
        "rmse = np.sqrt(mse)\n",
        "r2 = r2_score(y_test, y_pred)\n",
        "print(f'MSE: {mse:.2f}, RMSE: {rmse:.2f}, R2 Score: {r2:.2f}')"
      ],
      "metadata": {
        "colab": {
          "base_uri": "https://localhost:8080/"
        },
        "id": "uuIAYx8BmvSc",
        "outputId": "69b0c05d-1e76-4766-a954-1e71f6c3a2ad"
      },
      "execution_count": null,
      "outputs": [
        {
          "output_type": "stream",
          "name": "stdout",
          "text": [
            "MSE: 13.34, RMSE: 3.65, R2 Score: -3.12\n"
          ]
        }
      ]
    },
    {
      "cell_type": "code",
      "source": [
        "poly_reg_pipeline = Pipeline([(\"poly\", PolynomialFeatures(degree=2)),\n",
        "                              (\"feature_scaling\", StandardScaler()),\n",
        "                              (\"lin_reg\", LinearRegression())])\n",
        "poly_reg_cv_results = cross_validate(poly_reg_pipeline,\n",
        "                                    X_train, \n",
        "                                    y_train, \n",
        "                                    cv=cv,\n",
        "                                    scoring=\"neg_mean_squared_error\",\n",
        "                                    return_train_score=True,\n",
        "                                    return_estimator=True)\n",
        "\n",
        "poly_reg_train_error = -1 * poly_reg_cv_results['train_score']\n",
        "poly_reg_test_error = -1 * poly_reg_cv_results['test_score']\n",
        "\n",
        "print(f\"Mean absolute error of linear regression model on the train set:\\n\"\n",
        "      f\"{poly_reg_train_error.mean():.3f} +/- {poly_reg_train_error.std():.3f}\")\n",
        "print(f\"Mean absolute error of linear regression model on the test set:\\n\"\n",
        "      f\"{poly_reg_test_error.mean():.3f} +/- {poly_reg_test_error.std():.3f}\")"
      ],
      "metadata": {
        "colab": {
          "base_uri": "https://localhost:8080/"
        },
        "id": "Dgtb4vC7lyCG",
        "outputId": "b28de51c-86e3-4f34-c280-4826016ec3c0"
      },
      "execution_count": null,
      "outputs": [
        {
          "output_type": "stream",
          "name": "stdout",
          "text": [
            "Mean absolute error of linear regression model on the train set:\n",
            "0.000 +/- 0.000\n",
            "Mean absolute error of linear regression model on the test set:\n",
            "6.008 +/- 5.115\n"
          ]
        }
      ]
    },
    {
      "cell_type": "code",
      "source": [],
      "metadata": {
        "id": "nnqf8oNNmFAs"
      },
      "execution_count": null,
      "outputs": []
    }
  ]
}